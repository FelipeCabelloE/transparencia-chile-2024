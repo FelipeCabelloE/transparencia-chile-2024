{
 "cells": [
  {
   "cell_type": "code",
   "execution_count": 1,
   "metadata": {},
   "outputs": [],
   "source": [
    "import pandas as pd\n",
    "from pathlib import Path\n",
    "\n",
    "path = \"../data/raw/info_estab/\"\n",
    "files = Path(path).rglob('*.csv')"
   ]
  },
  {
   "cell_type": "code",
   "execution_count": 2,
   "metadata": {},
   "outputs": [],
   "source": [
    "from pandas.core.frame import DataFrame\n",
    "\n",
    "EE_dfs: list[DataFrame] = [pd.read_csv(filepath, sep=\";\", low_memory=False) for filepath in files]"
   ]
  },
  {
   "cell_type": "code",
   "execution_count": 3,
   "metadata": {},
   "outputs": [
    {
     "data": {
      "text/plain": [
       "10"
      ]
     },
     "execution_count": 3,
     "metadata": {},
     "output_type": "execute_result"
    }
   ],
   "source": [
    "len(EE_dfs)"
   ]
  },
  {
   "cell_type": "code",
   "execution_count": 9,
   "metadata": {},
   "outputs": [
    {
     "name": "stdout",
     "output_type": "stream",
     "text": [
      "Column name occurrences:\n",
      "'agno' -> **10**\n",
      "'rbd' -> **10**\n",
      "'dgv_rbd' -> **10**\n",
      "'nom_rbd' -> **10**\n",
      "'cod_reg_rbd' -> **10**\n",
      "'cod_pro_rbd' -> **10**\n",
      "'cod_com_rbd' -> **10**\n",
      "'nom_com_rbd' -> **10**\n",
      "'cod_depe' -> **10**\n",
      "'cod_depe2' -> **10**\n",
      "'rural_rbd' -> **10**\n",
      "'latitud' -> **10**\n",
      "'longitud' -> **10**\n",
      "'convenio_pie' -> **10**\n",
      "'ens_01' -> **10**\n",
      "'ens_02' -> **10**\n",
      "'ens_03' -> **10**\n",
      "'ens_04' -> **10**\n",
      "'ens_05' -> **10**\n",
      "'ens_06' -> **10**\n",
      "'ens_07' -> **10**\n",
      "'ens_08' -> **10**\n",
      "'ens_09' -> **10**\n",
      "'ens_10' -> **6**\n",
      "'ori_religiosa' -> **10**\n",
      "'ori_otro_glosa' -> **10**\n",
      "'pago_matricula' -> **10**\n",
      "'pago_mensual' -> **10**\n",
      "'cod_deprov_rbd' -> **9**\n",
      "'nom_deprov_rbd' -> **9**\n",
      "'matricula' -> **9**\n",
      "'estado_estab' -> **9**\n",
      "'mrun' -> **8**\n",
      "'rut_sostenedor' -> **8**\n",
      "'p_juridica' -> **8**\n",
      "'nom_reg_rbd_a' -> **5**\n",
      "'ens_11' -> **5**\n",
      "'pace' -> **2**\n",
      "'mat_total' -> **2**\n",
      "'espe_01' -> **1**\n",
      "'espe_02' -> **1**\n",
      "'espe_03' -> **1**\n",
      "'espe_04' -> **1**\n",
      "'espe_05' -> **1**\n",
      "'espe_06' -> **1**\n",
      "'espe_07' -> **1**\n",
      "'espe_08' -> **1**\n",
      "'espe_09' -> **1**\n",
      "'espe_10' -> **1**\n",
      "'espe_11' -> **1**\n"
     ]
    }
   ],
   "source": [
    "from collections import Counter\n",
    "import unicodedata\n",
    "\n",
    "all_columns = [col for df in EE_dfs for col in df.columns]\n",
    "\n",
    "column_counts = Counter(all_columns)\n",
    "\n",
    "print(\"Column name occurrences:\")\n",
    "for col, count in column_counts.items():\n",
    "    print(f\"'{col}' -> **{count}**\")\n",
    "    # print(f\"  - Length: {len(col)}\")\n",
    "    #print(f\"  - Unicode name: {[unicodedata.name(c) for c in col]}\")\n",
    "    # print(f\"  - Repr: {repr(col)}\")\n"
   ]
  },
  {
   "cell_type": "code",
   "execution_count": null,
   "metadata": {},
   "outputs": [],
   "source": [
    "columns_to_keep = ['agno', 'rbd', 'nom_rbd', 'nom_com_rbd','cod_com_rbd', 'cod_reg_rbd', 'cod_depe', 'cod_depe2', 'rural_rbd', 'latitud', 'longitud', 'convenio_pie', 'ori_religiosa', 'pago_matricula', 'pago_mensual']"
   ]
  },
  {
   "cell_type": "code",
   "execution_count": 5,
   "metadata": {},
   "outputs": [],
   "source": [
    "for df in EE_dfs:\n",
    "    df.rename(columns={column:column.casefold().strip() for column in df.columns}, inplace=True)\n",
    "    \n",
    "for df in EE_dfs:\n",
    "    df.rename(columns={\"\\ufeffagno\":\"agno\"}, inplace=True)\n",
    "    \n",
    "for df in EE_dfs:\n",
    "    df.rename(columns={\"ïagno\":\"agno\"}, inplace=True)"
   ]
  },
  {
   "cell_type": "code",
   "execution_count": null,
   "metadata": {},
   "outputs": [],
   "source": []
  }
 ],
 "metadata": {
  "kernelspec": {
   "display_name": "Python 3",
   "language": "python",
   "name": "python3"
  },
  "language_info": {
   "codemirror_mode": {
    "name": "ipython",
    "version": 3
   },
   "file_extension": ".py",
   "mimetype": "text/x-python",
   "name": "python",
   "nbconvert_exporter": "python",
   "pygments_lexer": "ipython3",
   "version": "3.12.3"
  }
 },
 "nbformat": 4,
 "nbformat_minor": 2
}

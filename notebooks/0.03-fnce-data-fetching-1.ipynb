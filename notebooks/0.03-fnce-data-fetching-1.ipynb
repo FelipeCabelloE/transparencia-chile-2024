{
 "cells": [
  {
   "cell_type": "markdown",
   "metadata": {},
   "source": [
    "# The Failure of an API\n",
    "\n",
    "Ended up scraping using a selenium project. There were a lot more datasets than expected"
   ]
  },
  {
   "cell_type": "code",
   "execution_count": 1,
   "metadata": {},
   "outputs": [],
   "source": [
    "import sys\n",
    "\n",
    "sys.path.append(\"/workspace\")"
   ]
  },
  {
   "cell_type": "code",
   "execution_count": 5,
   "metadata": {},
   "outputs": [],
   "source": [
    "from autoleasing.logger.logger import logging\n",
    "\n",
    "# Setup logging\n",
    "logging.warning(\"Notebook configured\")"
   ]
  },
  {
   "cell_type": "markdown",
   "metadata": {},
   "source": [
    "# Notebook for scraping a leasing configuration site\n",
    "\n",
    "This notebook gathers som useful ways for scraping the new leasing site."
   ]
  },
  {
   "cell_type": "code",
   "execution_count": 7,
   "metadata": {},
   "outputs": [],
   "source": [
    "from selenium import webdriver\n",
    "from selenium.common.exceptions import InvalidSessionIdException\n",
    "from selenium.common.exceptions import WebDriverException\n",
    "from selenium.webdriver.common.by import By\n",
    "\n",
    "from autoleasing.chrome_options import set_chrome_options\n",
    "from autoleasing.pages.login_page import LoginPage\n",
    "\n",
    "# Setup hidden credentials as environment variables\n"
   ]
  },
  {
   "cell_type": "code",
   "execution_count": 125,
   "metadata": {},
   "outputs": [],
   "source": [
    "# Connect to the selenium server running in the chrome container\n",
    "driver = webdriver.Remote(command_executor=\"http://chrome:4444/wd/hub\", options=set_chrome_options())"
   ]
  },
  {
   "cell_type": "code",
   "execution_count": 100,
   "metadata": {},
   "outputs": [],
   "source": [
    "# Now you can interact with the browser through the driver\n",
    "try:\n",
    "    driver.get(\"https://datos.gob.cl/group/concurso-transparenta\")\n",
    "except WebDriverException:\n",
    "    driver.quit()\n",
    "    logging.warning(\"page not found, propagating error\")\n",
    "\n"
   ]
  },
  {
   "cell_type": "code",
   "execution_count": 104,
   "metadata": {},
   "outputs": [
    {
     "data": {
      "text/plain": [
       "'Defunciones por COVID19'"
      ]
     },
     "metadata": {},
     "output_type": "display_data"
    },
    {
     "data": {
      "text/plain": [
       "'https://datos.gob.cl/dataset/defunciones-por-covid19'"
      ]
     },
     "metadata": {},
     "output_type": "display_data"
    },
    {
     "data": {
      "text/plain": [
       "'Ejecución Presupuestaria de Iniciativas de Inversión Acumulado 2024'"
      ]
     },
     "metadata": {},
     "output_type": "display_data"
    },
    {
     "data": {
      "text/plain": [
       "'https://datos.gob.cl/dataset/ejecucion-presupuestaria-de-iniciativas-de-inversion-acumulado-2024'"
      ]
     },
     "metadata": {},
     "output_type": "display_data"
    },
    {
     "data": {
      "text/plain": [
       "'Ejecución Presupuestaria a Mayo de 2024 del Gobierno Central'"
      ]
     },
     "metadata": {},
     "output_type": "display_data"
    },
    {
     "data": {
      "text/plain": [
       "'https://datos.gob.cl/dataset/ejecucion-presupuestaria-a-mayo-de-2024-del-gobierno-central'"
      ]
     },
     "metadata": {},
     "output_type": "display_data"
    },
    {
     "data": {
      "text/plain": [
       "'Atenciones de urgencias de causas respiratorias por semana epidemiológica'"
      ]
     },
     "metadata": {},
     "output_type": "display_data"
    },
    {
     "data": {
      "text/plain": [
       "'https://datos.gob.cl/dataset/atenciones-de-urgencia-causas-respiratorias'"
      ]
     },
     "metadata": {},
     "output_type": "display_data"
    },
    {
     "data": {
      "text/plain": [
       "'Establecimientos de Salud vigentes'"
      ]
     },
     "metadata": {},
     "output_type": "display_data"
    },
    {
     "data": {
      "text/plain": [
       "'https://datos.gob.cl/dataset/establecimientos-de-salud-vigentes'"
      ]
     },
     "metadata": {},
     "output_type": "display_data"
    },
    {
     "data": {
      "text/plain": [
       "'Décima Encuesta Nacional de la Juventud'"
      ]
     },
     "metadata": {},
     "output_type": "display_data"
    },
    {
     "data": {
      "text/plain": [
       "'https://datos.gob.cl/dataset/decima-encuesta-nacional-de-la-juventud'"
      ]
     },
     "metadata": {},
     "output_type": "display_data"
    },
    {
     "data": {
      "text/plain": [
       "'10ma Encuesta Nacional de Juventud'"
      ]
     },
     "metadata": {},
     "output_type": "display_data"
    },
    {
     "data": {
      "text/plain": [
       "'https://datos.gob.cl/dataset/10ma-encuesta-nacional-de-juventud'"
      ]
     },
     "metadata": {},
     "output_type": "display_data"
    },
    {
     "data": {
      "text/plain": [
       "'Destinatarios finales de residuos no peligrosos 2022'"
      ]
     },
     "metadata": {},
     "output_type": "display_data"
    },
    {
     "data": {
      "text/plain": [
       "'https://datos.gob.cl/dataset/destinatarios-finales-de-residuos-no-peligrosos-2022'"
      ]
     },
     "metadata": {},
     "output_type": "display_data"
    },
    {
     "data": {
      "text/plain": [
       "'Farmacias en Chile'"
      ]
     },
     "metadata": {},
     "output_type": "display_data"
    },
    {
     "data": {
      "text/plain": [
       "'https://datos.gob.cl/dataset/farmacias-en-chile'"
      ]
     },
     "metadata": {},
     "output_type": "display_data"
    },
    {
     "data": {
      "text/plain": [
       "'Denuncias'"
      ]
     },
     "metadata": {},
     "output_type": "display_data"
    },
    {
     "data": {
      "text/plain": [
       "'https://datos.gob.cl/dataset/denuncias'"
      ]
     },
     "metadata": {},
     "output_type": "display_data"
    },
    {
     "data": {
      "text/plain": [
       "'Solicitudes de mediación'"
      ]
     },
     "metadata": {},
     "output_type": "display_data"
    },
    {
     "data": {
      "text/plain": [
       "'https://datos.gob.cl/dataset/solicitudes-de-mediacion'"
      ]
     },
     "metadata": {},
     "output_type": "display_data"
    },
    {
     "data": {
      "text/plain": [
       "'Procesos Administrativos Sancionatorios'"
      ]
     },
     "metadata": {},
     "output_type": "display_data"
    },
    {
     "data": {
      "text/plain": [
       "'https://datos.gob.cl/dataset/procesos-administrativos-sancionatorios'"
      ]
     },
     "metadata": {},
     "output_type": "display_data"
    },
    {
     "data": {
      "text/plain": [
       "'Ley de Presupuestos Inicial y Vigente a Mayo de 2024 del Gobierno Central'"
      ]
     },
     "metadata": {},
     "output_type": "display_data"
    },
    {
     "data": {
      "text/plain": [
       "'https://datos.gob.cl/dataset/ley-de-presupuestos-inicial-y-vigente-a-mayo-de-2024-del-gobierno-central'"
      ]
     },
     "metadata": {},
     "output_type": "display_data"
    },
    {
     "data": {
      "text/plain": [
       "'Proyectos de Obra Pública (ST 31)'"
      ]
     },
     "metadata": {},
     "output_type": "display_data"
    },
    {
     "data": {
      "text/plain": [
       "'https://datos.gob.cl/dataset/proyectos-de-obra-publica-st-31'"
      ]
     },
     "metadata": {},
     "output_type": "display_data"
    },
    {
     "data": {
      "text/plain": [
       "'Ofertas en Licitaciones de Obra Pública (ST 31)'"
      ]
     },
     "metadata": {},
     "output_type": "display_data"
    },
    {
     "data": {
      "text/plain": [
       "'https://datos.gob.cl/dataset/ofertas-en-licitaciones-de-obra-publica-st-31'"
      ]
     },
     "metadata": {},
     "output_type": "display_data"
    },
    {
     "data": {
      "text/plain": [
       "'Contratos de Obra Pública (ST 31)'"
      ]
     },
     "metadata": {},
     "output_type": "display_data"
    },
    {
     "data": {
      "text/plain": [
       "'https://datos.gob.cl/dataset/contratos-de-obra-publica-st-31'"
      ]
     },
     "metadata": {},
     "output_type": "display_data"
    },
    {
     "data": {
      "text/plain": [
       "'Requisitos de Contratistas por Contratos de Obra Pública (ST 31)'"
      ]
     },
     "metadata": {},
     "output_type": "display_data"
    },
    {
     "data": {
      "text/plain": [
       "'https://datos.gob.cl/dataset/requisitos-de-contratistas-por-contratos-de-obra-publica-st-31'"
      ]
     },
     "metadata": {},
     "output_type": "display_data"
    },
    {
     "data": {
      "text/plain": [
       "'Pagos Asociados a Contratos de Obra Pública (ST 31)'"
      ]
     },
     "metadata": {},
     "output_type": "display_data"
    },
    {
     "data": {
      "text/plain": [
       "'https://datos.gob.cl/dataset/pagos-asociados-a-contratos-de-obra-publica-st-31'"
      ]
     },
     "metadata": {},
     "output_type": "display_data"
    },
    {
     "data": {
      "text/plain": [
       "'Notificaciones ENO'"
      ]
     },
     "metadata": {},
     "output_type": "display_data"
    },
    {
     "data": {
      "text/plain": [
       "'https://datos.gob.cl/dataset/notificaciones-eno'"
      ]
     },
     "metadata": {},
     "output_type": "display_data"
    },
    {
     "data": {
      "text/plain": [
       "'Atenciones de urgencia de la red pública de Salud'"
      ]
     },
     "metadata": {},
     "output_type": "display_data"
    },
    {
     "data": {
      "text/plain": [
       "'https://datos.gob.cl/dataset/atenciones-de-urgencia'"
      ]
     },
     "metadata": {},
     "output_type": "display_data"
    }
   ],
   "source": [
    "checklist = driver.find_elements(By.XPATH, \"//*[@class='list-unstyled mb-5']/*\")\n",
    "\n",
    "for i in checklist:\n",
    "    display(i.find_element(By.CLASS_NAME, \"black-link-hover\").text)  # type: ignore[typeddict-unknown-key]\n",
    "    display(i.find_element(By.CLASS_NAME, \"black-link-hover\").get_property(\"href\"))\n",
    "    \n",
    "links = {i.find_element(By.CLASS_NAME, \"black-link-hover\").get_property(\"href\"):i.find_element(By.CLASS_NAME, \"black-link-hover\").text for i in checklist}"
   ]
  },
  {
   "cell_type": "code",
   "execution_count": null,
   "metadata": {},
   "outputs": [],
   "source": []
  },
  {
   "cell_type": "code",
   "execution_count": 107,
   "metadata": {},
   "outputs": [
    {
     "data": {
      "text/plain": [
       "{'https://datos.gob.cl/dataset/defunciones-por-covid19': 'Defunciones por COVID19',\n",
       " 'https://datos.gob.cl/dataset/ejecucion-presupuestaria-de-iniciativas-de-inversion-acumulado-2024': 'Ejecución Presupuestaria de Iniciativas de Inversión Acumulado 2024',\n",
       " 'https://datos.gob.cl/dataset/ejecucion-presupuestaria-a-mayo-de-2024-del-gobierno-central': 'Ejecución Presupuestaria a Mayo de 2024 del Gobierno Central',\n",
       " 'https://datos.gob.cl/dataset/atenciones-de-urgencia-causas-respiratorias': 'Atenciones de urgencias de causas respiratorias por semana epidemiológica',\n",
       " 'https://datos.gob.cl/dataset/establecimientos-de-salud-vigentes': 'Establecimientos de Salud vigentes',\n",
       " 'https://datos.gob.cl/dataset/decima-encuesta-nacional-de-la-juventud': 'Décima Encuesta Nacional de la Juventud',\n",
       " 'https://datos.gob.cl/dataset/10ma-encuesta-nacional-de-juventud': '10ma Encuesta Nacional de Juventud',\n",
       " 'https://datos.gob.cl/dataset/destinatarios-finales-de-residuos-no-peligrosos-2022': 'Destinatarios finales de residuos no peligrosos 2022',\n",
       " 'https://datos.gob.cl/dataset/farmacias-en-chile': 'Farmacias en Chile',\n",
       " 'https://datos.gob.cl/dataset/denuncias': 'Denuncias',\n",
       " 'https://datos.gob.cl/dataset/solicitudes-de-mediacion': 'Solicitudes de mediación',\n",
       " 'https://datos.gob.cl/dataset/procesos-administrativos-sancionatorios': 'Procesos Administrativos Sancionatorios',\n",
       " 'https://datos.gob.cl/dataset/ley-de-presupuestos-inicial-y-vigente-a-mayo-de-2024-del-gobierno-central': 'Ley de Presupuestos Inicial y Vigente a Mayo de 2024 del Gobierno Central',\n",
       " 'https://datos.gob.cl/dataset/proyectos-de-obra-publica-st-31': 'Proyectos de Obra Pública (ST 31)',\n",
       " 'https://datos.gob.cl/dataset/ofertas-en-licitaciones-de-obra-publica-st-31': 'Ofertas en Licitaciones de Obra Pública (ST 31)',\n",
       " 'https://datos.gob.cl/dataset/contratos-de-obra-publica-st-31': 'Contratos de Obra Pública (ST 31)',\n",
       " 'https://datos.gob.cl/dataset/requisitos-de-contratistas-por-contratos-de-obra-publica-st-31': 'Requisitos de Contratistas por Contratos de Obra Pública (ST 31)',\n",
       " 'https://datos.gob.cl/dataset/pagos-asociados-a-contratos-de-obra-publica-st-31': 'Pagos Asociados a Contratos de Obra Pública (ST 31)',\n",
       " 'https://datos.gob.cl/dataset/notificaciones-eno': 'Notificaciones ENO',\n",
       " 'https://datos.gob.cl/dataset/atenciones-de-urgencia': 'Atenciones de urgencia de la red pública de Salud'}"
      ]
     },
     "execution_count": 107,
     "metadata": {},
     "output_type": "execute_result"
    }
   ],
   "source": [
    "links"
   ]
  },
  {
   "cell_type": "code",
   "execution_count": 48,
   "metadata": {},
   "outputs": [],
   "source": [
    "\n",
    "try:\n",
    "    driver.get(\"https://datos.gob.cl/dataset/defunciones-por-covid19\")\n",
    "except WebDriverException:\n",
    "    driver.quit()\n",
    "    logging.warning(\"page not found, propagating error\")\n",
    "\n"
   ]
  },
  {
   "cell_type": "code",
   "execution_count": 95,
   "metadata": {},
   "outputs": [],
   "source": [
    "files_classes = driver.find_elements(By.XPATH, \"//ul[@class='list-unstyled']/li/div/a[@title='Descargar']\")\n",
    "\n",
    "description = driver.find_element(By.XPATH, \"//section[@class='mb-4']\")\n"
   ]
  },
  {
   "cell_type": "code",
   "execution_count": 98,
   "metadata": {},
   "outputs": [
    {
     "data": {
      "text/plain": [
       "'https://datos.gob.cl/dataset/8982a05a-91f7-422d-97bc-3eee08fde784/resource/8e5539b7-10b2-409b-ae5a-36dae4faf817/download/defunciones_covid19_2020_2024.csv'"
      ]
     },
     "metadata": {},
     "output_type": "display_data"
    },
    {
     "data": {
      "text/plain": [
       "'https://datos.gob.cl/dataset/8982a05a-91f7-422d-97bc-3eee08fde784/resource/80b3e81c-2f06-4919-a3ee-c4f94714c53a/download/diccionario-de-datos-bbdd-covid19.xlsx'"
      ]
     },
     "metadata": {},
     "output_type": "display_data"
    }
   ],
   "source": [
    "for i in files_classes:\n",
    "    display(i.get_property(\"href\"))"
   ]
  },
  {
   "cell_type": "code",
   "execution_count": 63,
   "metadata": {},
   "outputs": [
    {
     "data": {
      "text/plain": [
       "'Defunciones por COVID19\\nEste conjunto de datos contiene los registros acumulados de defunciones (fallecimientos) por COVID19 inscritos en el Servicio de Registro Civil y codificados por el Departamento de estadística e información de Salud DEIS. Se consideraron las causas CIE10 códigos:\\nU07.1: Virus Identificado.\\nU07.2: Virus No Identificado.\\nU09.9: Condición de salud posterior a COVID19 no especificada.\\nSe consideran para la confección de este conjunto de datos los registros en estado cerrado (que no registrarán cambios) del año 2020 y los registros preliminares (en proceso de recolección y validación) de los años 2021 a 2024.\\nImportante: Los registros preliminares pueden sufrir actualizaciones en el tiempo.'"
      ]
     },
     "execution_count": 63,
     "metadata": {},
     "output_type": "execute_result"
    }
   ],
   "source": [
    "description.text"
   ]
  },
  {
   "cell_type": "code",
   "execution_count": 128,
   "metadata": {},
   "outputs": [],
   "source": [
    "from selenium.webdriver.support.ui import WebDriverWait\n",
    "from selenium.webdriver.support import expected_conditions as EC\n",
    "from selenium.common.exceptions import TimeoutException\n",
    "\n",
    "\n",
    "data = []\n",
    "for dataset_link, dataset_name in links.items():\n",
    "    try:\n",
    "        driver.get(dataset_link)\n",
    "    except WebDriverException:\n",
    "        driver.quit()\n",
    "        logging.warning(\"page not found, propagating error\")\n",
    "    \n",
    "    \n",
    "    try:\n",
    "        files_classes = WebDriverWait(driver, 10).until(EC.visibility_of_all_elements_located((By.XPATH, \"//ul[@class='list-unstyled']/li/div/a[@title='Descargar']\")))\n",
    "    except TimeoutException:\n",
    "        files_classes = WebDriverWait(driver, 10).until(EC.visibility_of_all_elements_located((By.XPATH, \"//ul[@class='list-unstyled']/li/div/a[@title='Ir al recurso']\")))\n",
    "        \n",
    "    description = driver.find_element(By.XPATH, \"//section[@class='mb-4']\")\n",
    "    for i in files_classes:\n",
    "        file_url = i.get_property(\"href\")\n",
    "        data.append({\n",
    "            'dataset_name': dataset_name,\n",
    "            'dataset_link': dataset_link,\n",
    "            'file_url': file_url,\n",
    "            'dataset_description': description.text,\n",
    "        })\n",
    "    \n",
    "import pandas as pd\n",
    "\n",
    "df = pd.DataFrame(data)\n",
    "\n"
   ]
  },
  {
   "cell_type": "code",
   "execution_count": 130,
   "metadata": {},
   "outputs": [],
   "source": [
    "df.to_csv(\"/workspace/notebooks/transparenta2024links.csv\")"
   ]
  },
  {
   "cell_type": "code",
   "execution_count": 132,
   "metadata": {},
   "outputs": [
    {
     "name": "stdout",
     "output_type": "stream",
     "text": [
      "<class 'pandas.core.frame.DataFrame'>\n",
      "RangeIndex: 45 entries, 0 to 44\n",
      "Data columns (total 4 columns):\n",
      " #   Column               Non-Null Count  Dtype \n",
      "---  ------               --------------  ----- \n",
      " 0   dataset_name         45 non-null     object\n",
      " 1   dataset_link         45 non-null     object\n",
      " 2   file_url             45 non-null     object\n",
      " 3   dataset_description  45 non-null     object\n",
      "dtypes: object(4)\n",
      "memory usage: 1.5+ KB\n"
     ]
    }
   ],
   "source": [
    "df.info()files_classes = WebDriverWait(driver, 20).until(EC.visibility_of_all_elements_located((By.XPATH, \"//ul[@class='list-unstyled']/li/div/a[@title='Descargar']\")))"
   ]
  }
 ],
 "metadata": {
  "kernelspec": {
   "display_name": "Python 3",
   "language": "python",
   "name": "python3"
  },
  "language_info": {
   "codemirror_mode": {
    "name": "ipython",
    "version": 3
   },
   "file_extension": ".py",
   "mimetype": "text/x-python",
   "name": "python",
   "nbconvert_exporter": "python",
   "pygments_lexer": "ipython3",
   "version": "3.12.4"
  }
 },
 "nbformat": 4,
 "nbformat_minor": 2
}

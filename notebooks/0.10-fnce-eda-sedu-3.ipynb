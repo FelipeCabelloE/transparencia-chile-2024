{
 "cells": [
  {
   "cell_type": "code",
   "execution_count": null,
   "metadata": {},
   "outputs": [],
   "source": []
  },
  {
   "cell_type": "code",
   "execution_count": 1,
   "metadata": {},
   "outputs": [],
   "source": [
    "import pandas as pd\n",
    "from pathlib import Path\n",
    "\n",
    "path = \"../data/raw/matricula/\"\n",
    "files = Path(path).rglob('*.csv')"
   ]
  },
  {
   "cell_type": "code",
   "execution_count": 2,
   "metadata": {},
   "outputs": [],
   "source": [
    "from pandas.core.frame import DataFrame\n",
    "\n",
    "matriculas_dataframes: list[DataFrame] = [pd.read_csv(filepath, sep=\";\") for filepath in files]\n",
    "\n"
   ]
  },
  {
   "cell_type": "code",
   "execution_count": 10,
   "metadata": {},
   "outputs": [
    {
     "name": "stdout",
     "output_type": "stream",
     "text": [
      "Column name occurrences:\n",
      "agno: 10\n",
      "rbd: 10\n",
      "dgv_rbd: 10\n",
      "nom_rbd: 10\n",
      "cod_depe: 10\n",
      "cod_depe2: 10\n",
      "rural_rbd: 10\n",
      "cod_reg_rbd: 10\n",
      "cod_pro_rbd: 10\n",
      "cod_com_rbd: 10\n",
      "nom_com_rbd: 10\n",
      "mat_hom_1: 10\n",
      "mat_muj_1: 10\n",
      "mat_ens_1: 10\n",
      "mat_si_2: 10\n",
      "mat_hom_2: 10\n",
      "mat_muj_2: 10\n",
      "mat_ens_2: 10\n",
      "mat_hom_3: 10\n",
      "mat_muj_3: 10\n",
      "mat_ens_3: 10\n",
      "mat_hom_4: 10\n",
      "mat_muj_4: 10\n",
      "mat_ens_4: 10\n",
      "mat_hom_5: 10\n",
      "mat_muj_5: 10\n",
      "mat_ens_5: 10\n",
      "mat_hom_6: 10\n",
      "mat_muj_6: 10\n",
      "mat_ens_6: 10\n",
      "mat_hom_7: 10\n",
      "mat_muj_7: 10\n",
      "mat_ens_7: 10\n",
      "mat_hom_8: 10\n",
      "mat_muj_8: 10\n",
      "mat_ens_8: 10\n",
      "mat_hom_tot: 10\n",
      "mat_muj_tot: 10\n",
      "mat_si_tot: 10\n",
      "mat_total: 10\n",
      "cur_sim_01: 10\n",
      "cur_sim_02: 10\n",
      "cur_sim_03: 10\n",
      "cur_sim_04: 10\n",
      "cur_sim_05: 10\n",
      "cur_sim_06: 10\n",
      "cur_sim_07: 10\n",
      "cur_sim_08: 10\n",
      "cur_sim_tot: 10\n",
      "cur_comb_01: 10\n",
      "cur_comb_02: 10\n",
      "cur_comb_tot: 10\n",
      "mat_hom_gd: 2\n",
      "mat_muj_gd: 2\n",
      "mat_gd_total: 2\n",
      "cod_deprov_rbd: 9\n",
      "nom_deprov_rbd: 9\n",
      "estado_estab: 9\n",
      "mat_si_1: 6\n",
      "mat_si_4: 6\n",
      "mat_si_8: 2\n",
      "mat_si_3: 2\n",
      "mat_si_5: 5\n",
      "nom_reg_rbd_a: 4\n",
      "unnamed: 0: 1\n"
     ]
    }
   ],
   "source": [
    "from collections import Counter\n",
    "\n",
    "all_columns = [col for df in matriculas_dataframes for col in df.columns]\n",
    "\n",
    "column_counts = Counter(all_columns)\n",
    "\n",
    "print(\"Column name occurrences:\")\n",
    "for col, count in column_counts.items():\n",
    "    print(f\"{col}: {count}\")\n"
   ]
  },
  {
   "cell_type": "code",
   "execution_count": null,
   "metadata": {},
   "outputs": [],
   "source": [
    "columns_to_keep = ['agno', 'rbd', 'nom_rbd', 'mat_hom_1', 'mat_hom_2','mat_hom_3','mat_hom_4','mat_hom_5','mat_hom_6','mat_hom_7','mat_hom_8', 'mat_muj_1','mat_muj_2','mat_muj_3','mat_muj_4','mat_muj_5','mat_muj_6','mat_muj_7','mat_muj_8', 'mat_hom_tot', 'mat_muj_tot', 'mat_total']"
   ]
  },
  {
   "cell_type": "code",
   "execution_count": 4,
   "metadata": {},
   "outputs": [],
   "source": [
    "for df in matriculas_dataframes:\n",
    "    df.rename(columns={column:column.casefold().strip() for column in df.columns}, inplace=True)\n",
    "\n",
    "for df in matriculas_dataframes:\n",
    "    df.rename(columns={\"ïagno\":\"agno\"}, inplace=True)\n",
    "    \n"
   ]
  },
  {
   "cell_type": "code",
   "execution_count": 5,
   "metadata": {},
   "outputs": [],
   "source": [
    "for df in matriculas_dataframes:\n",
    "    df.rename(columns={'cur_com_01':'cur_comb_01','cur_com_02':'cur_comb_02','cur_com_tot':'cur_comb_tot'}, inplace=True)\n",
    "    \n"
   ]
  },
  {
   "cell_type": "code",
   "execution_count": 6,
   "metadata": {},
   "outputs": [],
   "source": [
    "concatenated_matricula = pd.concat(matriculas_dataframes, axis=0, ignore_index=True)"
   ]
  },
  {
   "cell_type": "code",
   "execution_count": 7,
   "metadata": {},
   "outputs": [
    {
     "data": {
      "text/plain": [
       "65"
      ]
     },
     "execution_count": 7,
     "metadata": {},
     "output_type": "execute_result"
    }
   ],
   "source": [
    "len(concatenated_matricula.columns)"
   ]
  },
  {
   "cell_type": "code",
   "execution_count": 8,
   "metadata": {},
   "outputs": [],
   "source": [
    "threshold = len(concatenated_matricula) * 0.95  # 2% of total rows\n",
    "\n",
    "# handle some sneaky characters\n",
    "# for column in concatenated_matricula.columns:\n",
    "#     concatenated_matricula[column] = concatenated_matricula[column].replace(' ', pd.NA)\n",
    "\n",
    "#concatenated_matricula_cleaned: DataFrame = concatenated_matricula.dropna(axis=1, thresh=threshold)\n",
    "#concatenated_matricula_cleaned = concatenated_matricula.dropna(how=\"all\")"
   ]
  },
  {
   "cell_type": "code",
   "execution_count": 9,
   "metadata": {},
   "outputs": [
    {
     "name": "stdout",
     "output_type": "stream",
     "text": [
      "<class 'pandas.core.frame.DataFrame'>\n",
      "RangeIndex: 158425 entries, 0 to 158424\n",
      "Data columns (total 65 columns):\n",
      " #   Column          Non-Null Count   Dtype  \n",
      "---  ------          --------------   -----  \n",
      " 0   agno            158425 non-null  int64  \n",
      " 1   rbd             158425 non-null  int64  \n",
      " 2   dgv_rbd         158425 non-null  int64  \n",
      " 3   nom_rbd         158185 non-null  object \n",
      " 4   cod_depe        158425 non-null  int64  \n",
      " 5   cod_depe2       158425 non-null  int64  \n",
      " 6   rural_rbd       158425 non-null  int64  \n",
      " 7   cod_reg_rbd     158425 non-null  int64  \n",
      " 8   cod_pro_rbd     158425 non-null  int64  \n",
      " 9   cod_com_rbd     158425 non-null  int64  \n",
      " 10  nom_com_rbd     158425 non-null  object \n",
      " 11  mat_hom_1       158425 non-null  int64  \n",
      " 12  mat_muj_1       158425 non-null  int64  \n",
      " 13  mat_ens_1       158425 non-null  int64  \n",
      " 14  mat_si_2        158425 non-null  int64  \n",
      " 15  mat_hom_2       158425 non-null  int64  \n",
      " 16  mat_muj_2       158425 non-null  int64  \n",
      " 17  mat_ens_2       158425 non-null  int64  \n",
      " 18  mat_hom_3       158425 non-null  int64  \n",
      " 19  mat_muj_3       158425 non-null  int64  \n",
      " 20  mat_ens_3       158425 non-null  int64  \n",
      " 21  mat_hom_4       158425 non-null  int64  \n",
      " 22  mat_muj_4       158425 non-null  int64  \n",
      " 23  mat_ens_4       158425 non-null  int64  \n",
      " 24  mat_hom_5       158425 non-null  int64  \n",
      " 25  mat_muj_5       158425 non-null  int64  \n",
      " 26  mat_ens_5       158425 non-null  int64  \n",
      " 27  mat_hom_6       158425 non-null  int64  \n",
      " 28  mat_muj_6       158425 non-null  int64  \n",
      " 29  mat_ens_6       158425 non-null  int64  \n",
      " 30  mat_hom_7       158425 non-null  int64  \n",
      " 31  mat_muj_7       158425 non-null  int64  \n",
      " 32  mat_ens_7       158425 non-null  int64  \n",
      " 33  mat_hom_8       158425 non-null  int64  \n",
      " 34  mat_muj_8       158425 non-null  int64  \n",
      " 35  mat_ens_8       158425 non-null  int64  \n",
      " 36  mat_hom_tot     158425 non-null  int64  \n",
      " 37  mat_muj_tot     158425 non-null  int64  \n",
      " 38  mat_si_tot      158425 non-null  int64  \n",
      " 39  mat_total       158425 non-null  int64  \n",
      " 40  cur_sim_01      158425 non-null  int64  \n",
      " 41  cur_sim_02      158425 non-null  int64  \n",
      " 42  cur_sim_03      158425 non-null  int64  \n",
      " 43  cur_sim_04      158425 non-null  int64  \n",
      " 44  cur_sim_05      158425 non-null  int64  \n",
      " 45  cur_sim_06      158425 non-null  int64  \n",
      " 46  cur_sim_07      158425 non-null  int64  \n",
      " 47  cur_sim_08      158425 non-null  int64  \n",
      " 48  cur_sim_tot     158425 non-null  int64  \n",
      " 49  cur_comb_01     158425 non-null  int64  \n",
      " 50  cur_comb_02     158425 non-null  int64  \n",
      " 51  cur_comb_tot    158425 non-null  int64  \n",
      " 52  mat_hom_gd      27975 non-null   float64\n",
      " 53  mat_muj_gd      27975 non-null   float64\n",
      " 54  mat_gd_total    27975 non-null   float64\n",
      " 55  cod_deprov_rbd  146364 non-null  float64\n",
      " 56  nom_deprov_rbd  146364 non-null  object \n",
      " 57  estado_estab    146364 non-null  float64\n",
      " 58  mat_si_1        97816 non-null   float64\n",
      " 59  mat_si_4        98170 non-null   object \n",
      " 60  mat_si_8        32014 non-null   float64\n",
      " 61  mat_si_3        32683 non-null   object \n",
      " 62  mat_si_5        82180 non-null   object \n",
      " 63  nom_reg_rbd_a   66156 non-null   object \n",
      " 64  unnamed: 0      16659 non-null   float64\n",
      "dtypes: float64(8), int64(50), object(7)\n",
      "memory usage: 78.6+ MB\n"
     ]
    }
   ],
   "source": [
    "concatenated_matricula.info()"
   ]
  },
  {
   "cell_type": "code",
   "execution_count": null,
   "metadata": {},
   "outputs": [],
   "source": [
    "\n"
   ]
  }
 ],
 "metadata": {
  "kernelspec": {
   "display_name": "Python 3",
   "language": "python",
   "name": "python3"
  },
  "language_info": {
   "codemirror_mode": {
    "name": "ipython",
    "version": 3
   },
   "file_extension": ".py",
   "mimetype": "text/x-python",
   "name": "python",
   "nbconvert_exporter": "python",
   "pygments_lexer": "ipython3",
   "version": "3.12.4"
  }
 },
 "nbformat": 4,
 "nbformat_minor": 2
}

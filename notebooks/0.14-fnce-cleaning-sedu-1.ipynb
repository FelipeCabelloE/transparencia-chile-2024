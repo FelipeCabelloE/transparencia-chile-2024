{
 "cells": [
  {
   "cell_type": "code",
   "execution_count": 2,
   "metadata": {},
   "outputs": [],
   "source": [
    "import pandas as pd\n",
    "from pandas.core.frame import DataFrame\n",
    "\n",
    "from pathlib import Path\n",
    "from collections import Counter\n",
    "import unicodedata\n"
   ]
  },
  {
   "cell_type": "code",
   "execution_count": 3,
   "metadata": {},
   "outputs": [],
   "source": [
    "# Define some helper functions\n",
    "\n",
    "def csv_loader(path:Path) ->list[DataFrame]:\n",
    "    \"\"\"Given a path, extracts and loads every csv recursively and then loads it into pd.df\n",
    "    \"\"\"\n",
    "    files = path.rglob('*.csv')\n",
    "    return [pd.read_csv(filepath, sep=\";\", low_memory=False) for filepath in files]\n",
    "\n",
    "\n",
    "def print_columns(dataframes:list[DataFrame], length=False, unicode=False, repr=False) -> None:\n",
    "    \"\"\"Print columns and ocurrences and more\n",
    "    \"\"\"\n",
    "    all_columns = [col for df in dataframes for col in df.columns]\n",
    "\n",
    "    column_counts = Counter(all_columns)\n",
    "\n",
    "    print(\"Column name occurrences:\")\n",
    "    for col, count in column_counts.items():\n",
    "        print(f\"'{col}' -> **{count}**\")\n",
    "        if length:\n",
    "            print(f\"  - Length: {len(col)}\")\n",
    "        if unicode:\n",
    "            print(f\"  - Unicode name: {[unicodedata.name(c) for c in col]}\")\n",
    "        if repr:\n",
    "            print(f\"  - Repr: {repr(col)}\")\n",
    "\n",
    "\n"
   ]
  },
  {
   "cell_type": "code",
   "execution_count": 4,
   "metadata": {},
   "outputs": [],
   "source": [
    "\n",
    "# The paths and columns to keep of the information we will be working with\n",
    "\n",
    "column_path_dict = {\n",
    "    \"denuncias\": [\n",
    "        \"../data/raw/denuncias/\",\n",
    "        [\n",
    "            \"agno\",\n",
    "            \"rbd\",\n",
    "            \"den_canal\",\n",
    "            \"den_estado\",\n",
    "            \"den_fec_creacion\",\n",
    "            \"den_fec_termino_denuncia\",\n",
    "            \"den_oficina\",\n",
    "            \"den_departamento\",\n",
    "            \"den_ambito\",\n",
    "            \"den_tema\",\n",
    "            \"den_subtema\",\n",
    "            \"den_sexo\",\n",
    "        ],\n",
    "    ],\n",
    "    \"ee_info\": [\n",
    "        \"../data/raw/info_estab/\",\n",
    "        [\n",
    "            \"agno\",\n",
    "            \"rbd\",\n",
    "            \"nom_rbd\",\n",
    "            \"nom_com_rbd\",\n",
    "            \"cod_com_rbd\",\n",
    "            \"cod_reg_rbd\",\n",
    "            \"cod_depe\",\n",
    "            \"cod_depe2\",\n",
    "            \"rural_rbd\",\n",
    "            \"latitud\",\n",
    "            \"longitud\",\n",
    "            \"convenio_pie\",\n",
    "            \"ori_religiosa\",\n",
    "            \"pago_matricula\",\n",
    "            \"pago_mensual\",\n",
    "        ],\n",
    "    ],\n",
    "    \"ee_sep\": [\n",
    "        \"../data/raw/estab_sep/\",\n",
    "        [\n",
    "            \"agno\",\n",
    "            \"rbd\",\n",
    "            \"clasificacion_sep\",\n",
    "            \"convenio_sep\",\n",
    "            \"n_prio\",\n",
    "            \"n_ben\",\n",
    "            \"n_prio_ben\",\n",
    "            \"n_pref\",\n",
    "            \"n_pref_ben\",\n",
    "        ],\n",
    "    ],\n",
    "    \"ee_matricula\": [\n",
    "        \"../data/raw/matricula/\",\n",
    "        [\n",
    "            \"agno\",\n",
    "            \"rbd\",\n",
    "            \"nom_rbd\",\n",
    "            \"mat_hom_1\",\n",
    "            \"mat_hom_2\",\n",
    "            \"mat_hom_3\",\n",
    "            \"mat_hom_4\",\n",
    "            \"mat_hom_5\",\n",
    "            \"mat_hom_6\",\n",
    "            \"mat_hom_7\",\n",
    "            \"mat_hom_8\",\n",
    "            \"mat_muj_1\",\n",
    "            \"mat_muj_2\",\n",
    "            \"mat_muj_3\",\n",
    "            \"mat_muj_4\",\n",
    "            \"mat_muj_5\",\n",
    "            \"mat_muj_6\",\n",
    "            \"mat_muj_7\",\n",
    "            \"mat_muj_8\",\n",
    "            \"mat_hom_tot\",\n",
    "            \"mat_muj_tot\",\n",
    "            \"mat_total\",\n",
    "        ],\n",
    "    ],\n",
    "}"
   ]
  },
  {
   "cell_type": "markdown",
   "metadata": {},
   "source": [
    "## Denuncias"
   ]
  },
  {
   "cell_type": "code",
   "execution_count": 11,
   "metadata": {},
   "outputs": [
    {
     "name": "stdout",
     "output_type": "stream",
     "text": [
      "Column name occurrences:\n",
      "'AGNO' -> **11**\n",
      "'DEN_ID' -> **11**\n",
      "'DEN_CANAL' -> **11**\n",
      "'DEN_ESTADO' -> **11**\n",
      "'DEN_FEC_CREACION' -> **11**\n",
      "'DEN_MES_CREACION' -> **11**\n",
      "'DEN_TRIMESTRE_CREACION' -> **11**\n",
      "'DEN_FEC_TERMINO_DENUNCIA' -> **11**\n",
      "'DEN_OFICINA' -> **11**\n",
      "'DEN_DEPARTAMENTO' -> **11**\n",
      "'DEN_AMBITO' -> **11**\n",
      "'DEN_TEMA' -> **11**\n",
      "'DEN_SUBTEMA' -> **11**\n",
      "'DEN_MRUN' -> **11**\n",
      "'DEN_AFECTADO' -> **11**\n",
      "'DEN_SEXO' -> **11**\n",
      "'DEN_TIPO' -> **11**\n",
      "'AFEC_MRUN' -> **11**\n",
      "'RBD' -> **11**\n",
      "'EE_NOMBRE' -> **11**\n",
      "'EE_COD_REGION' -> **11**\n",
      "'EE_COD_PROVINCIA' -> **11**\n",
      "'EE_COD_COMUNA' -> **11**\n",
      "'EE_NOM_COMUNA' -> **11**\n",
      "'EE_COD_DEPE' -> **11**\n",
      "'EE_DEPE_AGRUP' -> **11**\n",
      "'AFEC_COD_ENSE2' -> **11**\n",
      "'DEN_REGION' -> **11**\n",
      "'AFEC_SEXO' -> **10**\n",
      "'FIS_ID' -> **9**\n",
      "'FIS_ID_SEGUIMIENTO' -> **9**\n",
      "'PA_ID' -> **9**\n",
      "'DEN_CIBERBULLYING' -> **9**\n",
      "'RSIE' -> **8**\n",
      "'AFEC_TIPO' -> **4**\n",
      "'DEN_ENVIO_RESP' -> **3**\n",
      "'DEN_GENERO' -> **3**\n",
      "'AFEC_GENERO' -> **3**\n",
      "'DEN_TIPO_INSTITUCION' -> **3**\n",
      "'SOST_RUT' -> **3**\n",
      "'SOST_MRUN' -> **3**\n",
      "'SOST_NOMBRE' -> **3**\n"
     ]
    }
   ],
   "source": [
    "denuncias_dfs = csv_loader(Path(column_path_dict[\"denuncias\"][0]))\n",
    "\n",
    "print_columns(denuncias_dfs)\n"
   ]
  },
  {
   "cell_type": "code",
   "execution_count": 12,
   "metadata": {},
   "outputs": [],
   "source": [
    "for df in denuncias_dfs:\n",
    "    df.rename(columns={column:column.casefold().strip() for column in df.columns}, inplace=True)"
   ]
  },
  {
   "cell_type": "code",
   "execution_count": 20,
   "metadata": {},
   "outputs": [],
   "source": [
    "df_denun = pd.concat(denuncias_dfs, axis=0, ignore_index=True)"
   ]
  },
  {
   "cell_type": "code",
   "execution_count": 16,
   "metadata": {},
   "outputs": [],
   "source": [
    "columns_to_drop_denun = [item for item in df_denun.columns if item not in column_path_dict[\"denuncias\"][1]]"
   ]
  },
  {
   "cell_type": "code",
   "execution_count": 21,
   "metadata": {},
   "outputs": [],
   "source": [
    "df_denun.drop(columns=columns_to_drop_denun, inplace=True)"
   ]
  },
  {
   "cell_type": "code",
   "execution_count": 22,
   "metadata": {},
   "outputs": [],
   "source": [
    "df_denun = df_denun.replace(r'^\\s*$', pd.NA, regex=True)"
   ]
  },
  {
   "cell_type": "code",
   "execution_count": 31,
   "metadata": {},
   "outputs": [
    {
     "data": {
      "text/html": [
       "<div>\n",
       "<style scoped>\n",
       "    .dataframe tbody tr th:only-of-type {\n",
       "        vertical-align: middle;\n",
       "    }\n",
       "\n",
       "    .dataframe tbody tr th {\n",
       "        vertical-align: top;\n",
       "    }\n",
       "\n",
       "    .dataframe thead th {\n",
       "        text-align: right;\n",
       "    }\n",
       "</style>\n",
       "<table border=\"1\" class=\"dataframe\">\n",
       "  <thead>\n",
       "    <tr style=\"text-align: right;\">\n",
       "      <th></th>\n",
       "      <th>agno</th>\n",
       "      <th>den_canal</th>\n",
       "      <th>den_estado</th>\n",
       "      <th>den_fec_creacion</th>\n",
       "      <th>den_fec_termino_denuncia</th>\n",
       "      <th>den_oficina</th>\n",
       "      <th>den_departamento</th>\n",
       "      <th>den_ambito</th>\n",
       "      <th>den_tema</th>\n",
       "      <th>den_subtema</th>\n",
       "      <th>den_sexo</th>\n",
       "      <th>rbd</th>\n",
       "    </tr>\n",
       "  </thead>\n",
       "  <tbody>\n",
       "    <tr>\n",
       "      <th>0</th>\n",
       "      <td>2014</td>\n",
       "      <td>1</td>\n",
       "      <td>1</td>\n",
       "      <td>2014-01-02</td>\n",
       "      <td>2014-01-08</td>\n",
       "      <td>2</td>\n",
       "      <td>1</td>\n",
       "      <td>CONVIVENCIA</td>\n",
       "      <td>MEDIDAS DISCIPLINARIAS</td>\n",
       "      <td>NO RENOVACIÓN O CANCELACIÓN DE MATRÍCULA A PÁR...</td>\n",
       "      <td>2</td>\n",
       "      <td>283</td>\n",
       "    </tr>\n",
       "  </tbody>\n",
       "</table>\n",
       "</div>"
      ],
      "text/plain": [
       "   agno  den_canal  den_estado den_fec_creacion den_fec_termino_denuncia  \\\n",
       "0  2014          1           1       2014-01-02               2014-01-08   \n",
       "\n",
       "   den_oficina  den_departamento   den_ambito                den_tema  \\\n",
       "0            2                 1  CONVIVENCIA  MEDIDAS DISCIPLINARIAS   \n",
       "\n",
       "                                         den_subtema  den_sexo  rbd  \n",
       "0  NO RENOVACIÓN O CANCELACIÓN DE MATRÍCULA A PÁR...         2  283  "
      ]
     },
     "execution_count": 31,
     "metadata": {},
     "output_type": "execute_result"
    }
   ],
   "source": [
    "df_denun.head(1)"
   ]
  },
  {
   "cell_type": "code",
   "execution_count": 30,
   "metadata": {},
   "outputs": [],
   "source": [
    "df_denun[\"den_fec_creacion\"] = pd.to_datetime(df_denun[\"den_fec_creacion\"],format='%Y%m%d')\n",
    "df_denun[\"den_fec_termino_denuncia\"] = pd.to_datetime(df_denun[\"den_fec_termino_denuncia\"],format='%Y%m%d')"
   ]
  },
  {
   "cell_type": "code",
   "execution_count": 32,
   "metadata": {},
   "outputs": [],
   "source": [
    "df_denun.to_csv(\"../data/processed/denuncias.csv\")"
   ]
  },
  {
   "cell_type": "code",
   "execution_count": 78,
   "metadata": {},
   "outputs": [],
   "source": [
    "df_denun.to_parquet(\"../data/processed/denuncias.parquet\")"
   ]
  },
  {
   "cell_type": "markdown",
   "metadata": {},
   "source": [
    "## Establecimientos Info"
   ]
  },
  {
   "cell_type": "code",
   "execution_count": 36,
   "metadata": {},
   "outputs": [
    {
     "name": "stdout",
     "output_type": "stream",
     "text": [
      "Column name occurrences:\n",
      "'ïagno' -> **3**\n",
      "'rbd' -> **3**\n",
      "'dgv_rbd' -> **3**\n",
      "'nom_rbd' -> **3**\n",
      "'cod_reg_rbd' -> **3**\n",
      "'cod_pro_rbd' -> **3**\n",
      "'cod_com_rbd' -> **3**\n",
      "'nom_com_rbd' -> **3**\n",
      "'cod_depe' -> **3**\n",
      "'cod_depe2' -> **3**\n",
      "'rural_rbd' -> **3**\n",
      "'latitud' -> **3**\n",
      "'longitud' -> **3**\n",
      "'convenio_pie' -> **3**\n",
      "'ens_01' -> **3**\n",
      "'ens_02' -> **3**\n",
      "'ens_03' -> **3**\n",
      "'ens_04' -> **3**\n",
      "'ens_05' -> **3**\n",
      "'ens_06' -> **3**\n",
      "'ens_07' -> **3**\n",
      "'ens_08' -> **3**\n",
      "'ens_09' -> **3**\n",
      "'ens_10' -> **1**\n",
      "'ori_religiosa' -> **3**\n",
      "'ori_otro_glosa' -> **3**\n",
      "'pago_matricula' -> **3**\n",
      "'pago_mensual' -> **3**\n",
      "'cod_deprov_rbd' -> **2**\n",
      "'nom_deprov_rbd' -> **2**\n",
      "'matricula' -> **2**\n",
      "'estado_estab' -> **2**\n",
      "'mrun' -> **1**\n",
      "'rut_sostenedor' -> **1**\n",
      "'p_juridica' -> **1**\n",
      "'AGNO' -> **7**\n",
      "'RBD' -> **7**\n",
      "'DGV_RBD' -> **7**\n",
      "'NOM_RBD' -> **7**\n",
      "'MRUN' -> **7**\n",
      "'RUT_SOSTENEDOR' -> **7**\n",
      "'P_JURIDICA' -> **7**\n",
      "'COD_REG_RBD' -> **7**\n",
      "'COD_PRO_RBD' -> **7**\n",
      "'COD_COM_RBD' -> **7**\n",
      "'NOM_COM_RBD' -> **7**\n",
      "'COD_DEPROV_RBD' -> **7**\n",
      "'NOM_DEPROV_RBD' -> **7**\n",
      "'COD_DEPE' -> **7**\n",
      "'COD_DEPE2' -> **7**\n",
      "'RURAL_RBD' -> **7**\n",
      "'LATITUD' -> **7**\n",
      "'LONGITUD' -> **7**\n",
      "'CONVENIO_PIE' -> **7**\n",
      "'ENS_01' -> **7**\n",
      "'ENS_02' -> **7**\n",
      "'ENS_03' -> **7**\n",
      "'ENS_04' -> **7**\n",
      "'ENS_05' -> **7**\n",
      "'ENS_06' -> **7**\n",
      "'ENS_07' -> **7**\n",
      "'ENS_08' -> **7**\n",
      "'ENS_09' -> **7**\n",
      "'MATRICULA' -> **7**\n",
      "'ESTADO_ESTAB' -> **7**\n",
      "'ORI_RELIGIOSA' -> **7**\n",
      "'ORI_OTRO_GLOSA' -> **7**\n",
      "'PAGO_MATRICULA' -> **7**\n",
      "'PAGO_MENSUAL' -> **7**\n",
      "'NOM_REG_RBD_A' -> **5**\n",
      "'ENS_10' -> **5**\n",
      "'ENS_11' -> **5**\n",
      "'PACE' -> **2**\n",
      "'MAT_TOTAL' -> **2**\n",
      "'ESPE_01' -> **1**\n",
      "'ESPE_02' -> **1**\n",
      "'ESPE_03' -> **1**\n",
      "'ESPE_04' -> **1**\n",
      "'ESPE_05' -> **1**\n",
      "'ESPE_06' -> **1**\n",
      "'ESPE_07' -> **1**\n",
      "'ESPE_08' -> **1**\n",
      "'ESPE_09' -> **1**\n",
      "'ESPE_10' -> **1**\n",
      "'ESPE_11' -> **1**\n"
     ]
    }
   ],
   "source": [
    "ee_dfs = csv_loader(Path(column_path_dict[\"ee_info\"][0]))\n",
    "\n",
    "print_columns(ee_dfs)"
   ]
  },
  {
   "cell_type": "code",
   "execution_count": 37,
   "metadata": {},
   "outputs": [],
   "source": [
    "for df in ee_dfs:\n",
    "    df.rename(columns={column:column.casefold().strip() for column in df.columns}, inplace=True)\n",
    "    \n",
    "for df in ee_dfs:\n",
    "    df.rename(columns={\"\\ufeffagno\":\"agno\"}, inplace=True)\n",
    "    \n",
    "for df in ee_dfs:\n",
    "    df.rename(columns={\"ïagno\":\"agno\"}, inplace=True)"
   ]
  },
  {
   "cell_type": "code",
   "execution_count": 38,
   "metadata": {},
   "outputs": [
    {
     "name": "stdout",
     "output_type": "stream",
     "text": [
      "Column name occurrences:\n",
      "'agno' -> **10**\n",
      "'rbd' -> **10**\n",
      "'dgv_rbd' -> **10**\n",
      "'nom_rbd' -> **10**\n",
      "'cod_reg_rbd' -> **10**\n",
      "'cod_pro_rbd' -> **10**\n",
      "'cod_com_rbd' -> **10**\n",
      "'nom_com_rbd' -> **10**\n",
      "'cod_depe' -> **10**\n",
      "'cod_depe2' -> **10**\n",
      "'rural_rbd' -> **10**\n",
      "'latitud' -> **10**\n",
      "'longitud' -> **10**\n",
      "'convenio_pie' -> **10**\n",
      "'ens_01' -> **10**\n",
      "'ens_02' -> **10**\n",
      "'ens_03' -> **10**\n",
      "'ens_04' -> **10**\n",
      "'ens_05' -> **10**\n",
      "'ens_06' -> **10**\n",
      "'ens_07' -> **10**\n",
      "'ens_08' -> **10**\n",
      "'ens_09' -> **10**\n",
      "'ens_10' -> **6**\n",
      "'ori_religiosa' -> **10**\n",
      "'ori_otro_glosa' -> **10**\n",
      "'pago_matricula' -> **10**\n",
      "'pago_mensual' -> **10**\n",
      "'cod_deprov_rbd' -> **9**\n",
      "'nom_deprov_rbd' -> **9**\n",
      "'matricula' -> **9**\n",
      "'estado_estab' -> **9**\n",
      "'mrun' -> **8**\n",
      "'rut_sostenedor' -> **8**\n",
      "'p_juridica' -> **8**\n",
      "'nom_reg_rbd_a' -> **5**\n",
      "'ens_11' -> **5**\n",
      "'pace' -> **2**\n",
      "'mat_total' -> **2**\n",
      "'espe_01' -> **1**\n",
      "'espe_02' -> **1**\n",
      "'espe_03' -> **1**\n",
      "'espe_04' -> **1**\n",
      "'espe_05' -> **1**\n",
      "'espe_06' -> **1**\n",
      "'espe_07' -> **1**\n",
      "'espe_08' -> **1**\n",
      "'espe_09' -> **1**\n",
      "'espe_10' -> **1**\n",
      "'espe_11' -> **1**\n"
     ]
    }
   ],
   "source": [
    "print_columns(ee_dfs)"
   ]
  },
  {
   "cell_type": "code",
   "execution_count": 42,
   "metadata": {},
   "outputs": [],
   "source": [
    "ee_df = pd.concat(ee_dfs, axis=0, ignore_index=True)"
   ]
  },
  {
   "cell_type": "code",
   "execution_count": 45,
   "metadata": {},
   "outputs": [],
   "source": [
    "columns_to_drop_ee = [item for item in ee_df.columns if item not in column_path_dict[\"ee_info\"][1]]"
   ]
  },
  {
   "cell_type": "code",
   "execution_count": 46,
   "metadata": {},
   "outputs": [
    {
     "data": {
      "text/plain": [
       "['dgv_rbd',\n",
       " 'cod_pro_rbd',\n",
       " 'ens_01',\n",
       " 'ens_02',\n",
       " 'ens_03',\n",
       " 'ens_04',\n",
       " 'ens_05',\n",
       " 'ens_06',\n",
       " 'ens_07',\n",
       " 'ens_08',\n",
       " 'ens_09',\n",
       " 'ens_10',\n",
       " 'ori_otro_glosa',\n",
       " 'cod_deprov_rbd',\n",
       " 'nom_deprov_rbd',\n",
       " 'matricula',\n",
       " 'estado_estab',\n",
       " 'mrun',\n",
       " 'rut_sostenedor',\n",
       " 'p_juridica',\n",
       " 'nom_reg_rbd_a',\n",
       " 'ens_11',\n",
       " 'pace',\n",
       " 'mat_total',\n",
       " 'espe_01',\n",
       " 'espe_02',\n",
       " 'espe_03',\n",
       " 'espe_04',\n",
       " 'espe_05',\n",
       " 'espe_06',\n",
       " 'espe_07',\n",
       " 'espe_08',\n",
       " 'espe_09',\n",
       " 'espe_10',\n",
       " 'espe_11']"
      ]
     },
     "execution_count": 46,
     "metadata": {},
     "output_type": "execute_result"
    }
   ],
   "source": [
    "columns_to_drop_ee"
   ]
  },
  {
   "cell_type": "code",
   "execution_count": 48,
   "metadata": {},
   "outputs": [],
   "source": [
    "ee_df.drop(columns=columns_to_drop_ee, inplace=True)"
   ]
  },
  {
   "cell_type": "code",
   "execution_count": 50,
   "metadata": {},
   "outputs": [],
   "source": [
    "ee_df = ee_df.replace(r'^\\s*$', pd.NA, regex=True)"
   ]
  },
  {
   "cell_type": "code",
   "execution_count": 77,
   "metadata": {},
   "outputs": [
    {
     "ename": "ValueError",
     "evalue": "could not convert string to float: '-18,48727459'",
     "output_type": "error",
     "traceback": [
      "\u001b[0;31m---------------------------------------------------------------------------\u001b[0m",
      "\u001b[0;31mValueError\u001b[0m                                Traceback (most recent call last)",
      "Cell \u001b[0;32mIn[77], line 1\u001b[0m\n\u001b[0;32m----> 1\u001b[0m \u001b[43mee_df\u001b[49m\u001b[43m[\u001b[49m\u001b[38;5;124;43m\"\u001b[39;49m\u001b[38;5;124;43mlatitud\u001b[39;49m\u001b[38;5;124;43m\"\u001b[39;49m\u001b[43m]\u001b[49m\u001b[38;5;241;43m.\u001b[39;49m\u001b[43mastype\u001b[49m\u001b[43m(\u001b[49m\u001b[38;5;28;43mfloat\u001b[39;49m\u001b[43m)\u001b[49m\n",
      "File \u001b[0;32m~/.local/lib/python3.12/site-packages/pandas/core/generic.py:6643\u001b[0m, in \u001b[0;36mNDFrame.astype\u001b[0;34m(self, dtype, copy, errors)\u001b[0m\n\u001b[1;32m   6637\u001b[0m     results \u001b[38;5;241m=\u001b[39m [\n\u001b[1;32m   6638\u001b[0m         ser\u001b[38;5;241m.\u001b[39mastype(dtype, copy\u001b[38;5;241m=\u001b[39mcopy, errors\u001b[38;5;241m=\u001b[39merrors) \u001b[38;5;28;01mfor\u001b[39;00m _, ser \u001b[38;5;129;01min\u001b[39;00m \u001b[38;5;28mself\u001b[39m\u001b[38;5;241m.\u001b[39mitems()\n\u001b[1;32m   6639\u001b[0m     ]\n\u001b[1;32m   6641\u001b[0m \u001b[38;5;28;01melse\u001b[39;00m:\n\u001b[1;32m   6642\u001b[0m     \u001b[38;5;66;03m# else, only a single dtype is given\u001b[39;00m\n\u001b[0;32m-> 6643\u001b[0m     new_data \u001b[38;5;241m=\u001b[39m \u001b[38;5;28;43mself\u001b[39;49m\u001b[38;5;241;43m.\u001b[39;49m\u001b[43m_mgr\u001b[49m\u001b[38;5;241;43m.\u001b[39;49m\u001b[43mastype\u001b[49m\u001b[43m(\u001b[49m\u001b[43mdtype\u001b[49m\u001b[38;5;241;43m=\u001b[39;49m\u001b[43mdtype\u001b[49m\u001b[43m,\u001b[49m\u001b[43m \u001b[49m\u001b[43mcopy\u001b[49m\u001b[38;5;241;43m=\u001b[39;49m\u001b[43mcopy\u001b[49m\u001b[43m,\u001b[49m\u001b[43m \u001b[49m\u001b[43merrors\u001b[49m\u001b[38;5;241;43m=\u001b[39;49m\u001b[43merrors\u001b[49m\u001b[43m)\u001b[49m\n\u001b[1;32m   6644\u001b[0m     res \u001b[38;5;241m=\u001b[39m \u001b[38;5;28mself\u001b[39m\u001b[38;5;241m.\u001b[39m_constructor_from_mgr(new_data, axes\u001b[38;5;241m=\u001b[39mnew_data\u001b[38;5;241m.\u001b[39maxes)\n\u001b[1;32m   6645\u001b[0m     \u001b[38;5;28;01mreturn\u001b[39;00m res\u001b[38;5;241m.\u001b[39m__finalize__(\u001b[38;5;28mself\u001b[39m, method\u001b[38;5;241m=\u001b[39m\u001b[38;5;124m\"\u001b[39m\u001b[38;5;124mastype\u001b[39m\u001b[38;5;124m\"\u001b[39m)\n",
      "File \u001b[0;32m~/.local/lib/python3.12/site-packages/pandas/core/internals/managers.py:430\u001b[0m, in \u001b[0;36mBaseBlockManager.astype\u001b[0;34m(self, dtype, copy, errors)\u001b[0m\n\u001b[1;32m    427\u001b[0m \u001b[38;5;28;01melif\u001b[39;00m using_copy_on_write():\n\u001b[1;32m    428\u001b[0m     copy \u001b[38;5;241m=\u001b[39m \u001b[38;5;28;01mFalse\u001b[39;00m\n\u001b[0;32m--> 430\u001b[0m \u001b[38;5;28;01mreturn\u001b[39;00m \u001b[38;5;28;43mself\u001b[39;49m\u001b[38;5;241;43m.\u001b[39;49m\u001b[43mapply\u001b[49m\u001b[43m(\u001b[49m\n\u001b[1;32m    431\u001b[0m \u001b[43m    \u001b[49m\u001b[38;5;124;43m\"\u001b[39;49m\u001b[38;5;124;43mastype\u001b[39;49m\u001b[38;5;124;43m\"\u001b[39;49m\u001b[43m,\u001b[49m\n\u001b[1;32m    432\u001b[0m \u001b[43m    \u001b[49m\u001b[43mdtype\u001b[49m\u001b[38;5;241;43m=\u001b[39;49m\u001b[43mdtype\u001b[49m\u001b[43m,\u001b[49m\n\u001b[1;32m    433\u001b[0m \u001b[43m    \u001b[49m\u001b[43mcopy\u001b[49m\u001b[38;5;241;43m=\u001b[39;49m\u001b[43mcopy\u001b[49m\u001b[43m,\u001b[49m\n\u001b[1;32m    434\u001b[0m \u001b[43m    \u001b[49m\u001b[43merrors\u001b[49m\u001b[38;5;241;43m=\u001b[39;49m\u001b[43merrors\u001b[49m\u001b[43m,\u001b[49m\n\u001b[1;32m    435\u001b[0m \u001b[43m    \u001b[49m\u001b[43musing_cow\u001b[49m\u001b[38;5;241;43m=\u001b[39;49m\u001b[43musing_copy_on_write\u001b[49m\u001b[43m(\u001b[49m\u001b[43m)\u001b[49m\u001b[43m,\u001b[49m\n\u001b[1;32m    436\u001b[0m \u001b[43m\u001b[49m\u001b[43m)\u001b[49m\n",
      "File \u001b[0;32m~/.local/lib/python3.12/site-packages/pandas/core/internals/managers.py:363\u001b[0m, in \u001b[0;36mBaseBlockManager.apply\u001b[0;34m(self, f, align_keys, **kwargs)\u001b[0m\n\u001b[1;32m    361\u001b[0m         applied \u001b[38;5;241m=\u001b[39m b\u001b[38;5;241m.\u001b[39mapply(f, \u001b[38;5;241m*\u001b[39m\u001b[38;5;241m*\u001b[39mkwargs)\n\u001b[1;32m    362\u001b[0m     \u001b[38;5;28;01melse\u001b[39;00m:\n\u001b[0;32m--> 363\u001b[0m         applied \u001b[38;5;241m=\u001b[39m \u001b[38;5;28;43mgetattr\u001b[39;49m\u001b[43m(\u001b[49m\u001b[43mb\u001b[49m\u001b[43m,\u001b[49m\u001b[43m \u001b[49m\u001b[43mf\u001b[49m\u001b[43m)\u001b[49m\u001b[43m(\u001b[49m\u001b[38;5;241;43m*\u001b[39;49m\u001b[38;5;241;43m*\u001b[39;49m\u001b[43mkwargs\u001b[49m\u001b[43m)\u001b[49m\n\u001b[1;32m    364\u001b[0m     result_blocks \u001b[38;5;241m=\u001b[39m extend_blocks(applied, result_blocks)\n\u001b[1;32m    366\u001b[0m out \u001b[38;5;241m=\u001b[39m \u001b[38;5;28mtype\u001b[39m(\u001b[38;5;28mself\u001b[39m)\u001b[38;5;241m.\u001b[39mfrom_blocks(result_blocks, \u001b[38;5;28mself\u001b[39m\u001b[38;5;241m.\u001b[39maxes)\n",
      "File \u001b[0;32m~/.local/lib/python3.12/site-packages/pandas/core/internals/blocks.py:758\u001b[0m, in \u001b[0;36mBlock.astype\u001b[0;34m(self, dtype, copy, errors, using_cow, squeeze)\u001b[0m\n\u001b[1;32m    755\u001b[0m         \u001b[38;5;28;01mraise\u001b[39;00m \u001b[38;5;167;01mValueError\u001b[39;00m(\u001b[38;5;124m\"\u001b[39m\u001b[38;5;124mCan not squeeze with more than one column.\u001b[39m\u001b[38;5;124m\"\u001b[39m)\n\u001b[1;32m    756\u001b[0m     values \u001b[38;5;241m=\u001b[39m values[\u001b[38;5;241m0\u001b[39m, :]  \u001b[38;5;66;03m# type: ignore[call-overload]\u001b[39;00m\n\u001b[0;32m--> 758\u001b[0m new_values \u001b[38;5;241m=\u001b[39m \u001b[43mastype_array_safe\u001b[49m\u001b[43m(\u001b[49m\u001b[43mvalues\u001b[49m\u001b[43m,\u001b[49m\u001b[43m \u001b[49m\u001b[43mdtype\u001b[49m\u001b[43m,\u001b[49m\u001b[43m \u001b[49m\u001b[43mcopy\u001b[49m\u001b[38;5;241;43m=\u001b[39;49m\u001b[43mcopy\u001b[49m\u001b[43m,\u001b[49m\u001b[43m \u001b[49m\u001b[43merrors\u001b[49m\u001b[38;5;241;43m=\u001b[39;49m\u001b[43merrors\u001b[49m\u001b[43m)\u001b[49m\n\u001b[1;32m    760\u001b[0m new_values \u001b[38;5;241m=\u001b[39m maybe_coerce_values(new_values)\n\u001b[1;32m    762\u001b[0m refs \u001b[38;5;241m=\u001b[39m \u001b[38;5;28;01mNone\u001b[39;00m\n",
      "File \u001b[0;32m~/.local/lib/python3.12/site-packages/pandas/core/dtypes/astype.py:237\u001b[0m, in \u001b[0;36mastype_array_safe\u001b[0;34m(values, dtype, copy, errors)\u001b[0m\n\u001b[1;32m    234\u001b[0m     dtype \u001b[38;5;241m=\u001b[39m dtype\u001b[38;5;241m.\u001b[39mnumpy_dtype\n\u001b[1;32m    236\u001b[0m \u001b[38;5;28;01mtry\u001b[39;00m:\n\u001b[0;32m--> 237\u001b[0m     new_values \u001b[38;5;241m=\u001b[39m \u001b[43mastype_array\u001b[49m\u001b[43m(\u001b[49m\u001b[43mvalues\u001b[49m\u001b[43m,\u001b[49m\u001b[43m \u001b[49m\u001b[43mdtype\u001b[49m\u001b[43m,\u001b[49m\u001b[43m \u001b[49m\u001b[43mcopy\u001b[49m\u001b[38;5;241;43m=\u001b[39;49m\u001b[43mcopy\u001b[49m\u001b[43m)\u001b[49m\n\u001b[1;32m    238\u001b[0m \u001b[38;5;28;01mexcept\u001b[39;00m (\u001b[38;5;167;01mValueError\u001b[39;00m, \u001b[38;5;167;01mTypeError\u001b[39;00m):\n\u001b[1;32m    239\u001b[0m     \u001b[38;5;66;03m# e.g. _astype_nansafe can fail on object-dtype of strings\u001b[39;00m\n\u001b[1;32m    240\u001b[0m     \u001b[38;5;66;03m#  trying to convert to float\u001b[39;00m\n\u001b[1;32m    241\u001b[0m     \u001b[38;5;28;01mif\u001b[39;00m errors \u001b[38;5;241m==\u001b[39m \u001b[38;5;124m\"\u001b[39m\u001b[38;5;124mignore\u001b[39m\u001b[38;5;124m\"\u001b[39m:\n",
      "File \u001b[0;32m~/.local/lib/python3.12/site-packages/pandas/core/dtypes/astype.py:182\u001b[0m, in \u001b[0;36mastype_array\u001b[0;34m(values, dtype, copy)\u001b[0m\n\u001b[1;32m    179\u001b[0m     values \u001b[38;5;241m=\u001b[39m values\u001b[38;5;241m.\u001b[39mastype(dtype, copy\u001b[38;5;241m=\u001b[39mcopy)\n\u001b[1;32m    181\u001b[0m \u001b[38;5;28;01melse\u001b[39;00m:\n\u001b[0;32m--> 182\u001b[0m     values \u001b[38;5;241m=\u001b[39m \u001b[43m_astype_nansafe\u001b[49m\u001b[43m(\u001b[49m\u001b[43mvalues\u001b[49m\u001b[43m,\u001b[49m\u001b[43m \u001b[49m\u001b[43mdtype\u001b[49m\u001b[43m,\u001b[49m\u001b[43m \u001b[49m\u001b[43mcopy\u001b[49m\u001b[38;5;241;43m=\u001b[39;49m\u001b[43mcopy\u001b[49m\u001b[43m)\u001b[49m\n\u001b[1;32m    184\u001b[0m \u001b[38;5;66;03m# in pandas we don't store numpy str dtypes, so convert to object\u001b[39;00m\n\u001b[1;32m    185\u001b[0m \u001b[38;5;28;01mif\u001b[39;00m \u001b[38;5;28misinstance\u001b[39m(dtype, np\u001b[38;5;241m.\u001b[39mdtype) \u001b[38;5;129;01mand\u001b[39;00m \u001b[38;5;28missubclass\u001b[39m(values\u001b[38;5;241m.\u001b[39mdtype\u001b[38;5;241m.\u001b[39mtype, \u001b[38;5;28mstr\u001b[39m):\n",
      "File \u001b[0;32m~/.local/lib/python3.12/site-packages/pandas/core/dtypes/astype.py:133\u001b[0m, in \u001b[0;36m_astype_nansafe\u001b[0;34m(arr, dtype, copy, skipna)\u001b[0m\n\u001b[1;32m    129\u001b[0m     \u001b[38;5;28;01mraise\u001b[39;00m \u001b[38;5;167;01mValueError\u001b[39;00m(msg)\n\u001b[1;32m    131\u001b[0m \u001b[38;5;28;01mif\u001b[39;00m copy \u001b[38;5;129;01mor\u001b[39;00m arr\u001b[38;5;241m.\u001b[39mdtype \u001b[38;5;241m==\u001b[39m \u001b[38;5;28mobject\u001b[39m \u001b[38;5;129;01mor\u001b[39;00m dtype \u001b[38;5;241m==\u001b[39m \u001b[38;5;28mobject\u001b[39m:\n\u001b[1;32m    132\u001b[0m     \u001b[38;5;66;03m# Explicit copy, or required since NumPy can't view from / to object.\u001b[39;00m\n\u001b[0;32m--> 133\u001b[0m     \u001b[38;5;28;01mreturn\u001b[39;00m \u001b[43marr\u001b[49m\u001b[38;5;241;43m.\u001b[39;49m\u001b[43mastype\u001b[49m\u001b[43m(\u001b[49m\u001b[43mdtype\u001b[49m\u001b[43m,\u001b[49m\u001b[43m \u001b[49m\u001b[43mcopy\u001b[49m\u001b[38;5;241;43m=\u001b[39;49m\u001b[38;5;28;43;01mTrue\u001b[39;49;00m\u001b[43m)\u001b[49m\n\u001b[1;32m    135\u001b[0m \u001b[38;5;28;01mreturn\u001b[39;00m arr\u001b[38;5;241m.\u001b[39mastype(dtype, copy\u001b[38;5;241m=\u001b[39mcopy)\n",
      "\u001b[0;31mValueError\u001b[0m: could not convert string to float: '-18,48727459'"
     ]
    }
   ],
   "source": [
    "ee_df[\"latitud\"].astype(float)"
   ]
  },
  {
   "cell_type": "code",
   "execution_count": 53,
   "metadata": {},
   "outputs": [],
   "source": [
    "ee_df.to_csv(\"../data/processed/establecimientos.csv\")"
   ]
  },
  {
   "cell_type": "code",
   "execution_count": 74,
   "metadata": {},
   "outputs": [
    {
     "ename": "ArrowInvalid",
     "evalue": "(\"Could not convert '-18,48727459' with type str: tried to convert to double\", 'Conversion failed for column latitud with type object')",
     "output_type": "error",
     "traceback": [
      "\u001b[0;31m---------------------------------------------------------------------------\u001b[0m",
      "\u001b[0;31mArrowInvalid\u001b[0m                              Traceback (most recent call last)",
      "Cell \u001b[0;32mIn[74], line 1\u001b[0m\n\u001b[0;32m----> 1\u001b[0m \u001b[43mee_df\u001b[49m\u001b[38;5;241;43m.\u001b[39;49m\u001b[43mto_parquet\u001b[49m\u001b[43m(\u001b[49m\u001b[38;5;124;43m\"\u001b[39;49m\u001b[38;5;124;43m../data/processed/establecimientos.parquet\u001b[39;49m\u001b[38;5;124;43m\"\u001b[39;49m\u001b[43m)\u001b[49m\n",
      "File \u001b[0;32m~/.local/lib/python3.12/site-packages/pandas/util/_decorators.py:333\u001b[0m, in \u001b[0;36mdeprecate_nonkeyword_arguments.<locals>.decorate.<locals>.wrapper\u001b[0;34m(*args, **kwargs)\u001b[0m\n\u001b[1;32m    327\u001b[0m \u001b[38;5;28;01mif\u001b[39;00m \u001b[38;5;28mlen\u001b[39m(args) \u001b[38;5;241m>\u001b[39m num_allow_args:\n\u001b[1;32m    328\u001b[0m     warnings\u001b[38;5;241m.\u001b[39mwarn(\n\u001b[1;32m    329\u001b[0m         msg\u001b[38;5;241m.\u001b[39mformat(arguments\u001b[38;5;241m=\u001b[39m_format_argument_list(allow_args)),\n\u001b[1;32m    330\u001b[0m         \u001b[38;5;167;01mFutureWarning\u001b[39;00m,\n\u001b[1;32m    331\u001b[0m         stacklevel\u001b[38;5;241m=\u001b[39mfind_stack_level(),\n\u001b[1;32m    332\u001b[0m     )\n\u001b[0;32m--> 333\u001b[0m \u001b[38;5;28;01mreturn\u001b[39;00m \u001b[43mfunc\u001b[49m\u001b[43m(\u001b[49m\u001b[38;5;241;43m*\u001b[39;49m\u001b[43margs\u001b[49m\u001b[43m,\u001b[49m\u001b[43m \u001b[49m\u001b[38;5;241;43m*\u001b[39;49m\u001b[38;5;241;43m*\u001b[39;49m\u001b[43mkwargs\u001b[49m\u001b[43m)\u001b[49m\n",
      "File \u001b[0;32m~/.local/lib/python3.12/site-packages/pandas/core/frame.py:3113\u001b[0m, in \u001b[0;36mDataFrame.to_parquet\u001b[0;34m(self, path, engine, compression, index, partition_cols, storage_options, **kwargs)\u001b[0m\n\u001b[1;32m   3032\u001b[0m \u001b[38;5;250m\u001b[39m\u001b[38;5;124;03m\"\"\"\u001b[39;00m\n\u001b[1;32m   3033\u001b[0m \u001b[38;5;124;03mWrite a DataFrame to the binary parquet format.\u001b[39;00m\n\u001b[1;32m   3034\u001b[0m \n\u001b[0;32m   (...)\u001b[0m\n\u001b[1;32m   3109\u001b[0m \u001b[38;5;124;03m>>> content = f.read()\u001b[39;00m\n\u001b[1;32m   3110\u001b[0m \u001b[38;5;124;03m\"\"\"\u001b[39;00m\n\u001b[1;32m   3111\u001b[0m \u001b[38;5;28;01mfrom\u001b[39;00m \u001b[38;5;21;01mpandas\u001b[39;00m\u001b[38;5;21;01m.\u001b[39;00m\u001b[38;5;21;01mio\u001b[39;00m\u001b[38;5;21;01m.\u001b[39;00m\u001b[38;5;21;01mparquet\u001b[39;00m \u001b[38;5;28;01mimport\u001b[39;00m to_parquet\n\u001b[0;32m-> 3113\u001b[0m \u001b[38;5;28;01mreturn\u001b[39;00m \u001b[43mto_parquet\u001b[49m\u001b[43m(\u001b[49m\n\u001b[1;32m   3114\u001b[0m \u001b[43m    \u001b[49m\u001b[38;5;28;43mself\u001b[39;49m\u001b[43m,\u001b[49m\n\u001b[1;32m   3115\u001b[0m \u001b[43m    \u001b[49m\u001b[43mpath\u001b[49m\u001b[43m,\u001b[49m\n\u001b[1;32m   3116\u001b[0m \u001b[43m    \u001b[49m\u001b[43mengine\u001b[49m\u001b[43m,\u001b[49m\n\u001b[1;32m   3117\u001b[0m \u001b[43m    \u001b[49m\u001b[43mcompression\u001b[49m\u001b[38;5;241;43m=\u001b[39;49m\u001b[43mcompression\u001b[49m\u001b[43m,\u001b[49m\n\u001b[1;32m   3118\u001b[0m \u001b[43m    \u001b[49m\u001b[43mindex\u001b[49m\u001b[38;5;241;43m=\u001b[39;49m\u001b[43mindex\u001b[49m\u001b[43m,\u001b[49m\n\u001b[1;32m   3119\u001b[0m \u001b[43m    \u001b[49m\u001b[43mpartition_cols\u001b[49m\u001b[38;5;241;43m=\u001b[39;49m\u001b[43mpartition_cols\u001b[49m\u001b[43m,\u001b[49m\n\u001b[1;32m   3120\u001b[0m \u001b[43m    \u001b[49m\u001b[43mstorage_options\u001b[49m\u001b[38;5;241;43m=\u001b[39;49m\u001b[43mstorage_options\u001b[49m\u001b[43m,\u001b[49m\n\u001b[1;32m   3121\u001b[0m \u001b[43m    \u001b[49m\u001b[38;5;241;43m*\u001b[39;49m\u001b[38;5;241;43m*\u001b[39;49m\u001b[43mkwargs\u001b[49m\u001b[43m,\u001b[49m\n\u001b[1;32m   3122\u001b[0m \u001b[43m\u001b[49m\u001b[43m)\u001b[49m\n",
      "File \u001b[0;32m~/.local/lib/python3.12/site-packages/pandas/io/parquet.py:480\u001b[0m, in \u001b[0;36mto_parquet\u001b[0;34m(df, path, engine, compression, index, storage_options, partition_cols, filesystem, **kwargs)\u001b[0m\n\u001b[1;32m    476\u001b[0m impl \u001b[38;5;241m=\u001b[39m get_engine(engine)\n\u001b[1;32m    478\u001b[0m path_or_buf: FilePath \u001b[38;5;241m|\u001b[39m WriteBuffer[\u001b[38;5;28mbytes\u001b[39m] \u001b[38;5;241m=\u001b[39m io\u001b[38;5;241m.\u001b[39mBytesIO() \u001b[38;5;28;01mif\u001b[39;00m path \u001b[38;5;129;01mis\u001b[39;00m \u001b[38;5;28;01mNone\u001b[39;00m \u001b[38;5;28;01melse\u001b[39;00m path\n\u001b[0;32m--> 480\u001b[0m \u001b[43mimpl\u001b[49m\u001b[38;5;241;43m.\u001b[39;49m\u001b[43mwrite\u001b[49m\u001b[43m(\u001b[49m\n\u001b[1;32m    481\u001b[0m \u001b[43m    \u001b[49m\u001b[43mdf\u001b[49m\u001b[43m,\u001b[49m\n\u001b[1;32m    482\u001b[0m \u001b[43m    \u001b[49m\u001b[43mpath_or_buf\u001b[49m\u001b[43m,\u001b[49m\n\u001b[1;32m    483\u001b[0m \u001b[43m    \u001b[49m\u001b[43mcompression\u001b[49m\u001b[38;5;241;43m=\u001b[39;49m\u001b[43mcompression\u001b[49m\u001b[43m,\u001b[49m\n\u001b[1;32m    484\u001b[0m \u001b[43m    \u001b[49m\u001b[43mindex\u001b[49m\u001b[38;5;241;43m=\u001b[39;49m\u001b[43mindex\u001b[49m\u001b[43m,\u001b[49m\n\u001b[1;32m    485\u001b[0m \u001b[43m    \u001b[49m\u001b[43mpartition_cols\u001b[49m\u001b[38;5;241;43m=\u001b[39;49m\u001b[43mpartition_cols\u001b[49m\u001b[43m,\u001b[49m\n\u001b[1;32m    486\u001b[0m \u001b[43m    \u001b[49m\u001b[43mstorage_options\u001b[49m\u001b[38;5;241;43m=\u001b[39;49m\u001b[43mstorage_options\u001b[49m\u001b[43m,\u001b[49m\n\u001b[1;32m    487\u001b[0m \u001b[43m    \u001b[49m\u001b[43mfilesystem\u001b[49m\u001b[38;5;241;43m=\u001b[39;49m\u001b[43mfilesystem\u001b[49m\u001b[43m,\u001b[49m\n\u001b[1;32m    488\u001b[0m \u001b[43m    \u001b[49m\u001b[38;5;241;43m*\u001b[39;49m\u001b[38;5;241;43m*\u001b[39;49m\u001b[43mkwargs\u001b[49m\u001b[43m,\u001b[49m\n\u001b[1;32m    489\u001b[0m \u001b[43m\u001b[49m\u001b[43m)\u001b[49m\n\u001b[1;32m    491\u001b[0m \u001b[38;5;28;01mif\u001b[39;00m path \u001b[38;5;129;01mis\u001b[39;00m \u001b[38;5;28;01mNone\u001b[39;00m:\n\u001b[1;32m    492\u001b[0m     \u001b[38;5;28;01massert\u001b[39;00m \u001b[38;5;28misinstance\u001b[39m(path_or_buf, io\u001b[38;5;241m.\u001b[39mBytesIO)\n",
      "File \u001b[0;32m~/.local/lib/python3.12/site-packages/pandas/io/parquet.py:190\u001b[0m, in \u001b[0;36mPyArrowImpl.write\u001b[0;34m(self, df, path, compression, index, storage_options, partition_cols, filesystem, **kwargs)\u001b[0m\n\u001b[1;32m    187\u001b[0m \u001b[38;5;28;01mif\u001b[39;00m index \u001b[38;5;129;01mis\u001b[39;00m \u001b[38;5;129;01mnot\u001b[39;00m \u001b[38;5;28;01mNone\u001b[39;00m:\n\u001b[1;32m    188\u001b[0m     from_pandas_kwargs[\u001b[38;5;124m\"\u001b[39m\u001b[38;5;124mpreserve_index\u001b[39m\u001b[38;5;124m\"\u001b[39m] \u001b[38;5;241m=\u001b[39m index\n\u001b[0;32m--> 190\u001b[0m table \u001b[38;5;241m=\u001b[39m \u001b[38;5;28;43mself\u001b[39;49m\u001b[38;5;241;43m.\u001b[39;49m\u001b[43mapi\u001b[49m\u001b[38;5;241;43m.\u001b[39;49m\u001b[43mTable\u001b[49m\u001b[38;5;241;43m.\u001b[39;49m\u001b[43mfrom_pandas\u001b[49m\u001b[43m(\u001b[49m\u001b[43mdf\u001b[49m\u001b[43m,\u001b[49m\u001b[43m \u001b[49m\u001b[38;5;241;43m*\u001b[39;49m\u001b[38;5;241;43m*\u001b[39;49m\u001b[43mfrom_pandas_kwargs\u001b[49m\u001b[43m)\u001b[49m\n\u001b[1;32m    192\u001b[0m \u001b[38;5;28;01mif\u001b[39;00m df\u001b[38;5;241m.\u001b[39mattrs:\n\u001b[1;32m    193\u001b[0m     df_metadata \u001b[38;5;241m=\u001b[39m {\u001b[38;5;124m\"\u001b[39m\u001b[38;5;124mPANDAS_ATTRS\u001b[39m\u001b[38;5;124m\"\u001b[39m: json\u001b[38;5;241m.\u001b[39mdumps(df\u001b[38;5;241m.\u001b[39mattrs)}\n",
      "File \u001b[0;32m~/.local/lib/python3.12/site-packages/pyarrow/table.pxi:4623\u001b[0m, in \u001b[0;36mpyarrow.lib.Table.from_pandas\u001b[0;34m()\u001b[0m\n",
      "File \u001b[0;32m~/.local/lib/python3.12/site-packages/pyarrow/pandas_compat.py:629\u001b[0m, in \u001b[0;36mdataframe_to_arrays\u001b[0;34m(df, schema, preserve_index, nthreads, columns, safe)\u001b[0m\n\u001b[1;32m    627\u001b[0m     \u001b[38;5;28;01mfor\u001b[39;00m i, maybe_fut \u001b[38;5;129;01min\u001b[39;00m \u001b[38;5;28menumerate\u001b[39m(arrays):\n\u001b[1;32m    628\u001b[0m         \u001b[38;5;28;01mif\u001b[39;00m \u001b[38;5;28misinstance\u001b[39m(maybe_fut, futures\u001b[38;5;241m.\u001b[39mFuture):\n\u001b[0;32m--> 629\u001b[0m             arrays[i] \u001b[38;5;241m=\u001b[39m \u001b[43mmaybe_fut\u001b[49m\u001b[38;5;241;43m.\u001b[39;49m\u001b[43mresult\u001b[49m\u001b[43m(\u001b[49m\u001b[43m)\u001b[49m\n\u001b[1;32m    631\u001b[0m types \u001b[38;5;241m=\u001b[39m [x\u001b[38;5;241m.\u001b[39mtype \u001b[38;5;28;01mfor\u001b[39;00m x \u001b[38;5;129;01min\u001b[39;00m arrays]\n\u001b[1;32m    633\u001b[0m \u001b[38;5;28;01mif\u001b[39;00m schema \u001b[38;5;129;01mis\u001b[39;00m \u001b[38;5;28;01mNone\u001b[39;00m:\n",
      "File \u001b[0;32m/usr/local/lib/python3.12/concurrent/futures/_base.py:449\u001b[0m, in \u001b[0;36mFuture.result\u001b[0;34m(self, timeout)\u001b[0m\n\u001b[1;32m    447\u001b[0m     \u001b[38;5;28;01mraise\u001b[39;00m CancelledError()\n\u001b[1;32m    448\u001b[0m \u001b[38;5;28;01melif\u001b[39;00m \u001b[38;5;28mself\u001b[39m\u001b[38;5;241m.\u001b[39m_state \u001b[38;5;241m==\u001b[39m FINISHED:\n\u001b[0;32m--> 449\u001b[0m     \u001b[38;5;28;01mreturn\u001b[39;00m \u001b[38;5;28;43mself\u001b[39;49m\u001b[38;5;241;43m.\u001b[39;49m\u001b[43m__get_result\u001b[49m\u001b[43m(\u001b[49m\u001b[43m)\u001b[49m\n\u001b[1;32m    451\u001b[0m \u001b[38;5;28mself\u001b[39m\u001b[38;5;241m.\u001b[39m_condition\u001b[38;5;241m.\u001b[39mwait(timeout)\n\u001b[1;32m    453\u001b[0m \u001b[38;5;28;01mif\u001b[39;00m \u001b[38;5;28mself\u001b[39m\u001b[38;5;241m.\u001b[39m_state \u001b[38;5;129;01min\u001b[39;00m [CANCELLED, CANCELLED_AND_NOTIFIED]:\n",
      "File \u001b[0;32m/usr/local/lib/python3.12/concurrent/futures/_base.py:401\u001b[0m, in \u001b[0;36mFuture.__get_result\u001b[0;34m(self)\u001b[0m\n\u001b[1;32m    399\u001b[0m \u001b[38;5;28;01mif\u001b[39;00m \u001b[38;5;28mself\u001b[39m\u001b[38;5;241m.\u001b[39m_exception:\n\u001b[1;32m    400\u001b[0m     \u001b[38;5;28;01mtry\u001b[39;00m:\n\u001b[0;32m--> 401\u001b[0m         \u001b[38;5;28;01mraise\u001b[39;00m \u001b[38;5;28mself\u001b[39m\u001b[38;5;241m.\u001b[39m_exception\n\u001b[1;32m    402\u001b[0m     \u001b[38;5;28;01mfinally\u001b[39;00m:\n\u001b[1;32m    403\u001b[0m         \u001b[38;5;66;03m# Break a reference cycle with the exception in self._exception\u001b[39;00m\n\u001b[1;32m    404\u001b[0m         \u001b[38;5;28mself\u001b[39m \u001b[38;5;241m=\u001b[39m \u001b[38;5;28;01mNone\u001b[39;00m\n",
      "File \u001b[0;32m/usr/local/lib/python3.12/concurrent/futures/thread.py:58\u001b[0m, in \u001b[0;36m_WorkItem.run\u001b[0;34m(self)\u001b[0m\n\u001b[1;32m     55\u001b[0m     \u001b[38;5;28;01mreturn\u001b[39;00m\n\u001b[1;32m     57\u001b[0m \u001b[38;5;28;01mtry\u001b[39;00m:\n\u001b[0;32m---> 58\u001b[0m     result \u001b[38;5;241m=\u001b[39m \u001b[38;5;28;43mself\u001b[39;49m\u001b[38;5;241;43m.\u001b[39;49m\u001b[43mfn\u001b[49m\u001b[43m(\u001b[49m\u001b[38;5;241;43m*\u001b[39;49m\u001b[38;5;28;43mself\u001b[39;49m\u001b[38;5;241;43m.\u001b[39;49m\u001b[43margs\u001b[49m\u001b[43m,\u001b[49m\u001b[43m \u001b[49m\u001b[38;5;241;43m*\u001b[39;49m\u001b[38;5;241;43m*\u001b[39;49m\u001b[38;5;28;43mself\u001b[39;49m\u001b[38;5;241;43m.\u001b[39;49m\u001b[43mkwargs\u001b[49m\u001b[43m)\u001b[49m\n\u001b[1;32m     59\u001b[0m \u001b[38;5;28;01mexcept\u001b[39;00m \u001b[38;5;167;01mBaseException\u001b[39;00m \u001b[38;5;28;01mas\u001b[39;00m exc:\n\u001b[1;32m     60\u001b[0m     \u001b[38;5;28mself\u001b[39m\u001b[38;5;241m.\u001b[39mfuture\u001b[38;5;241m.\u001b[39mset_exception(exc)\n",
      "File \u001b[0;32m~/.local/lib/python3.12/site-packages/pyarrow/pandas_compat.py:603\u001b[0m, in \u001b[0;36mdataframe_to_arrays.<locals>.convert_column\u001b[0;34m(col, field)\u001b[0m\n\u001b[1;32m    598\u001b[0m \u001b[38;5;28;01mexcept\u001b[39;00m (pa\u001b[38;5;241m.\u001b[39mArrowInvalid,\n\u001b[1;32m    599\u001b[0m         pa\u001b[38;5;241m.\u001b[39mArrowNotImplementedError,\n\u001b[1;32m    600\u001b[0m         pa\u001b[38;5;241m.\u001b[39mArrowTypeError) \u001b[38;5;28;01mas\u001b[39;00m e:\n\u001b[1;32m    601\u001b[0m     e\u001b[38;5;241m.\u001b[39margs \u001b[38;5;241m+\u001b[39m\u001b[38;5;241m=\u001b[39m (\u001b[38;5;124m\"\u001b[39m\u001b[38;5;124mConversion failed for column \u001b[39m\u001b[38;5;132;01m{!s}\u001b[39;00m\u001b[38;5;124m with type \u001b[39m\u001b[38;5;132;01m{!s}\u001b[39;00m\u001b[38;5;124m\"\u001b[39m\n\u001b[1;32m    602\u001b[0m                \u001b[38;5;241m.\u001b[39mformat(col\u001b[38;5;241m.\u001b[39mname, col\u001b[38;5;241m.\u001b[39mdtype),)\n\u001b[0;32m--> 603\u001b[0m     \u001b[38;5;28;01mraise\u001b[39;00m e\n\u001b[1;32m    604\u001b[0m \u001b[38;5;28;01mif\u001b[39;00m \u001b[38;5;129;01mnot\u001b[39;00m field_nullable \u001b[38;5;129;01mand\u001b[39;00m result\u001b[38;5;241m.\u001b[39mnull_count \u001b[38;5;241m>\u001b[39m \u001b[38;5;241m0\u001b[39m:\n\u001b[1;32m    605\u001b[0m     \u001b[38;5;28;01mraise\u001b[39;00m \u001b[38;5;167;01mValueError\u001b[39;00m(\u001b[38;5;124m\"\u001b[39m\u001b[38;5;124mField \u001b[39m\u001b[38;5;132;01m{}\u001b[39;00m\u001b[38;5;124m was non-nullable but pandas column \u001b[39m\u001b[38;5;124m\"\u001b[39m\n\u001b[1;32m    606\u001b[0m                      \u001b[38;5;124m\"\u001b[39m\u001b[38;5;124mhad \u001b[39m\u001b[38;5;132;01m{}\u001b[39;00m\u001b[38;5;124m null values\u001b[39m\u001b[38;5;124m\"\u001b[39m\u001b[38;5;241m.\u001b[39mformat(\u001b[38;5;28mstr\u001b[39m(field),\n\u001b[1;32m    607\u001b[0m                                                  result\u001b[38;5;241m.\u001b[39mnull_count))\n",
      "File \u001b[0;32m~/.local/lib/python3.12/site-packages/pyarrow/pandas_compat.py:597\u001b[0m, in \u001b[0;36mdataframe_to_arrays.<locals>.convert_column\u001b[0;34m(col, field)\u001b[0m\n\u001b[1;32m    594\u001b[0m     type_ \u001b[38;5;241m=\u001b[39m field\u001b[38;5;241m.\u001b[39mtype\n\u001b[1;32m    596\u001b[0m \u001b[38;5;28;01mtry\u001b[39;00m:\n\u001b[0;32m--> 597\u001b[0m     result \u001b[38;5;241m=\u001b[39m \u001b[43mpa\u001b[49m\u001b[38;5;241;43m.\u001b[39;49m\u001b[43marray\u001b[49m\u001b[43m(\u001b[49m\u001b[43mcol\u001b[49m\u001b[43m,\u001b[49m\u001b[43m \u001b[49m\u001b[38;5;28;43mtype\u001b[39;49m\u001b[38;5;241;43m=\u001b[39;49m\u001b[43mtype_\u001b[49m\u001b[43m,\u001b[49m\u001b[43m \u001b[49m\u001b[43mfrom_pandas\u001b[49m\u001b[38;5;241;43m=\u001b[39;49m\u001b[38;5;28;43;01mTrue\u001b[39;49;00m\u001b[43m,\u001b[49m\u001b[43m \u001b[49m\u001b[43msafe\u001b[49m\u001b[38;5;241;43m=\u001b[39;49m\u001b[43msafe\u001b[49m\u001b[43m)\u001b[49m\n\u001b[1;32m    598\u001b[0m \u001b[38;5;28;01mexcept\u001b[39;00m (pa\u001b[38;5;241m.\u001b[39mArrowInvalid,\n\u001b[1;32m    599\u001b[0m         pa\u001b[38;5;241m.\u001b[39mArrowNotImplementedError,\n\u001b[1;32m    600\u001b[0m         pa\u001b[38;5;241m.\u001b[39mArrowTypeError) \u001b[38;5;28;01mas\u001b[39;00m e:\n\u001b[1;32m    601\u001b[0m     e\u001b[38;5;241m.\u001b[39margs \u001b[38;5;241m+\u001b[39m\u001b[38;5;241m=\u001b[39m (\u001b[38;5;124m\"\u001b[39m\u001b[38;5;124mConversion failed for column \u001b[39m\u001b[38;5;132;01m{!s}\u001b[39;00m\u001b[38;5;124m with type \u001b[39m\u001b[38;5;132;01m{!s}\u001b[39;00m\u001b[38;5;124m\"\u001b[39m\n\u001b[1;32m    602\u001b[0m                \u001b[38;5;241m.\u001b[39mformat(col\u001b[38;5;241m.\u001b[39mname, col\u001b[38;5;241m.\u001b[39mdtype),)\n",
      "File \u001b[0;32m~/.local/lib/python3.12/site-packages/pyarrow/array.pxi:358\u001b[0m, in \u001b[0;36mpyarrow.lib.array\u001b[0;34m()\u001b[0m\n",
      "File \u001b[0;32m~/.local/lib/python3.12/site-packages/pyarrow/array.pxi:85\u001b[0m, in \u001b[0;36mpyarrow.lib._ndarray_to_array\u001b[0;34m()\u001b[0m\n",
      "File \u001b[0;32m~/.local/lib/python3.12/site-packages/pyarrow/error.pxi:92\u001b[0m, in \u001b[0;36mpyarrow.lib.check_status\u001b[0;34m()\u001b[0m\n",
      "\u001b[0;31mArrowInvalid\u001b[0m: (\"Could not convert '-18,48727459' with type str: tried to convert to double\", 'Conversion failed for column latitud with type object')"
     ]
    }
   ],
   "source": [
    "ee_df.to_parquet(\"../data/processed/establecimientos.parquet\")"
   ]
  },
  {
   "cell_type": "markdown",
   "metadata": {},
   "source": [
    "## Sep Establecimientos"
   ]
  },
  {
   "cell_type": "code",
   "execution_count": 54,
   "metadata": {},
   "outputs": [
    {
     "name": "stdout",
     "output_type": "stream",
     "text": [
      "Column name occurrences:\n",
      "'AGNO' -> **9**\n",
      "'RBD' -> **10**\n",
      "'DGV_RBD' -> **10**\n",
      "'NOM_RBD' -> **10**\n",
      "'COD_REG_RBD' -> **10**\n",
      "'COD_PRO_RBD' -> **10**\n",
      "'COD_COM_RBD' -> **10**\n",
      "'NOM_COM_RBD' -> **10**\n",
      "'COD_DEPE' -> **10**\n",
      "'COD_DEPE2' -> **10**\n",
      "'RURAL_RBD' -> **10**\n",
      "'CLASIFICACION_SEP' -> **10**\n",
      "'N_PRIO' -> **10**\n",
      "'N_BEN' -> **10**\n",
      "'COD_DEPROV_RBD' -> **9**\n",
      "'NOM_DEPROV_RBD' -> **9**\n",
      "'CONVENIO_SEP' -> **9**\n",
      "'AÑO_INGRESO_SEP' -> **9**\n",
      "'ESTADO_ESTAB' -> **8**\n",
      "'EE_GRATUITO' -> **8**\n",
      "'N_PRIO_BEN' -> **8**\n",
      "'N_PREF' -> **8**\n",
      "'N_PREF_BEN' -> **8**\n",
      "'﻿AGNO' -> **1**\n"
     ]
    }
   ],
   "source": [
    "sep_ee_dfs = csv_loader(Path(column_path_dict[\"ee_sep\"][0]))\n",
    "\n",
    "print_columns(sep_ee_dfs)"
   ]
  },
  {
   "cell_type": "code",
   "execution_count": 55,
   "metadata": {},
   "outputs": [],
   "source": [
    "for df in sep_ee_dfs:\n",
    "    df.rename(columns={column:column.casefold().strip() for column in df.columns}, inplace=True)\n",
    "    \n",
    "for df in sep_ee_dfs:\n",
    "    df.rename(columns={\"\\ufeffagno\":\"agno\"}, inplace=True)\n",
    "    \n",
    "for df in sep_ee_dfs:\n",
    "    df.rename(columns={\"ïagno\":\"agno\"}, inplace=True)"
   ]
  },
  {
   "cell_type": "code",
   "execution_count": 56,
   "metadata": {},
   "outputs": [
    {
     "name": "stdout",
     "output_type": "stream",
     "text": [
      "Column name occurrences:\n",
      "'agno' -> **10**\n",
      "'rbd' -> **10**\n",
      "'dgv_rbd' -> **10**\n",
      "'nom_rbd' -> **10**\n",
      "'cod_reg_rbd' -> **10**\n",
      "'cod_pro_rbd' -> **10**\n",
      "'cod_com_rbd' -> **10**\n",
      "'nom_com_rbd' -> **10**\n",
      "'cod_depe' -> **10**\n",
      "'cod_depe2' -> **10**\n",
      "'rural_rbd' -> **10**\n",
      "'clasificacion_sep' -> **10**\n",
      "'n_prio' -> **10**\n",
      "'n_ben' -> **10**\n",
      "'cod_deprov_rbd' -> **9**\n",
      "'nom_deprov_rbd' -> **9**\n",
      "'convenio_sep' -> **9**\n",
      "'año_ingreso_sep' -> **9**\n",
      "'estado_estab' -> **8**\n",
      "'ee_gratuito' -> **8**\n",
      "'n_prio_ben' -> **8**\n",
      "'n_pref' -> **8**\n",
      "'n_pref_ben' -> **8**\n"
     ]
    }
   ],
   "source": [
    "print_columns(sep_ee_dfs)"
   ]
  },
  {
   "cell_type": "code",
   "execution_count": 57,
   "metadata": {},
   "outputs": [],
   "source": [
    "sep_ee_df = pd.concat(sep_ee_dfs, axis=0, ignore_index=True)"
   ]
  },
  {
   "cell_type": "code",
   "execution_count": 58,
   "metadata": {},
   "outputs": [],
   "source": [
    "columns_to_drop_sep_ee = [item for item in sep_ee_df.columns if item not in column_path_dict[\"ee_sep\"][1]]"
   ]
  },
  {
   "cell_type": "code",
   "execution_count": 60,
   "metadata": {},
   "outputs": [
    {
     "data": {
      "text/plain": [
       "['dgv_rbd',\n",
       " 'nom_rbd',\n",
       " 'cod_reg_rbd',\n",
       " 'cod_pro_rbd',\n",
       " 'cod_com_rbd',\n",
       " 'nom_com_rbd',\n",
       " 'cod_depe',\n",
       " 'cod_depe2',\n",
       " 'rural_rbd',\n",
       " 'cod_deprov_rbd',\n",
       " 'nom_deprov_rbd',\n",
       " 'año_ingreso_sep',\n",
       " 'estado_estab',\n",
       " 'ee_gratuito']"
      ]
     },
     "execution_count": 60,
     "metadata": {},
     "output_type": "execute_result"
    }
   ],
   "source": [
    "columns_to_drop_sep_ee"
   ]
  },
  {
   "cell_type": "code",
   "execution_count": 59,
   "metadata": {},
   "outputs": [],
   "source": [
    "sep_ee_df.drop(columns=columns_to_drop_sep_ee, inplace=True)"
   ]
  },
  {
   "cell_type": "code",
   "execution_count": 61,
   "metadata": {},
   "outputs": [],
   "source": [
    "sep_ee_df = sep_ee_df.replace(r'^\\s*$', pd.NA, regex=True)"
   ]
  },
  {
   "cell_type": "code",
   "execution_count": 62,
   "metadata": {},
   "outputs": [],
   "source": [
    "sep_ee_df.to_csv(\"../data/processed/sep_establecimientos.csv\")"
   ]
  },
  {
   "cell_type": "code",
   "execution_count": 73,
   "metadata": {},
   "outputs": [],
   "source": [
    "sep_ee_df.to_parquet(\"../data/processed/sep_establecimientos.parquet\")"
   ]
  },
  {
   "cell_type": "markdown",
   "metadata": {},
   "source": [
    "## Matriculas"
   ]
  },
  {
   "cell_type": "code",
   "execution_count": 63,
   "metadata": {},
   "outputs": [
    {
     "name": "stdout",
     "output_type": "stream",
     "text": [
      "Column name occurrences:\n",
      "'ïagno' -> **3**\n",
      "'rbd' -> **3**\n",
      "'dgv_rbd' -> **3**\n",
      "'nom_rbd' -> **3**\n",
      "'cod_depe' -> **3**\n",
      "'cod_depe2' -> **3**\n",
      "'rural_rbd' -> **3**\n",
      "'cod_reg_rbd' -> **3**\n",
      "'cod_pro_rbd' -> **3**\n",
      "'cod_com_rbd' -> **3**\n",
      "'nom_com_rbd' -> **3**\n",
      "'mat_hom_1' -> **3**\n",
      "'mat_muj_1' -> **3**\n",
      "'mat_ens_1' -> **3**\n",
      "'mat_si_2' -> **3**\n",
      "'mat_hom_2' -> **3**\n",
      "'mat_muj_2' -> **3**\n",
      "'mat_ens_2' -> **3**\n",
      "'mat_hom_3' -> **3**\n",
      "'mat_muj_3' -> **3**\n",
      "'mat_ens_3' -> **3**\n",
      "'mat_hom_4' -> **3**\n",
      "'mat_muj_4' -> **3**\n",
      "'mat_ens_4' -> **3**\n",
      "'mat_hom_5' -> **3**\n",
      "'mat_muj_5' -> **3**\n",
      "'mat_ens_5' -> **3**\n",
      "'mat_hom_6' -> **3**\n",
      "'mat_muj_6' -> **3**\n",
      "'mat_ens_6' -> **3**\n",
      "'mat_hom_7' -> **3**\n",
      "'mat_muj_7' -> **3**\n",
      "'mat_ens_7' -> **3**\n",
      "'mat_hom_8' -> **3**\n",
      "'mat_muj_8' -> **3**\n",
      "'mat_ens_8' -> **3**\n",
      "'mat_hom_tot' -> **3**\n",
      "'mat_muj_tot' -> **3**\n",
      "'mat_si_tot' -> **3**\n",
      "'mat_total' -> **3**\n",
      "'cur_sim_01' -> **3**\n",
      "'cur_sim_02' -> **3**\n",
      "'cur_sim_03' -> **3**\n",
      "'cur_sim_04' -> **3**\n",
      "'cur_sim_05' -> **3**\n",
      "'cur_sim_06' -> **3**\n",
      "'cur_sim_07' -> **3**\n",
      "'cur_sim_08' -> **3**\n",
      "'cur_sim_tot' -> **3**\n",
      "'cur_com_01' -> **1**\n",
      "'cur_com_02' -> **1**\n",
      "'cur_com_tot' -> **1**\n",
      "'mat_hom_gd' -> **2**\n",
      "'mat_muj_gd' -> **2**\n",
      "'mat_gd_total' -> **2**\n",
      "'cod_deprov_rbd' -> **2**\n",
      "'nom_deprov_rbd' -> **2**\n",
      "'estado_estab' -> **2**\n",
      "'cur_comb_01' -> **2**\n",
      "'cur_comb_02' -> **2**\n",
      "'cur_comb_tot' -> **2**\n",
      "'mat_si_1' -> **1**\n",
      "'mat_si_4' -> **1**\n",
      "'mat_si_8' -> **1**\n",
      "'AGNO' -> **7**\n",
      "'RBD' -> **7**\n",
      "'DGV_RBD' -> **7**\n",
      "'NOM_RBD' -> **7**\n",
      "'COD_DEPE' -> **7**\n",
      "'COD_DEPE2' -> **7**\n",
      "'RURAL_RBD' -> **7**\n",
      "'COD_REG_RBD' -> **7**\n",
      "'COD_PRO_RBD' -> **7**\n",
      "'COD_COM_RBD' -> **7**\n",
      "'NOM_COM_RBD' -> **7**\n",
      "'COD_DEPROV_RBD' -> **7**\n",
      "'NOM_DEPROV_RBD' -> **7**\n",
      "'ESTADO_ESTAB' -> **7**\n",
      "'MAT_SI_1' -> **5**\n",
      "'MAT_HOM_1' -> **7**\n",
      "'MAT_MUJ_1' -> **7**\n",
      "'MAT_ENS_1' -> **7**\n",
      "'MAT_SI_2' -> **7**\n",
      "'MAT_HOM_2' -> **7**\n",
      "'MAT_MUJ_2' -> **7**\n",
      "'MAT_ENS_2' -> **7**\n",
      "'MAT_SI_3' -> **2**\n",
      "'MAT_HOM_3' -> **7**\n",
      "'MAT_MUJ_3' -> **7**\n",
      "'MAT_ENS_3' -> **7**\n",
      "'MAT_SI_4' -> **5**\n",
      "'MAT_HOM_4' -> **7**\n",
      "'MAT_MUJ_4' -> **7**\n",
      "'MAT_ENS_4' -> **7**\n",
      "'MAT_SI_5' -> **5**\n",
      "'MAT_HOM_5' -> **7**\n",
      "'MAT_MUJ_5' -> **7**\n",
      "'MAT_ENS_5' -> **7**\n",
      "'MAT_HOM_6' -> **7**\n",
      "'MAT_MUJ_6' -> **7**\n",
      "'MAT_ENS_6' -> **7**\n",
      "'MAT_HOM_7' -> **7**\n",
      "'MAT_MUJ_7' -> **7**\n",
      "'MAT_ENS_7' -> **7**\n",
      "'MAT_SI_8' -> **1**\n",
      "'MAT_HOM_8' -> **7**\n",
      "'MAT_MUJ_8' -> **7**\n",
      "'MAT_ENS_8' -> **7**\n",
      "'MAT_HOM_TOT' -> **7**\n",
      "'MAT_MUJ_TOT' -> **7**\n",
      "'MAT_SI_TOT' -> **7**\n",
      "'MAT_TOTAL' -> **7**\n",
      "'CUR_SIM_01' -> **7**\n",
      "'CUR_SIM_02' -> **7**\n",
      "'CUR_SIM_03' -> **7**\n",
      "'CUR_SIM_04' -> **7**\n",
      "'CUR_SIM_05' -> **7**\n",
      "'CUR_SIM_06' -> **7**\n",
      "'CUR_SIM_07' -> **7**\n",
      "'CUR_SIM_08' -> **7**\n",
      "'CUR_SIM_TOT' -> **7**\n",
      "'CUR_COMB_01' -> **7**\n",
      "'CUR_COMB_02' -> **7**\n",
      "'CUR_COMB_TOT' -> **7**\n",
      "'NOM_REG_RBD_A' -> **4**\n",
      "'Unnamed: 0' -> **1**\n"
     ]
    }
   ],
   "source": [
    "matri_dfs = csv_loader(Path(column_path_dict[\"ee_matricula\"][0]))\n",
    "\n",
    "print_columns(matri_dfs)"
   ]
  },
  {
   "cell_type": "code",
   "execution_count": 64,
   "metadata": {},
   "outputs": [],
   "source": [
    "for df in matri_dfs:\n",
    "    df.rename(columns={column:column.casefold().strip() for column in df.columns}, inplace=True)\n",
    "    \n",
    "for df in matri_dfs:\n",
    "    df.rename(columns={\"\\ufeffagno\":\"agno\"}, inplace=True)\n",
    "    \n",
    "for df in matri_dfs:\n",
    "    df.rename(columns={\"ïagno\":\"agno\"}, inplace=True)"
   ]
  },
  {
   "cell_type": "code",
   "execution_count": 65,
   "metadata": {},
   "outputs": [
    {
     "name": "stdout",
     "output_type": "stream",
     "text": [
      "Column name occurrences:\n",
      "'agno' -> **10**\n",
      "'rbd' -> **10**\n",
      "'dgv_rbd' -> **10**\n",
      "'nom_rbd' -> **10**\n",
      "'cod_depe' -> **10**\n",
      "'cod_depe2' -> **10**\n",
      "'rural_rbd' -> **10**\n",
      "'cod_reg_rbd' -> **10**\n",
      "'cod_pro_rbd' -> **10**\n",
      "'cod_com_rbd' -> **10**\n",
      "'nom_com_rbd' -> **10**\n",
      "'mat_hom_1' -> **10**\n",
      "'mat_muj_1' -> **10**\n",
      "'mat_ens_1' -> **10**\n",
      "'mat_si_2' -> **10**\n",
      "'mat_hom_2' -> **10**\n",
      "'mat_muj_2' -> **10**\n",
      "'mat_ens_2' -> **10**\n",
      "'mat_hom_3' -> **10**\n",
      "'mat_muj_3' -> **10**\n",
      "'mat_ens_3' -> **10**\n",
      "'mat_hom_4' -> **10**\n",
      "'mat_muj_4' -> **10**\n",
      "'mat_ens_4' -> **10**\n",
      "'mat_hom_5' -> **10**\n",
      "'mat_muj_5' -> **10**\n",
      "'mat_ens_5' -> **10**\n",
      "'mat_hom_6' -> **10**\n",
      "'mat_muj_6' -> **10**\n",
      "'mat_ens_6' -> **10**\n",
      "'mat_hom_7' -> **10**\n",
      "'mat_muj_7' -> **10**\n",
      "'mat_ens_7' -> **10**\n",
      "'mat_hom_8' -> **10**\n",
      "'mat_muj_8' -> **10**\n",
      "'mat_ens_8' -> **10**\n",
      "'mat_hom_tot' -> **10**\n",
      "'mat_muj_tot' -> **10**\n",
      "'mat_si_tot' -> **10**\n",
      "'mat_total' -> **10**\n",
      "'cur_sim_01' -> **10**\n",
      "'cur_sim_02' -> **10**\n",
      "'cur_sim_03' -> **10**\n",
      "'cur_sim_04' -> **10**\n",
      "'cur_sim_05' -> **10**\n",
      "'cur_sim_06' -> **10**\n",
      "'cur_sim_07' -> **10**\n",
      "'cur_sim_08' -> **10**\n",
      "'cur_sim_tot' -> **10**\n",
      "'cur_com_01' -> **1**\n",
      "'cur_com_02' -> **1**\n",
      "'cur_com_tot' -> **1**\n",
      "'mat_hom_gd' -> **2**\n",
      "'mat_muj_gd' -> **2**\n",
      "'mat_gd_total' -> **2**\n",
      "'cod_deprov_rbd' -> **9**\n",
      "'nom_deprov_rbd' -> **9**\n",
      "'estado_estab' -> **9**\n",
      "'cur_comb_01' -> **9**\n",
      "'cur_comb_02' -> **9**\n",
      "'cur_comb_tot' -> **9**\n",
      "'mat_si_1' -> **6**\n",
      "'mat_si_4' -> **6**\n",
      "'mat_si_8' -> **2**\n",
      "'mat_si_3' -> **2**\n",
      "'mat_si_5' -> **5**\n",
      "'nom_reg_rbd_a' -> **4**\n",
      "'unnamed: 0' -> **1**\n"
     ]
    }
   ],
   "source": [
    "print_columns(matri_dfs)"
   ]
  },
  {
   "cell_type": "code",
   "execution_count": 66,
   "metadata": {},
   "outputs": [],
   "source": [
    "matri_df = pd.concat(matri_dfs, axis=0, ignore_index=True)"
   ]
  },
  {
   "cell_type": "code",
   "execution_count": 67,
   "metadata": {},
   "outputs": [],
   "source": [
    "columns_to_drop_matri = [item for item in matri_df.columns if item not in column_path_dict[\"ee_matricula\"][1]]"
   ]
  },
  {
   "cell_type": "code",
   "execution_count": 68,
   "metadata": {},
   "outputs": [
    {
     "data": {
      "text/plain": [
       "['dgv_rbd',\n",
       " 'cod_depe',\n",
       " 'cod_depe2',\n",
       " 'rural_rbd',\n",
       " 'cod_reg_rbd',\n",
       " 'cod_pro_rbd',\n",
       " 'cod_com_rbd',\n",
       " 'nom_com_rbd',\n",
       " 'mat_ens_1',\n",
       " 'mat_si_2',\n",
       " 'mat_ens_2',\n",
       " 'mat_ens_3',\n",
       " 'mat_ens_4',\n",
       " 'mat_ens_5',\n",
       " 'mat_ens_6',\n",
       " 'mat_ens_7',\n",
       " 'mat_ens_8',\n",
       " 'mat_si_tot',\n",
       " 'cur_sim_01',\n",
       " 'cur_sim_02',\n",
       " 'cur_sim_03',\n",
       " 'cur_sim_04',\n",
       " 'cur_sim_05',\n",
       " 'cur_sim_06',\n",
       " 'cur_sim_07',\n",
       " 'cur_sim_08',\n",
       " 'cur_sim_tot',\n",
       " 'cur_com_01',\n",
       " 'cur_com_02',\n",
       " 'cur_com_tot',\n",
       " 'mat_hom_gd',\n",
       " 'mat_muj_gd',\n",
       " 'mat_gd_total',\n",
       " 'cod_deprov_rbd',\n",
       " 'nom_deprov_rbd',\n",
       " 'estado_estab',\n",
       " 'cur_comb_01',\n",
       " 'cur_comb_02',\n",
       " 'cur_comb_tot',\n",
       " 'mat_si_1',\n",
       " 'mat_si_4',\n",
       " 'mat_si_8',\n",
       " 'mat_si_3',\n",
       " 'mat_si_5',\n",
       " 'nom_reg_rbd_a',\n",
       " 'unnamed: 0']"
      ]
     },
     "execution_count": 68,
     "metadata": {},
     "output_type": "execute_result"
    }
   ],
   "source": [
    "columns_to_drop_matri"
   ]
  },
  {
   "cell_type": "code",
   "execution_count": 69,
   "metadata": {},
   "outputs": [],
   "source": [
    "matri_df.drop(columns=columns_to_drop_matri, inplace=True)"
   ]
  },
  {
   "cell_type": "code",
   "execution_count": 70,
   "metadata": {},
   "outputs": [],
   "source": [
    "matri_df = matri_df.replace(r'^\\s*$', pd.NA, regex=True)"
   ]
  },
  {
   "cell_type": "code",
   "execution_count": 71,
   "metadata": {},
   "outputs": [],
   "source": [
    "matri_df.to_csv(\"../data/processed/matriculas.csv\")"
   ]
  },
  {
   "cell_type": "code",
   "execution_count": 72,
   "metadata": {},
   "outputs": [],
   "source": [
    "matri_df.to_parquet(\"../data/processed/matriculas.parquet\")"
   ]
  }
 ],
 "metadata": {
  "kernelspec": {
   "display_name": "Python 3",
   "language": "python",
   "name": "python3"
  },
  "language_info": {
   "codemirror_mode": {
    "name": "ipython",
    "version": 3
   },
   "file_extension": ".py",
   "mimetype": "text/x-python",
   "name": "python",
   "nbconvert_exporter": "python",
   "pygments_lexer": "ipython3",
   "version": "3.12.3"
  }
 },
 "nbformat": 4,
 "nbformat_minor": 2
}

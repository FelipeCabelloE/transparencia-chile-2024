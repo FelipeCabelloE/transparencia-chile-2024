{
 "cells": [
  {
   "cell_type": "code",
   "execution_count": 1,
   "metadata": {},
   "outputs": [],
   "source": [
    "import pandas as pd\n",
    "from pandas.core.frame import DataFrame\n",
    "\n",
    "from pathlib import Path\n",
    "from collections import Counter\n",
    "import unicodedata\n"
   ]
  },
  {
   "cell_type": "code",
   "execution_count": 2,
   "metadata": {},
   "outputs": [],
   "source": [
    "# Define some helper functions\n",
    "\n",
    "def csv_loader(path:Path) ->list[DataFrame]:\n",
    "    \"\"\"Given a path, extracts and loads every csv recursively and then loads it into pd.df\n",
    "    \"\"\"\n",
    "    files = path.rglob('*.csv')\n",
    "    return [pd.read_csv(filepath, sep=\";\", low_memory=False) for filepath in files]\n",
    "\n",
    "\n",
    "def print_columns(dataframes:list[DataFrame], length=False, unicode=False, repr=False) -> None:\n",
    "    \"\"\"Print columns and ocurrences and more\n",
    "    \"\"\"\n",
    "    all_columns = [col for df in dataframes for col in df.columns]\n",
    "\n",
    "    column_counts = Counter(all_columns)\n",
    "\n",
    "    print(\"Column name occurrences:\")\n",
    "    for col, count in column_counts.items():\n",
    "        print(f\"'{col}' -> **{count}**\")\n",
    "        if length:\n",
    "            print(f\"  - Length: {len(col)}\")\n",
    "        if unicode:\n",
    "            print(f\"  - Unicode name: {[unicodedata.name(c) for c in col]}\")\n",
    "        if repr:\n",
    "            print(f\"  - Repr: {repr(col)}\")\n",
    "\n",
    "\n"
   ]
  },
  {
   "cell_type": "code",
   "execution_count": 3,
   "metadata": {},
   "outputs": [],
   "source": [
    "\n",
    "# The paths and columns to keep of the information we will be working with\n",
    "\n",
    "column_path_dict = {\n",
    "    \"denuncias\": [\n",
    "        \"../data/raw/denuncias/\",\n",
    "        [\n",
    "            \"agno\",\n",
    "            \"rbd\",\n",
    "            \"den_canal\",\n",
    "            \"den_estado\",\n",
    "            \"den_fec_creacion\",\n",
    "            \"den_fec_termino_denuncia\",\n",
    "            \"den_oficina\",\n",
    "            \"den_departamento\",\n",
    "            \"den_ambito\",\n",
    "            \"den_tema\",\n",
    "            \"den_subtema\",\n",
    "            \"den_sexo\",\n",
    "        ],\n",
    "    ],\n",
    "    \"ee_info\": [\n",
    "        \"../data/raw/info_estab/\",\n",
    "        [\n",
    "            \"agno\",\n",
    "            \"rbd\",\n",
    "            \"nom_rbd\",\n",
    "            \"nom_com_rbd\",\n",
    "            \"cod_com_rbd\",\n",
    "            \"cod_reg_rbd\",\n",
    "            \"cod_depe\",\n",
    "            \"cod_depe2\",\n",
    "            \"rural_rbd\",\n",
    "            \"latitud\",\n",
    "            \"longitud\",\n",
    "            \"convenio_pie\",\n",
    "            \"ori_religiosa\",\n",
    "            \"pago_matricula\",\n",
    "            \"pago_mensual\",\n",
    "        ],\n",
    "    ],\n",
    "    \"ee_sep\": [\n",
    "        \"../data/raw/estab_sep/\",\n",
    "        [\n",
    "            \"agno\",\n",
    "            \"rbd\",\n",
    "            \"clasificacion_sep\",\n",
    "            \"convenio_sep\",\n",
    "            \"n_prio\",\n",
    "            \"n_ben\",\n",
    "            \"n_prio_ben\",\n",
    "            \"n_pref\",\n",
    "            \"n_pref_ben\",\n",
    "        ],\n",
    "    ],\n",
    "    \"ee_matricula\": [\n",
    "        \"../data/raw/matricula/\",\n",
    "        [\n",
    "            \"agno\",\n",
    "            \"rbd\",\n",
    "            \"nom_rbd\",\n",
    "            \"mat_hom_1\",\n",
    "            \"mat_hom_2\",\n",
    "            \"mat_hom_3\",\n",
    "            \"mat_hom_4\",\n",
    "            \"mat_hom_5\",\n",
    "            \"mat_hom_6\",\n",
    "            \"mat_hom_7\",\n",
    "            \"mat_hom_8\",\n",
    "            \"mat_muj_1\",\n",
    "            \"mat_muj_2\",\n",
    "            \"mat_muj_3\",\n",
    "            \"mat_muj_4\",\n",
    "            \"mat_muj_5\",\n",
    "            \"mat_muj_6\",\n",
    "            \"mat_muj_7\",\n",
    "            \"mat_muj_8\",\n",
    "            \"mat_hom_tot\",\n",
    "            \"mat_muj_tot\",\n",
    "            \"mat_total\",\n",
    "        ],\n",
    "    ],\n",
    "}"
   ]
  },
  {
   "cell_type": "markdown",
   "metadata": {},
   "source": [
    "## Denuncias"
   ]
  },
  {
   "cell_type": "code",
   "execution_count": 4,
   "metadata": {},
   "outputs": [
    {
     "name": "stdout",
     "output_type": "stream",
     "text": [
      "Column name occurrences:\n",
      "'AGNO' -> **11**\n",
      "'DEN_ID' -> **11**\n",
      "'DEN_CANAL' -> **11**\n",
      "'DEN_ESTADO' -> **11**\n",
      "'DEN_FEC_CREACION' -> **11**\n",
      "'DEN_MES_CREACION' -> **11**\n",
      "'DEN_TRIMESTRE_CREACION' -> **11**\n",
      "'DEN_FEC_TERMINO_DENUNCIA' -> **11**\n",
      "'DEN_OFICINA' -> **11**\n",
      "'DEN_DEPARTAMENTO' -> **11**\n",
      "'DEN_AMBITO' -> **11**\n",
      "'DEN_TEMA' -> **11**\n",
      "'DEN_SUBTEMA' -> **11**\n",
      "'DEN_MRUN' -> **11**\n",
      "'DEN_AFECTADO' -> **11**\n",
      "'DEN_SEXO' -> **11**\n",
      "'DEN_TIPO' -> **11**\n",
      "'AFEC_MRUN' -> **11**\n",
      "'RBD' -> **11**\n",
      "'EE_NOMBRE' -> **11**\n",
      "'EE_COD_REGION' -> **11**\n",
      "'EE_COD_PROVINCIA' -> **11**\n",
      "'EE_COD_COMUNA' -> **11**\n",
      "'EE_NOM_COMUNA' -> **11**\n",
      "'EE_COD_DEPE' -> **11**\n",
      "'EE_DEPE_AGRUP' -> **11**\n",
      "'AFEC_COD_ENSE2' -> **11**\n",
      "'DEN_REGION' -> **11**\n",
      "'AFEC_SEXO' -> **10**\n",
      "'FIS_ID' -> **9**\n",
      "'FIS_ID_SEGUIMIENTO' -> **9**\n",
      "'PA_ID' -> **9**\n",
      "'DEN_CIBERBULLYING' -> **9**\n",
      "'RSIE' -> **8**\n",
      "'AFEC_TIPO' -> **4**\n",
      "'DEN_ENVIO_RESP' -> **3**\n",
      "'DEN_GENERO' -> **3**\n",
      "'AFEC_GENERO' -> **3**\n",
      "'DEN_TIPO_INSTITUCION' -> **3**\n",
      "'SOST_RUT' -> **3**\n",
      "'SOST_MRUN' -> **3**\n",
      "'SOST_NOMBRE' -> **3**\n"
     ]
    }
   ],
   "source": [
    "denuncias_dfs = csv_loader(Path(column_path_dict[\"denuncias\"][0]))\n",
    "\n",
    "print_columns(denuncias_dfs)\n"
   ]
  },
  {
   "cell_type": "code",
   "execution_count": 5,
   "metadata": {},
   "outputs": [],
   "source": [
    "for df in denuncias_dfs:\n",
    "    df.rename(columns={column:column.casefold().strip() for column in df.columns}, inplace=True)"
   ]
  },
  {
   "cell_type": "code",
   "execution_count": 6,
   "metadata": {},
   "outputs": [],
   "source": [
    "df_denun = pd.concat(denuncias_dfs, axis=0, ignore_index=True)"
   ]
  },
  {
   "cell_type": "code",
   "execution_count": 7,
   "metadata": {},
   "outputs": [],
   "source": [
    "columns_to_drop_denun = [item for item in df_denun.columns if item not in column_path_dict[\"denuncias\"][1]]"
   ]
  },
  {
   "cell_type": "code",
   "execution_count": 8,
   "metadata": {},
   "outputs": [],
   "source": [
    "df_denun.drop(columns=columns_to_drop_denun, inplace=True)"
   ]
  },
  {
   "cell_type": "code",
   "execution_count": 9,
   "metadata": {},
   "outputs": [],
   "source": [
    "df_denun = df_denun.replace(r'^\\s*$', pd.NA, regex=True)"
   ]
  },
  {
   "cell_type": "code",
   "execution_count": 10,
   "metadata": {},
   "outputs": [
    {
     "data": {
      "text/html": [
       "<div>\n",
       "<style scoped>\n",
       "    .dataframe tbody tr th:only-of-type {\n",
       "        vertical-align: middle;\n",
       "    }\n",
       "\n",
       "    .dataframe tbody tr th {\n",
       "        vertical-align: top;\n",
       "    }\n",
       "\n",
       "    .dataframe thead th {\n",
       "        text-align: right;\n",
       "    }\n",
       "</style>\n",
       "<table border=\"1\" class=\"dataframe\">\n",
       "  <thead>\n",
       "    <tr style=\"text-align: right;\">\n",
       "      <th></th>\n",
       "      <th>agno</th>\n",
       "      <th>den_canal</th>\n",
       "      <th>den_estado</th>\n",
       "      <th>den_fec_creacion</th>\n",
       "      <th>den_fec_termino_denuncia</th>\n",
       "      <th>den_oficina</th>\n",
       "      <th>den_departamento</th>\n",
       "      <th>den_ambito</th>\n",
       "      <th>den_tema</th>\n",
       "      <th>den_subtema</th>\n",
       "      <th>den_sexo</th>\n",
       "      <th>rbd</th>\n",
       "    </tr>\n",
       "  </thead>\n",
       "  <tbody>\n",
       "    <tr>\n",
       "      <th>0</th>\n",
       "      <td>2014</td>\n",
       "      <td>1</td>\n",
       "      <td>1</td>\n",
       "      <td>20140102</td>\n",
       "      <td>20140108</td>\n",
       "      <td>2</td>\n",
       "      <td>1</td>\n",
       "      <td>CONVIVENCIA</td>\n",
       "      <td>MEDIDAS DISCIPLINARIAS</td>\n",
       "      <td>NO RENOVACIÓN O CANCELACIÓN DE MATRÍCULA A PÁR...</td>\n",
       "      <td>2</td>\n",
       "      <td>283</td>\n",
       "    </tr>\n",
       "  </tbody>\n",
       "</table>\n",
       "</div>"
      ],
      "text/plain": [
       "   agno  den_canal  den_estado  den_fec_creacion den_fec_termino_denuncia  \\\n",
       "0  2014          1           1          20140102                 20140108   \n",
       "\n",
       "   den_oficina  den_departamento   den_ambito                den_tema  \\\n",
       "0            2                 1  CONVIVENCIA  MEDIDAS DISCIPLINARIAS   \n",
       "\n",
       "                                         den_subtema  den_sexo  rbd  \n",
       "0  NO RENOVACIÓN O CANCELACIÓN DE MATRÍCULA A PÁR...         2  283  "
      ]
     },
     "execution_count": 10,
     "metadata": {},
     "output_type": "execute_result"
    }
   ],
   "source": [
    "df_denun.head(1)"
   ]
  },
  {
   "cell_type": "code",
   "execution_count": 11,
   "metadata": {},
   "outputs": [],
   "source": [
    "df_denun[\"den_fec_creacion\"] = pd.to_datetime(df_denun[\"den_fec_creacion\"],format='%Y%m%d')\n",
    "df_denun[\"den_fec_termino_denuncia\"] = pd.to_datetime(df_denun[\"den_fec_termino_denuncia\"],format='%Y%m%d')"
   ]
  },
  {
   "cell_type": "code",
   "execution_count": 12,
   "metadata": {},
   "outputs": [],
   "source": [
    "df_denun.to_csv(\"../data/processed/denuncias.csv\")"
   ]
  },
  {
   "cell_type": "code",
   "execution_count": 13,
   "metadata": {},
   "outputs": [],
   "source": [
    "df_denun.to_parquet(\"../data/processed/denuncias.parquet\")"
   ]
  },
  {
   "cell_type": "markdown",
   "metadata": {},
   "source": [
    "## Establecimientos Info"
   ]
  },
  {
   "cell_type": "code",
   "execution_count": 14,
   "metadata": {},
   "outputs": [
    {
     "name": "stdout",
     "output_type": "stream",
     "text": [
      "Column name occurrences:\n",
      "'ïagno' -> **3**\n",
      "'rbd' -> **3**\n",
      "'dgv_rbd' -> **3**\n",
      "'nom_rbd' -> **3**\n",
      "'cod_reg_rbd' -> **3**\n",
      "'cod_pro_rbd' -> **3**\n",
      "'cod_com_rbd' -> **3**\n",
      "'nom_com_rbd' -> **3**\n",
      "'cod_depe' -> **3**\n",
      "'cod_depe2' -> **3**\n",
      "'rural_rbd' -> **3**\n",
      "'latitud' -> **3**\n",
      "'longitud' -> **3**\n",
      "'convenio_pie' -> **3**\n",
      "'ens_01' -> **3**\n",
      "'ens_02' -> **3**\n",
      "'ens_03' -> **3**\n",
      "'ens_04' -> **3**\n",
      "'ens_05' -> **3**\n",
      "'ens_06' -> **3**\n",
      "'ens_07' -> **3**\n",
      "'ens_08' -> **3**\n",
      "'ens_09' -> **3**\n",
      "'ens_10' -> **1**\n",
      "'ori_religiosa' -> **3**\n",
      "'ori_otro_glosa' -> **3**\n",
      "'pago_matricula' -> **3**\n",
      "'pago_mensual' -> **3**\n",
      "'cod_deprov_rbd' -> **2**\n",
      "'nom_deprov_rbd' -> **2**\n",
      "'matricula' -> **2**\n",
      "'estado_estab' -> **2**\n",
      "'mrun' -> **1**\n",
      "'rut_sostenedor' -> **1**\n",
      "'p_juridica' -> **1**\n",
      "'AGNO' -> **7**\n",
      "'RBD' -> **7**\n",
      "'DGV_RBD' -> **7**\n",
      "'NOM_RBD' -> **7**\n",
      "'MRUN' -> **7**\n",
      "'RUT_SOSTENEDOR' -> **7**\n",
      "'P_JURIDICA' -> **7**\n",
      "'COD_REG_RBD' -> **7**\n",
      "'COD_PRO_RBD' -> **7**\n",
      "'COD_COM_RBD' -> **7**\n",
      "'NOM_COM_RBD' -> **7**\n",
      "'COD_DEPROV_RBD' -> **7**\n",
      "'NOM_DEPROV_RBD' -> **7**\n",
      "'COD_DEPE' -> **7**\n",
      "'COD_DEPE2' -> **7**\n",
      "'RURAL_RBD' -> **7**\n",
      "'LATITUD' -> **7**\n",
      "'LONGITUD' -> **7**\n",
      "'CONVENIO_PIE' -> **7**\n",
      "'ENS_01' -> **7**\n",
      "'ENS_02' -> **7**\n",
      "'ENS_03' -> **7**\n",
      "'ENS_04' -> **7**\n",
      "'ENS_05' -> **7**\n",
      "'ENS_06' -> **7**\n",
      "'ENS_07' -> **7**\n",
      "'ENS_08' -> **7**\n",
      "'ENS_09' -> **7**\n",
      "'MATRICULA' -> **7**\n",
      "'ESTADO_ESTAB' -> **7**\n",
      "'ORI_RELIGIOSA' -> **7**\n",
      "'ORI_OTRO_GLOSA' -> **7**\n",
      "'PAGO_MATRICULA' -> **7**\n",
      "'PAGO_MENSUAL' -> **7**\n",
      "'NOM_REG_RBD_A' -> **5**\n",
      "'ENS_10' -> **5**\n",
      "'ENS_11' -> **5**\n",
      "'PACE' -> **2**\n",
      "'MAT_TOTAL' -> **2**\n",
      "'ESPE_01' -> **1**\n",
      "'ESPE_02' -> **1**\n",
      "'ESPE_03' -> **1**\n",
      "'ESPE_04' -> **1**\n",
      "'ESPE_05' -> **1**\n",
      "'ESPE_06' -> **1**\n",
      "'ESPE_07' -> **1**\n",
      "'ESPE_08' -> **1**\n",
      "'ESPE_09' -> **1**\n",
      "'ESPE_10' -> **1**\n",
      "'ESPE_11' -> **1**\n"
     ]
    }
   ],
   "source": [
    "ee_dfs = csv_loader(Path(column_path_dict[\"ee_info\"][0]))\n",
    "\n",
    "print_columns(ee_dfs)"
   ]
  },
  {
   "cell_type": "code",
   "execution_count": 15,
   "metadata": {},
   "outputs": [],
   "source": [
    "for df in ee_dfs:\n",
    "    df.rename(columns={column:column.casefold().strip() for column in df.columns}, inplace=True)\n",
    "    \n",
    "for df in ee_dfs:\n",
    "    df.rename(columns={\"\\ufeffagno\":\"agno\"}, inplace=True)\n",
    "    \n",
    "for df in ee_dfs:\n",
    "    df.rename(columns={\"ïagno\":\"agno\"}, inplace=True)"
   ]
  },
  {
   "cell_type": "code",
   "execution_count": 16,
   "metadata": {},
   "outputs": [
    {
     "name": "stdout",
     "output_type": "stream",
     "text": [
      "Column name occurrences:\n",
      "'agno' -> **10**\n",
      "'rbd' -> **10**\n",
      "'dgv_rbd' -> **10**\n",
      "'nom_rbd' -> **10**\n",
      "'cod_reg_rbd' -> **10**\n",
      "'cod_pro_rbd' -> **10**\n",
      "'cod_com_rbd' -> **10**\n",
      "'nom_com_rbd' -> **10**\n",
      "'cod_depe' -> **10**\n",
      "'cod_depe2' -> **10**\n",
      "'rural_rbd' -> **10**\n",
      "'latitud' -> **10**\n",
      "'longitud' -> **10**\n",
      "'convenio_pie' -> **10**\n",
      "'ens_01' -> **10**\n",
      "'ens_02' -> **10**\n",
      "'ens_03' -> **10**\n",
      "'ens_04' -> **10**\n",
      "'ens_05' -> **10**\n",
      "'ens_06' -> **10**\n",
      "'ens_07' -> **10**\n",
      "'ens_08' -> **10**\n",
      "'ens_09' -> **10**\n",
      "'ens_10' -> **6**\n",
      "'ori_religiosa' -> **10**\n",
      "'ori_otro_glosa' -> **10**\n",
      "'pago_matricula' -> **10**\n",
      "'pago_mensual' -> **10**\n",
      "'cod_deprov_rbd' -> **9**\n",
      "'nom_deprov_rbd' -> **9**\n",
      "'matricula' -> **9**\n",
      "'estado_estab' -> **9**\n",
      "'mrun' -> **8**\n",
      "'rut_sostenedor' -> **8**\n",
      "'p_juridica' -> **8**\n",
      "'nom_reg_rbd_a' -> **5**\n",
      "'ens_11' -> **5**\n",
      "'pace' -> **2**\n",
      "'mat_total' -> **2**\n",
      "'espe_01' -> **1**\n",
      "'espe_02' -> **1**\n",
      "'espe_03' -> **1**\n",
      "'espe_04' -> **1**\n",
      "'espe_05' -> **1**\n",
      "'espe_06' -> **1**\n",
      "'espe_07' -> **1**\n",
      "'espe_08' -> **1**\n",
      "'espe_09' -> **1**\n",
      "'espe_10' -> **1**\n",
      "'espe_11' -> **1**\n"
     ]
    }
   ],
   "source": [
    "print_columns(ee_dfs)"
   ]
  },
  {
   "cell_type": "code",
   "execution_count": 17,
   "metadata": {},
   "outputs": [],
   "source": [
    "ee_df = pd.concat(ee_dfs, axis=0, ignore_index=True)"
   ]
  },
  {
   "cell_type": "code",
   "execution_count": 18,
   "metadata": {},
   "outputs": [],
   "source": [
    "columns_to_drop_ee = [item for item in ee_df.columns if item not in column_path_dict[\"ee_info\"][1]]"
   ]
  },
  {
   "cell_type": "code",
   "execution_count": 19,
   "metadata": {},
   "outputs": [
    {
     "data": {
      "text/plain": [
       "['dgv_rbd',\n",
       " 'cod_pro_rbd',\n",
       " 'ens_01',\n",
       " 'ens_02',\n",
       " 'ens_03',\n",
       " 'ens_04',\n",
       " 'ens_05',\n",
       " 'ens_06',\n",
       " 'ens_07',\n",
       " 'ens_08',\n",
       " 'ens_09',\n",
       " 'ens_10',\n",
       " 'ori_otro_glosa',\n",
       " 'cod_deprov_rbd',\n",
       " 'nom_deprov_rbd',\n",
       " 'matricula',\n",
       " 'estado_estab',\n",
       " 'mrun',\n",
       " 'rut_sostenedor',\n",
       " 'p_juridica',\n",
       " 'nom_reg_rbd_a',\n",
       " 'ens_11',\n",
       " 'pace',\n",
       " 'mat_total',\n",
       " 'espe_01',\n",
       " 'espe_02',\n",
       " 'espe_03',\n",
       " 'espe_04',\n",
       " 'espe_05',\n",
       " 'espe_06',\n",
       " 'espe_07',\n",
       " 'espe_08',\n",
       " 'espe_09',\n",
       " 'espe_10',\n",
       " 'espe_11']"
      ]
     },
     "execution_count": 19,
     "metadata": {},
     "output_type": "execute_result"
    }
   ],
   "source": [
    "columns_to_drop_ee"
   ]
  },
  {
   "cell_type": "code",
   "execution_count": 20,
   "metadata": {},
   "outputs": [],
   "source": [
    "ee_df.drop(columns=columns_to_drop_ee, inplace=True)"
   ]
  },
  {
   "cell_type": "code",
   "execution_count": 21,
   "metadata": {},
   "outputs": [],
   "source": [
    "ee_df = ee_df.replace(r'^\\s*$', pd.NA, regex=True)"
   ]
  },
  {
   "cell_type": "code",
   "execution_count": 22,
   "metadata": {},
   "outputs": [],
   "source": [
    "import locale\n",
    "\n",
    "# Set the locale to a comma-decimal locale (e.g., German)\n",
    "locale.setlocale(locale.LC_ALL, 'en_US.UTF-8')\n",
    "\n",
    "def convert_to_float(value):\n",
    "    if pd.isna(value):\n",
    "        return pd.NA\n",
    "    if isinstance(value, (float, int)):\n",
    "        return float(value)\n",
    "    if isinstance(value, str):\n",
    "        return float(value.replace(',', '.'))\n",
    "        # try:\n",
    "        #     return locale.atof(value)\n",
    "        # except ValueError:\n",
    "        #     try:\n",
    "        #         # Fallback to period as decimal separator\n",
    "        #         return float(value.replace('.','').replace(',', '.'))\n",
    "        #     except ValueError:\n",
    "        #         return pd.NA\n",
    "    return pd.NA\n"
   ]
  },
  {
   "cell_type": "code",
   "execution_count": 23,
   "metadata": {},
   "outputs": [
    {
     "data": {
      "text/html": [
       "<div>\n",
       "<style scoped>\n",
       "    .dataframe tbody tr th:only-of-type {\n",
       "        vertical-align: middle;\n",
       "    }\n",
       "\n",
       "    .dataframe tbody tr th {\n",
       "        vertical-align: top;\n",
       "    }\n",
       "\n",
       "    .dataframe thead th {\n",
       "        text-align: right;\n",
       "    }\n",
       "</style>\n",
       "<table border=\"1\" class=\"dataframe\">\n",
       "  <thead>\n",
       "    <tr style=\"text-align: right;\">\n",
       "      <th></th>\n",
       "      <th>agno</th>\n",
       "      <th>rbd</th>\n",
       "      <th>nom_rbd</th>\n",
       "      <th>cod_reg_rbd</th>\n",
       "      <th>cod_com_rbd</th>\n",
       "      <th>nom_com_rbd</th>\n",
       "      <th>cod_depe</th>\n",
       "      <th>cod_depe2</th>\n",
       "      <th>rural_rbd</th>\n",
       "      <th>latitud</th>\n",
       "      <th>longitud</th>\n",
       "      <th>convenio_pie</th>\n",
       "      <th>ori_religiosa</th>\n",
       "      <th>pago_matricula</th>\n",
       "      <th>pago_mensual</th>\n",
       "    </tr>\n",
       "  </thead>\n",
       "  <tbody>\n",
       "    <tr>\n",
       "      <th>0</th>\n",
       "      <td>2014</td>\n",
       "      <td>1</td>\n",
       "      <td>LICEO POLITECNICO ARICA</td>\n",
       "      <td>15</td>\n",
       "      <td>15101</td>\n",
       "      <td>ARICA</td>\n",
       "      <td>2</td>\n",
       "      <td>1</td>\n",
       "      <td>0</td>\n",
       "      <td>-18.487274</td>\n",
       "      <td>-70.294739</td>\n",
       "      <td>1</td>\n",
       "      <td>2</td>\n",
       "      <td>1</td>\n",
       "      <td>1</td>\n",
       "    </tr>\n",
       "  </tbody>\n",
       "</table>\n",
       "</div>"
      ],
      "text/plain": [
       "   agno  rbd                  nom_rbd  cod_reg_rbd  cod_com_rbd nom_com_rbd  \\\n",
       "0  2014    1  LICEO POLITECNICO ARICA           15        15101       ARICA   \n",
       "\n",
       "   cod_depe  cod_depe2  rural_rbd    latitud   longitud  convenio_pie  \\\n",
       "0         2          1          0 -18.487274 -70.294739             1   \n",
       "\n",
       "   ori_religiosa pago_matricula pago_mensual  \n",
       "0              2              1            1  "
      ]
     },
     "execution_count": 23,
     "metadata": {},
     "output_type": "execute_result"
    }
   ],
   "source": [
    "ee_df.head(1)"
   ]
  },
  {
   "cell_type": "code",
   "execution_count": 24,
   "metadata": {},
   "outputs": [
    {
     "data": {
      "text/plain": [
       "'mixed'"
      ]
     },
     "execution_count": 24,
     "metadata": {},
     "output_type": "execute_result"
    }
   ],
   "source": [
    "pd.api.types.infer_dtype(ee_df[\"longitud\"])"
   ]
  },
  {
   "cell_type": "code",
   "execution_count": 25,
   "metadata": {},
   "outputs": [],
   "source": [
    "ee_df[\"longitud\"] = ee_df[\"longitud\"].apply(convert_to_float)\n",
    "ee_df[\"latitud\"] = ee_df[\"latitud\"].apply(convert_to_float)"
   ]
  },
  {
   "cell_type": "code",
   "execution_count": 26,
   "metadata": {},
   "outputs": [],
   "source": [
    "ee_df[\"longitud\"] = pd.to_numeric(ee_df[\"longitud\"])\n",
    "ee_df[\"latitud\"] = pd.to_numeric(ee_df[\"latitud\"])"
   ]
  },
  {
   "cell_type": "code",
   "execution_count": 27,
   "metadata": {},
   "outputs": [
    {
     "data": {
      "text/plain": [
       "np.float64(-331315662.0)"
      ]
     },
     "execution_count": 27,
     "metadata": {},
     "output_type": "execute_result"
    }
   ],
   "source": [
    "ee_df[\"latitud\"].min()"
   ]
  },
  {
   "cell_type": "code",
   "execution_count": 28,
   "metadata": {},
   "outputs": [
    {
     "data": {
      "text/html": [
       "<div>\n",
       "<style scoped>\n",
       "    .dataframe tbody tr th:only-of-type {\n",
       "        vertical-align: middle;\n",
       "    }\n",
       "\n",
       "    .dataframe tbody tr th {\n",
       "        vertical-align: top;\n",
       "    }\n",
       "\n",
       "    .dataframe thead th {\n",
       "        text-align: right;\n",
       "    }\n",
       "</style>\n",
       "<table border=\"1\" class=\"dataframe\">\n",
       "  <thead>\n",
       "    <tr style=\"text-align: right;\">\n",
       "      <th></th>\n",
       "      <th>agno</th>\n",
       "      <th>rbd</th>\n",
       "      <th>nom_rbd</th>\n",
       "      <th>cod_reg_rbd</th>\n",
       "      <th>cod_com_rbd</th>\n",
       "      <th>nom_com_rbd</th>\n",
       "      <th>cod_depe</th>\n",
       "      <th>cod_depe2</th>\n",
       "      <th>rural_rbd</th>\n",
       "      <th>latitud</th>\n",
       "      <th>longitud</th>\n",
       "      <th>convenio_pie</th>\n",
       "      <th>ori_religiosa</th>\n",
       "      <th>pago_matricula</th>\n",
       "      <th>pago_mensual</th>\n",
       "    </tr>\n",
       "  </thead>\n",
       "  <tbody>\n",
       "    <tr>\n",
       "      <th>0</th>\n",
       "      <td>2014</td>\n",
       "      <td>1</td>\n",
       "      <td>LICEO POLITECNICO ARICA</td>\n",
       "      <td>15</td>\n",
       "      <td>15101</td>\n",
       "      <td>ARICA</td>\n",
       "      <td>2</td>\n",
       "      <td>1</td>\n",
       "      <td>0</td>\n",
       "      <td>-18.487274</td>\n",
       "      <td>-70.294739</td>\n",
       "      <td>1</td>\n",
       "      <td>2</td>\n",
       "      <td>1</td>\n",
       "      <td>1</td>\n",
       "    </tr>\n",
       "    <tr>\n",
       "      <th>1</th>\n",
       "      <td>2014</td>\n",
       "      <td>2</td>\n",
       "      <td>PARVULARIO LAS ESPIGUITAS</td>\n",
       "      <td>15</td>\n",
       "      <td>15101</td>\n",
       "      <td>ARICA</td>\n",
       "      <td>2</td>\n",
       "      <td>1</td>\n",
       "      <td>0</td>\n",
       "      <td>-18.469862</td>\n",
       "      <td>-70.302757</td>\n",
       "      <td>1</td>\n",
       "      <td>2</td>\n",
       "      <td>1</td>\n",
       "      <td>1</td>\n",
       "    </tr>\n",
       "    <tr>\n",
       "      <th>2</th>\n",
       "      <td>2014</td>\n",
       "      <td>3</td>\n",
       "      <td>ESC. PEDRO VICENTE GUTIERREZ TORRES</td>\n",
       "      <td>15</td>\n",
       "      <td>15101</td>\n",
       "      <td>ARICA</td>\n",
       "      <td>2</td>\n",
       "      <td>1</td>\n",
       "      <td>1</td>\n",
       "      <td>-18.503580</td>\n",
       "      <td>-70.260826</td>\n",
       "      <td>0</td>\n",
       "      <td>2</td>\n",
       "      <td>1</td>\n",
       "      <td>1</td>\n",
       "    </tr>\n",
       "    <tr>\n",
       "      <th>3</th>\n",
       "      <td>2014</td>\n",
       "      <td>4</td>\n",
       "      <td>LICEO OCTAVIO PALMA PEREZ</td>\n",
       "      <td>15</td>\n",
       "      <td>15101</td>\n",
       "      <td>ARICA</td>\n",
       "      <td>2</td>\n",
       "      <td>1</td>\n",
       "      <td>0</td>\n",
       "      <td>-18.474243</td>\n",
       "      <td>-70.308266</td>\n",
       "      <td>1</td>\n",
       "      <td>1</td>\n",
       "      <td>1</td>\n",
       "      <td>1</td>\n",
       "    </tr>\n",
       "    <tr>\n",
       "      <th>4</th>\n",
       "      <td>2014</td>\n",
       "      <td>5</td>\n",
       "      <td>JOVINA NARANJO FERNANDEZ</td>\n",
       "      <td>15</td>\n",
       "      <td>15101</td>\n",
       "      <td>ARICA</td>\n",
       "      <td>2</td>\n",
       "      <td>1</td>\n",
       "      <td>0</td>\n",
       "      <td>-18.476904</td>\n",
       "      <td>-70.313454</td>\n",
       "      <td>1</td>\n",
       "      <td>7</td>\n",
       "      <td>1</td>\n",
       "      <td>1</td>\n",
       "    </tr>\n",
       "    <tr>\n",
       "      <th>...</th>\n",
       "      <td>...</td>\n",
       "      <td>...</td>\n",
       "      <td>...</td>\n",
       "      <td>...</td>\n",
       "      <td>...</td>\n",
       "      <td>...</td>\n",
       "      <td>...</td>\n",
       "      <td>...</td>\n",
       "      <td>...</td>\n",
       "      <td>...</td>\n",
       "      <td>...</td>\n",
       "      <td>...</td>\n",
       "      <td>...</td>\n",
       "      <td>...</td>\n",
       "      <td>...</td>\n",
       "    </tr>\n",
       "    <tr>\n",
       "      <th>158420</th>\n",
       "      <td>2023</td>\n",
       "      <td>42195</td>\n",
       "      <td>SALA CUNA Y JARDIN INFANTIL ARBOLITO</td>\n",
       "      <td>13</td>\n",
       "      <td>13130</td>\n",
       "      <td>SAN MIGUEL</td>\n",
       "      <td>4</td>\n",
       "      <td>3</td>\n",
       "      <td>0</td>\n",
       "      <td>NaN</td>\n",
       "      <td>NaN</td>\n",
       "      <td>0</td>\n",
       "      <td>9</td>\n",
       "      <td>SIN INFORMACION</td>\n",
       "      <td>SIN INFORMACION</td>\n",
       "    </tr>\n",
       "    <tr>\n",
       "      <th>158421</th>\n",
       "      <td>2023</td>\n",
       "      <td>42196</td>\n",
       "      <td>SALA CUNA QUITRAL MONTESSORI</td>\n",
       "      <td>13</td>\n",
       "      <td>13302</td>\n",
       "      <td>LAMPA</td>\n",
       "      <td>4</td>\n",
       "      <td>3</td>\n",
       "      <td>0</td>\n",
       "      <td>NaN</td>\n",
       "      <td>NaN</td>\n",
       "      <td>0</td>\n",
       "      <td>9</td>\n",
       "      <td>SIN INFORMACION</td>\n",
       "      <td>SIN INFORMACION</td>\n",
       "    </tr>\n",
       "    <tr>\n",
       "      <th>158422</th>\n",
       "      <td>2023</td>\n",
       "      <td>42197</td>\n",
       "      <td>SALA CUNA NIDO ALEXANDER MONTESSORI</td>\n",
       "      <td>13</td>\n",
       "      <td>13114</td>\n",
       "      <td>LAS CONDES</td>\n",
       "      <td>4</td>\n",
       "      <td>3</td>\n",
       "      <td>0</td>\n",
       "      <td>NaN</td>\n",
       "      <td>NaN</td>\n",
       "      <td>0</td>\n",
       "      <td>9</td>\n",
       "      <td>SIN INFORMACION</td>\n",
       "      <td>SIN INFORMACION</td>\n",
       "    </tr>\n",
       "    <tr>\n",
       "      <th>158423</th>\n",
       "      <td>2023</td>\n",
       "      <td>42198</td>\n",
       "      <td>COLEGIO DE ADULTOS AMANECER</td>\n",
       "      <td>13</td>\n",
       "      <td>13124</td>\n",
       "      <td>PUDAHUEL</td>\n",
       "      <td>3</td>\n",
       "      <td>2</td>\n",
       "      <td>0</td>\n",
       "      <td>NaN</td>\n",
       "      <td>NaN</td>\n",
       "      <td>0</td>\n",
       "      <td>9</td>\n",
       "      <td>SIN INFORMACION</td>\n",
       "      <td>SIN INFORMACION</td>\n",
       "    </tr>\n",
       "    <tr>\n",
       "      <th>158424</th>\n",
       "      <td>2023</td>\n",
       "      <td>42200</td>\n",
       "      <td>PAPELUCHO</td>\n",
       "      <td>9</td>\n",
       "      <td>9102</td>\n",
       "      <td>CARAHUE</td>\n",
       "      <td>4</td>\n",
       "      <td>3</td>\n",
       "      <td>0</td>\n",
       "      <td>NaN</td>\n",
       "      <td>NaN</td>\n",
       "      <td>0</td>\n",
       "      <td>9</td>\n",
       "      <td>SIN INFORMACION</td>\n",
       "      <td>SIN INFORMACION</td>\n",
       "    </tr>\n",
       "  </tbody>\n",
       "</table>\n",
       "<p>158425 rows × 15 columns</p>\n",
       "</div>"
      ],
      "text/plain": [
       "        agno    rbd                               nom_rbd  cod_reg_rbd  \\\n",
       "0       2014      1               LICEO POLITECNICO ARICA           15   \n",
       "1       2014      2             PARVULARIO LAS ESPIGUITAS           15   \n",
       "2       2014      3   ESC. PEDRO VICENTE GUTIERREZ TORRES           15   \n",
       "3       2014      4             LICEO OCTAVIO PALMA PEREZ           15   \n",
       "4       2014      5              JOVINA NARANJO FERNANDEZ           15   \n",
       "...      ...    ...                                   ...          ...   \n",
       "158420  2023  42195  SALA CUNA Y JARDIN INFANTIL ARBOLITO           13   \n",
       "158421  2023  42196          SALA CUNA QUITRAL MONTESSORI           13   \n",
       "158422  2023  42197   SALA CUNA NIDO ALEXANDER MONTESSORI           13   \n",
       "158423  2023  42198           COLEGIO DE ADULTOS AMANECER           13   \n",
       "158424  2023  42200                             PAPELUCHO            9   \n",
       "\n",
       "        cod_com_rbd nom_com_rbd  cod_depe  cod_depe2  rural_rbd    latitud  \\\n",
       "0             15101       ARICA         2          1          0 -18.487274   \n",
       "1             15101       ARICA         2          1          0 -18.469862   \n",
       "2             15101       ARICA         2          1          1 -18.503580   \n",
       "3             15101       ARICA         2          1          0 -18.474243   \n",
       "4             15101       ARICA         2          1          0 -18.476904   \n",
       "...             ...         ...       ...        ...        ...        ...   \n",
       "158420        13130  SAN MIGUEL         4          3          0        NaN   \n",
       "158421        13302       LAMPA         4          3          0        NaN   \n",
       "158422        13114  LAS CONDES         4          3          0        NaN   \n",
       "158423        13124    PUDAHUEL         3          2          0        NaN   \n",
       "158424         9102     CARAHUE         4          3          0        NaN   \n",
       "\n",
       "         longitud  convenio_pie  ori_religiosa   pago_matricula  \\\n",
       "0      -70.294739             1              2                1   \n",
       "1      -70.302757             1              2                1   \n",
       "2      -70.260826             0              2                1   \n",
       "3      -70.308266             1              1                1   \n",
       "4      -70.313454             1              7                1   \n",
       "...           ...           ...            ...              ...   \n",
       "158420        NaN             0              9  SIN INFORMACION   \n",
       "158421        NaN             0              9  SIN INFORMACION   \n",
       "158422        NaN             0              9  SIN INFORMACION   \n",
       "158423        NaN             0              9  SIN INFORMACION   \n",
       "158424        NaN             0              9  SIN INFORMACION   \n",
       "\n",
       "           pago_mensual  \n",
       "0                     1  \n",
       "1                     1  \n",
       "2                     1  \n",
       "3                     1  \n",
       "4                     1  \n",
       "...                 ...  \n",
       "158420  SIN INFORMACION  \n",
       "158421  SIN INFORMACION  \n",
       "158422  SIN INFORMACION  \n",
       "158423  SIN INFORMACION  \n",
       "158424  SIN INFORMACION  \n",
       "\n",
       "[158425 rows x 15 columns]"
      ]
     },
     "execution_count": 28,
     "metadata": {},
     "output_type": "execute_result"
    }
   ],
   "source": [
    "ee_df"
   ]
  },
  {
   "cell_type": "code",
   "execution_count": 29,
   "metadata": {},
   "outputs": [
    {
     "name": "stdout",
     "output_type": "stream",
     "text": [
      "Defaulting to user installation because normal site-packages is not writeable\n",
      "Requirement already satisfied: pyarrow in /home/vscode/.local/lib/python3.12/site-packages (17.0.0)\n",
      "Requirement already satisfied: numpy>=1.16.6 in /home/vscode/.local/lib/python3.12/site-packages (from pyarrow) (2.0.1)\n",
      "Note: you may need to restart the kernel to use updated packages.\n"
     ]
    }
   ],
   "source": [
    "%pip install pyarrow"
   ]
  },
  {
   "cell_type": "code",
   "execution_count": 30,
   "metadata": {},
   "outputs": [
    {
     "data": {
      "text/plain": [
       "pago_matricula\n",
       "GRATUITO              100735\n",
       "SIN INFORMACION        29764\n",
       "1                       9722\n",
       "$1.000 A $10.000        5990\n",
       "MAS DE $100.000         3860\n",
       "SIN INFORMACIÃN        3556\n",
       "2                       1268\n",
       "$50.001 A $100.000       918\n",
       "$25.001 A $50.000        688\n",
       "$10.001 A $25.000        447\n",
       "0                        424\n",
       "MÃS DE $100.000         406\n",
       "6                        389\n",
       "4                         96\n",
       "5                         86\n",
       "3                         76\n",
       "Name: count, dtype: int64"
      ]
     },
     "execution_count": 30,
     "metadata": {},
     "output_type": "execute_result"
    }
   ],
   "source": [
    "ee_df.pago_matricula.value_counts()"
   ]
  },
  {
   "cell_type": "code",
   "execution_count": 31,
   "metadata": {},
   "outputs": [],
   "source": [
    "def convert_pago_matricula(value):\n",
    "    if pd.isna(value):\n",
    "        return pd.NA\n",
    "    if isinstance(value, (float, int)):\n",
    "        return int(value)\n",
    "    if isinstance(value, str):\n",
    "        match value.strip():\n",
    "            case \"SIN INFORMACIÃN\":\n",
    "                return int(0)\n",
    "            case \"SIN INFORMACION\":\n",
    "                return int(0)\n",
    "            case \"GRATUITO\":\n",
    "                return int(1)\n",
    "            case \"$1.000 A $10.000\":\n",
    "                return int(2)\n",
    "            case \"$10.001 A $25.000\":\n",
    "                return int(3)\n",
    "            case \"$25.001 A $50.000\":\n",
    "                return int(4)\n",
    "            case \"$50.001 A $100.000\":\n",
    "                return int(5)\n",
    "            case \"MAS DE $100.000\":\n",
    "                return int(6)\n",
    "            case \"MÃS DE $100.000\":\n",
    "                return int(6)\n",
    "    return pd.NA\n"
   ]
  },
  {
   "cell_type": "code",
   "execution_count": 32,
   "metadata": {},
   "outputs": [],
   "source": [
    "ee_df.pago_matricula = ee_df.pago_matricula.apply(convert_pago_matricula)"
   ]
  },
  {
   "cell_type": "code",
   "execution_count": 33,
   "metadata": {},
   "outputs": [
    {
     "data": {
      "text/plain": [
       "pago_mensual\n",
       "GRATUITO              93816\n",
       "SIN INFORMACION       30397\n",
       "1                      8746\n",
       "$25.001 A $50.000      5057\n",
       "MAS DE $100.000        4415\n",
       "$50.001 A $100.000     4330\n",
       "SIN INFORMACIÃN       3675\n",
       "$10.001 A $25.000      3061\n",
       "$1.000 A $10.000       1184\n",
       "3                       797\n",
       "4                       716\n",
       "0                       507\n",
       "2                       470\n",
       "MÃS DE $100.000        429\n",
       "5                       418\n",
       "6                       407\n",
       "Name: count, dtype: int64"
      ]
     },
     "execution_count": 33,
     "metadata": {},
     "output_type": "execute_result"
    }
   ],
   "source": [
    "ee_df.pago_mensual.value_counts()"
   ]
  },
  {
   "cell_type": "code",
   "execution_count": 34,
   "metadata": {},
   "outputs": [],
   "source": [
    "ee_df.pago_mensual = ee_df.pago_mensual.apply(convert_pago_matricula)"
   ]
  },
  {
   "cell_type": "code",
   "execution_count": 35,
   "metadata": {},
   "outputs": [],
   "source": [
    "ee_df.to_csv(\"../data/processed/establecimientos.csv\")"
   ]
  },
  {
   "cell_type": "code",
   "execution_count": 36,
   "metadata": {},
   "outputs": [],
   "source": [
    "ee_df.to_parquet(\"../data/processed/establecimientos.parquet\")"
   ]
  },
  {
   "cell_type": "markdown",
   "metadata": {},
   "source": [
    "## Sep Establecimientos"
   ]
  },
  {
   "cell_type": "code",
   "execution_count": 37,
   "metadata": {},
   "outputs": [
    {
     "name": "stdout",
     "output_type": "stream",
     "text": [
      "Column name occurrences:\n",
      "'AGNO' -> **9**\n",
      "'RBD' -> **10**\n",
      "'DGV_RBD' -> **10**\n",
      "'NOM_RBD' -> **10**\n",
      "'COD_REG_RBD' -> **10**\n",
      "'COD_PRO_RBD' -> **10**\n",
      "'COD_COM_RBD' -> **10**\n",
      "'NOM_COM_RBD' -> **10**\n",
      "'COD_DEPE' -> **10**\n",
      "'COD_DEPE2' -> **10**\n",
      "'RURAL_RBD' -> **10**\n",
      "'CLASIFICACION_SEP' -> **10**\n",
      "'N_PRIO' -> **10**\n",
      "'N_BEN' -> **10**\n",
      "'COD_DEPROV_RBD' -> **9**\n",
      "'NOM_DEPROV_RBD' -> **9**\n",
      "'CONVENIO_SEP' -> **9**\n",
      "'AÑO_INGRESO_SEP' -> **9**\n",
      "'ESTADO_ESTAB' -> **8**\n",
      "'EE_GRATUITO' -> **8**\n",
      "'N_PRIO_BEN' -> **8**\n",
      "'N_PREF' -> **8**\n",
      "'N_PREF_BEN' -> **8**\n",
      "'﻿AGNO' -> **1**\n"
     ]
    }
   ],
   "source": [
    "sep_ee_dfs = csv_loader(Path(column_path_dict[\"ee_sep\"][0]))\n",
    "\n",
    "print_columns(sep_ee_dfs)"
   ]
  },
  {
   "cell_type": "code",
   "execution_count": 38,
   "metadata": {},
   "outputs": [],
   "source": [
    "for df in sep_ee_dfs:\n",
    "    df.rename(columns={column:column.casefold().strip() for column in df.columns}, inplace=True)\n",
    "    \n",
    "for df in sep_ee_dfs:\n",
    "    df.rename(columns={\"\\ufeffagno\":\"agno\"}, inplace=True)\n",
    "    \n",
    "for df in sep_ee_dfs:\n",
    "    df.rename(columns={\"ïagno\":\"agno\"}, inplace=True)"
   ]
  },
  {
   "cell_type": "code",
   "execution_count": 39,
   "metadata": {},
   "outputs": [
    {
     "name": "stdout",
     "output_type": "stream",
     "text": [
      "Column name occurrences:\n",
      "'agno' -> **10**\n",
      "'rbd' -> **10**\n",
      "'dgv_rbd' -> **10**\n",
      "'nom_rbd' -> **10**\n",
      "'cod_reg_rbd' -> **10**\n",
      "'cod_pro_rbd' -> **10**\n",
      "'cod_com_rbd' -> **10**\n",
      "'nom_com_rbd' -> **10**\n",
      "'cod_depe' -> **10**\n",
      "'cod_depe2' -> **10**\n",
      "'rural_rbd' -> **10**\n",
      "'clasificacion_sep' -> **10**\n",
      "'n_prio' -> **10**\n",
      "'n_ben' -> **10**\n",
      "'cod_deprov_rbd' -> **9**\n",
      "'nom_deprov_rbd' -> **9**\n",
      "'convenio_sep' -> **9**\n",
      "'año_ingreso_sep' -> **9**\n",
      "'estado_estab' -> **8**\n",
      "'ee_gratuito' -> **8**\n",
      "'n_prio_ben' -> **8**\n",
      "'n_pref' -> **8**\n",
      "'n_pref_ben' -> **8**\n"
     ]
    }
   ],
   "source": [
    "print_columns(sep_ee_dfs)"
   ]
  },
  {
   "cell_type": "code",
   "execution_count": 40,
   "metadata": {},
   "outputs": [],
   "source": [
    "sep_ee_df = pd.concat(sep_ee_dfs, axis=0, ignore_index=True)"
   ]
  },
  {
   "cell_type": "code",
   "execution_count": 41,
   "metadata": {},
   "outputs": [],
   "source": [
    "columns_to_drop_sep_ee = [item for item in sep_ee_df.columns if item not in column_path_dict[\"ee_sep\"][1]]"
   ]
  },
  {
   "cell_type": "code",
   "execution_count": 42,
   "metadata": {},
   "outputs": [
    {
     "data": {
      "text/plain": [
       "['dgv_rbd',\n",
       " 'nom_rbd',\n",
       " 'cod_reg_rbd',\n",
       " 'cod_pro_rbd',\n",
       " 'cod_com_rbd',\n",
       " 'nom_com_rbd',\n",
       " 'cod_depe',\n",
       " 'cod_depe2',\n",
       " 'rural_rbd',\n",
       " 'cod_deprov_rbd',\n",
       " 'nom_deprov_rbd',\n",
       " 'año_ingreso_sep',\n",
       " 'estado_estab',\n",
       " 'ee_gratuito']"
      ]
     },
     "execution_count": 42,
     "metadata": {},
     "output_type": "execute_result"
    }
   ],
   "source": [
    "columns_to_drop_sep_ee"
   ]
  },
  {
   "cell_type": "code",
   "execution_count": 43,
   "metadata": {},
   "outputs": [],
   "source": [
    "sep_ee_df.drop(columns=columns_to_drop_sep_ee, inplace=True)"
   ]
  },
  {
   "cell_type": "code",
   "execution_count": 44,
   "metadata": {},
   "outputs": [],
   "source": [
    "sep_ee_df = sep_ee_df.replace(r'^\\s*$', pd.NA, regex=True)"
   ]
  },
  {
   "cell_type": "code",
   "execution_count": 45,
   "metadata": {},
   "outputs": [],
   "source": [
    "sep_ee_df.to_csv(\"../data/processed/sep_establecimientos.csv\")"
   ]
  },
  {
   "cell_type": "code",
   "execution_count": 46,
   "metadata": {},
   "outputs": [],
   "source": [
    "sep_ee_df.to_parquet(\"../data/processed/sep_establecimientos.parquet\")"
   ]
  },
  {
   "cell_type": "markdown",
   "metadata": {},
   "source": [
    "## Matriculas"
   ]
  },
  {
   "cell_type": "code",
   "execution_count": 47,
   "metadata": {},
   "outputs": [
    {
     "name": "stdout",
     "output_type": "stream",
     "text": [
      "Column name occurrences:\n",
      "'ïagno' -> **3**\n",
      "'rbd' -> **3**\n",
      "'dgv_rbd' -> **3**\n",
      "'nom_rbd' -> **3**\n",
      "'cod_depe' -> **3**\n",
      "'cod_depe2' -> **3**\n",
      "'rural_rbd' -> **3**\n",
      "'cod_reg_rbd' -> **3**\n",
      "'cod_pro_rbd' -> **3**\n",
      "'cod_com_rbd' -> **3**\n",
      "'nom_com_rbd' -> **3**\n",
      "'mat_hom_1' -> **3**\n",
      "'mat_muj_1' -> **3**\n",
      "'mat_ens_1' -> **3**\n",
      "'mat_si_2' -> **3**\n",
      "'mat_hom_2' -> **3**\n",
      "'mat_muj_2' -> **3**\n",
      "'mat_ens_2' -> **3**\n",
      "'mat_hom_3' -> **3**\n",
      "'mat_muj_3' -> **3**\n",
      "'mat_ens_3' -> **3**\n",
      "'mat_hom_4' -> **3**\n",
      "'mat_muj_4' -> **3**\n",
      "'mat_ens_4' -> **3**\n",
      "'mat_hom_5' -> **3**\n",
      "'mat_muj_5' -> **3**\n",
      "'mat_ens_5' -> **3**\n",
      "'mat_hom_6' -> **3**\n",
      "'mat_muj_6' -> **3**\n",
      "'mat_ens_6' -> **3**\n",
      "'mat_hom_7' -> **3**\n",
      "'mat_muj_7' -> **3**\n",
      "'mat_ens_7' -> **3**\n",
      "'mat_hom_8' -> **3**\n",
      "'mat_muj_8' -> **3**\n",
      "'mat_ens_8' -> **3**\n",
      "'mat_hom_tot' -> **3**\n",
      "'mat_muj_tot' -> **3**\n",
      "'mat_si_tot' -> **3**\n",
      "'mat_total' -> **3**\n",
      "'cur_sim_01' -> **3**\n",
      "'cur_sim_02' -> **3**\n",
      "'cur_sim_03' -> **3**\n",
      "'cur_sim_04' -> **3**\n",
      "'cur_sim_05' -> **3**\n",
      "'cur_sim_06' -> **3**\n",
      "'cur_sim_07' -> **3**\n",
      "'cur_sim_08' -> **3**\n",
      "'cur_sim_tot' -> **3**\n",
      "'cur_com_01' -> **1**\n",
      "'cur_com_02' -> **1**\n",
      "'cur_com_tot' -> **1**\n",
      "'mat_hom_gd' -> **2**\n",
      "'mat_muj_gd' -> **2**\n",
      "'mat_gd_total' -> **2**\n",
      "'cod_deprov_rbd' -> **2**\n",
      "'nom_deprov_rbd' -> **2**\n",
      "'estado_estab' -> **2**\n",
      "'cur_comb_01' -> **2**\n",
      "'cur_comb_02' -> **2**\n",
      "'cur_comb_tot' -> **2**\n",
      "'mat_si_1' -> **1**\n",
      "'mat_si_4' -> **1**\n",
      "'mat_si_8' -> **1**\n",
      "'AGNO' -> **7**\n",
      "'RBD' -> **7**\n",
      "'DGV_RBD' -> **7**\n",
      "'NOM_RBD' -> **7**\n",
      "'COD_DEPE' -> **7**\n",
      "'COD_DEPE2' -> **7**\n",
      "'RURAL_RBD' -> **7**\n",
      "'COD_REG_RBD' -> **7**\n",
      "'COD_PRO_RBD' -> **7**\n",
      "'COD_COM_RBD' -> **7**\n",
      "'NOM_COM_RBD' -> **7**\n",
      "'COD_DEPROV_RBD' -> **7**\n",
      "'NOM_DEPROV_RBD' -> **7**\n",
      "'ESTADO_ESTAB' -> **7**\n",
      "'MAT_SI_1' -> **5**\n",
      "'MAT_HOM_1' -> **7**\n",
      "'MAT_MUJ_1' -> **7**\n",
      "'MAT_ENS_1' -> **7**\n",
      "'MAT_SI_2' -> **7**\n",
      "'MAT_HOM_2' -> **7**\n",
      "'MAT_MUJ_2' -> **7**\n",
      "'MAT_ENS_2' -> **7**\n",
      "'MAT_SI_3' -> **2**\n",
      "'MAT_HOM_3' -> **7**\n",
      "'MAT_MUJ_3' -> **7**\n",
      "'MAT_ENS_3' -> **7**\n",
      "'MAT_SI_4' -> **5**\n",
      "'MAT_HOM_4' -> **7**\n",
      "'MAT_MUJ_4' -> **7**\n",
      "'MAT_ENS_4' -> **7**\n",
      "'MAT_SI_5' -> **5**\n",
      "'MAT_HOM_5' -> **7**\n",
      "'MAT_MUJ_5' -> **7**\n",
      "'MAT_ENS_5' -> **7**\n",
      "'MAT_HOM_6' -> **7**\n",
      "'MAT_MUJ_6' -> **7**\n",
      "'MAT_ENS_6' -> **7**\n",
      "'MAT_HOM_7' -> **7**\n",
      "'MAT_MUJ_7' -> **7**\n",
      "'MAT_ENS_7' -> **7**\n",
      "'MAT_SI_8' -> **1**\n",
      "'MAT_HOM_8' -> **7**\n",
      "'MAT_MUJ_8' -> **7**\n",
      "'MAT_ENS_8' -> **7**\n",
      "'MAT_HOM_TOT' -> **7**\n",
      "'MAT_MUJ_TOT' -> **7**\n",
      "'MAT_SI_TOT' -> **7**\n",
      "'MAT_TOTAL' -> **7**\n",
      "'CUR_SIM_01' -> **7**\n",
      "'CUR_SIM_02' -> **7**\n",
      "'CUR_SIM_03' -> **7**\n",
      "'CUR_SIM_04' -> **7**\n",
      "'CUR_SIM_05' -> **7**\n",
      "'CUR_SIM_06' -> **7**\n",
      "'CUR_SIM_07' -> **7**\n",
      "'CUR_SIM_08' -> **7**\n",
      "'CUR_SIM_TOT' -> **7**\n",
      "'CUR_COMB_01' -> **7**\n",
      "'CUR_COMB_02' -> **7**\n",
      "'CUR_COMB_TOT' -> **7**\n",
      "'NOM_REG_RBD_A' -> **4**\n",
      "'Unnamed: 0' -> **1**\n"
     ]
    }
   ],
   "source": [
    "matri_dfs = csv_loader(Path(column_path_dict[\"ee_matricula\"][0]))\n",
    "\n",
    "print_columns(matri_dfs)"
   ]
  },
  {
   "cell_type": "code",
   "execution_count": 48,
   "metadata": {},
   "outputs": [],
   "source": [
    "for df in matri_dfs:\n",
    "    df.rename(columns={column:column.casefold().strip() for column in df.columns}, inplace=True)\n",
    "    \n",
    "for df in matri_dfs:\n",
    "    df.rename(columns={\"\\ufeffagno\":\"agno\"}, inplace=True)\n",
    "    \n",
    "for df in matri_dfs:\n",
    "    df.rename(columns={\"ïagno\":\"agno\"}, inplace=True)"
   ]
  },
  {
   "cell_type": "code",
   "execution_count": 49,
   "metadata": {},
   "outputs": [
    {
     "name": "stdout",
     "output_type": "stream",
     "text": [
      "Column name occurrences:\n",
      "'agno' -> **10**\n",
      "'rbd' -> **10**\n",
      "'dgv_rbd' -> **10**\n",
      "'nom_rbd' -> **10**\n",
      "'cod_depe' -> **10**\n",
      "'cod_depe2' -> **10**\n",
      "'rural_rbd' -> **10**\n",
      "'cod_reg_rbd' -> **10**\n",
      "'cod_pro_rbd' -> **10**\n",
      "'cod_com_rbd' -> **10**\n",
      "'nom_com_rbd' -> **10**\n",
      "'mat_hom_1' -> **10**\n",
      "'mat_muj_1' -> **10**\n",
      "'mat_ens_1' -> **10**\n",
      "'mat_si_2' -> **10**\n",
      "'mat_hom_2' -> **10**\n",
      "'mat_muj_2' -> **10**\n",
      "'mat_ens_2' -> **10**\n",
      "'mat_hom_3' -> **10**\n",
      "'mat_muj_3' -> **10**\n",
      "'mat_ens_3' -> **10**\n",
      "'mat_hom_4' -> **10**\n",
      "'mat_muj_4' -> **10**\n",
      "'mat_ens_4' -> **10**\n",
      "'mat_hom_5' -> **10**\n",
      "'mat_muj_5' -> **10**\n",
      "'mat_ens_5' -> **10**\n",
      "'mat_hom_6' -> **10**\n",
      "'mat_muj_6' -> **10**\n",
      "'mat_ens_6' -> **10**\n",
      "'mat_hom_7' -> **10**\n",
      "'mat_muj_7' -> **10**\n",
      "'mat_ens_7' -> **10**\n",
      "'mat_hom_8' -> **10**\n",
      "'mat_muj_8' -> **10**\n",
      "'mat_ens_8' -> **10**\n",
      "'mat_hom_tot' -> **10**\n",
      "'mat_muj_tot' -> **10**\n",
      "'mat_si_tot' -> **10**\n",
      "'mat_total' -> **10**\n",
      "'cur_sim_01' -> **10**\n",
      "'cur_sim_02' -> **10**\n",
      "'cur_sim_03' -> **10**\n",
      "'cur_sim_04' -> **10**\n",
      "'cur_sim_05' -> **10**\n",
      "'cur_sim_06' -> **10**\n",
      "'cur_sim_07' -> **10**\n",
      "'cur_sim_08' -> **10**\n",
      "'cur_sim_tot' -> **10**\n",
      "'cur_com_01' -> **1**\n",
      "'cur_com_02' -> **1**\n",
      "'cur_com_tot' -> **1**\n",
      "'mat_hom_gd' -> **2**\n",
      "'mat_muj_gd' -> **2**\n",
      "'mat_gd_total' -> **2**\n",
      "'cod_deprov_rbd' -> **9**\n",
      "'nom_deprov_rbd' -> **9**\n",
      "'estado_estab' -> **9**\n",
      "'cur_comb_01' -> **9**\n",
      "'cur_comb_02' -> **9**\n",
      "'cur_comb_tot' -> **9**\n",
      "'mat_si_1' -> **6**\n",
      "'mat_si_4' -> **6**\n",
      "'mat_si_8' -> **2**\n",
      "'mat_si_3' -> **2**\n",
      "'mat_si_5' -> **5**\n",
      "'nom_reg_rbd_a' -> **4**\n",
      "'unnamed: 0' -> **1**\n"
     ]
    }
   ],
   "source": [
    "print_columns(matri_dfs)"
   ]
  },
  {
   "cell_type": "code",
   "execution_count": 50,
   "metadata": {},
   "outputs": [],
   "source": [
    "matri_df = pd.concat(matri_dfs, axis=0, ignore_index=True)"
   ]
  },
  {
   "cell_type": "code",
   "execution_count": 51,
   "metadata": {},
   "outputs": [],
   "source": [
    "columns_to_drop_matri = [item for item in matri_df.columns if item not in column_path_dict[\"ee_matricula\"][1]]"
   ]
  },
  {
   "cell_type": "code",
   "execution_count": 52,
   "metadata": {},
   "outputs": [
    {
     "data": {
      "text/plain": [
       "['dgv_rbd',\n",
       " 'cod_depe',\n",
       " 'cod_depe2',\n",
       " 'rural_rbd',\n",
       " 'cod_reg_rbd',\n",
       " 'cod_pro_rbd',\n",
       " 'cod_com_rbd',\n",
       " 'nom_com_rbd',\n",
       " 'mat_ens_1',\n",
       " 'mat_si_2',\n",
       " 'mat_ens_2',\n",
       " 'mat_ens_3',\n",
       " 'mat_ens_4',\n",
       " 'mat_ens_5',\n",
       " 'mat_ens_6',\n",
       " 'mat_ens_7',\n",
       " 'mat_ens_8',\n",
       " 'mat_si_tot',\n",
       " 'cur_sim_01',\n",
       " 'cur_sim_02',\n",
       " 'cur_sim_03',\n",
       " 'cur_sim_04',\n",
       " 'cur_sim_05',\n",
       " 'cur_sim_06',\n",
       " 'cur_sim_07',\n",
       " 'cur_sim_08',\n",
       " 'cur_sim_tot',\n",
       " 'cur_com_01',\n",
       " 'cur_com_02',\n",
       " 'cur_com_tot',\n",
       " 'mat_hom_gd',\n",
       " 'mat_muj_gd',\n",
       " 'mat_gd_total',\n",
       " 'cod_deprov_rbd',\n",
       " 'nom_deprov_rbd',\n",
       " 'estado_estab',\n",
       " 'cur_comb_01',\n",
       " 'cur_comb_02',\n",
       " 'cur_comb_tot',\n",
       " 'mat_si_1',\n",
       " 'mat_si_4',\n",
       " 'mat_si_8',\n",
       " 'mat_si_3',\n",
       " 'mat_si_5',\n",
       " 'nom_reg_rbd_a',\n",
       " 'unnamed: 0']"
      ]
     },
     "execution_count": 52,
     "metadata": {},
     "output_type": "execute_result"
    }
   ],
   "source": [
    "columns_to_drop_matri"
   ]
  },
  {
   "cell_type": "code",
   "execution_count": 53,
   "metadata": {},
   "outputs": [],
   "source": [
    "matri_df.drop(columns=columns_to_drop_matri, inplace=True)"
   ]
  },
  {
   "cell_type": "code",
   "execution_count": 54,
   "metadata": {},
   "outputs": [],
   "source": [
    "matri_df = matri_df.replace(r'^\\s*$', pd.NA, regex=True)"
   ]
  },
  {
   "cell_type": "code",
   "execution_count": 55,
   "metadata": {},
   "outputs": [],
   "source": [
    "matri_df.to_csv(\"../data/processed/matriculas.csv\")"
   ]
  },
  {
   "cell_type": "code",
   "execution_count": 56,
   "metadata": {},
   "outputs": [],
   "source": [
    "matri_df.to_parquet(\"../data/processed/matriculas.parquet\")"
   ]
  }
 ],
 "metadata": {
  "kernelspec": {
   "display_name": "Python 3",
   "language": "python",
   "name": "python3"
  },
  "language_info": {
   "codemirror_mode": {
    "name": "ipython",
    "version": 3
   },
   "file_extension": ".py",
   "mimetype": "text/x-python",
   "name": "python",
   "nbconvert_exporter": "python",
   "pygments_lexer": "ipython3",
   "version": "3.12.3"
  }
 },
 "nbformat": 4,
 "nbformat_minor": 2
}

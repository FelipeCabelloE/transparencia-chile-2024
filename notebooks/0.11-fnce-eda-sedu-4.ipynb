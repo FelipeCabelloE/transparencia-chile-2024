{
 "cells": [
  {
   "cell_type": "code",
   "execution_count": 8,
   "metadata": {},
   "outputs": [],
   "source": [
    "import pandas as pd\n",
    "from pathlib import Path\n",
    "\n",
    "path = \"../data/raw/alumnos_sep/\"\n",
    "files = Path(path).rglob('*.csv')"
   ]
  },
  {
   "cell_type": "code",
   "execution_count": 9,
   "metadata": {},
   "outputs": [],
   "source": [
    "from pandas.core.frame import DataFrame\n",
    "\n",
    "alumnos_sep_dataframes: list[DataFrame] = [pd.read_csv(filepath, sep=\";\", low_memory=False) for filepath in files]\n"
   ]
  },
  {
   "cell_type": "code",
   "execution_count": 10,
   "metadata": {},
   "outputs": [
    {
     "data": {
      "text/plain": [
       "10"
      ]
     },
     "execution_count": 10,
     "metadata": {},
     "output_type": "execute_result"
    }
   ],
   "source": [
    "len(alumnos_sep_dataframes)"
   ]
  },
  {
   "cell_type": "code",
   "execution_count": 15,
   "metadata": {},
   "outputs": [
    {
     "name": "stdout",
     "output_type": "stream",
     "text": [
      "Column name occurrences:\n",
      "agno: 10\n",
      "  - Length: 4\n",
      "  - Repr: 'agno'\n",
      "mrun: 10\n",
      "  - Length: 4\n",
      "  - Repr: 'mrun'\n",
      "gen_alu: 10\n",
      "  - Length: 7\n",
      "  - Repr: 'gen_alu'\n",
      "fec_nac_alu: 10\n",
      "  - Length: 11\n",
      "  - Repr: 'fec_nac_alu'\n",
      "criterio_sep: 10\n",
      "  - Length: 12\n",
      "  - Repr: 'criterio_sep'\n",
      "rbd: 10\n",
      "  - Length: 3\n",
      "  - Repr: 'rbd'\n",
      "dgv_rbd: 10\n",
      "  - Length: 7\n",
      "  - Repr: 'dgv_rbd'\n",
      "nom_rbd: 10\n",
      "  - Length: 7\n",
      "  - Repr: 'nom_rbd'\n",
      "cod_reg_rbd: 10\n",
      "  - Length: 11\n",
      "  - Repr: 'cod_reg_rbd'\n",
      "cod_pro_rbd: 10\n",
      "  - Length: 11\n",
      "  - Repr: 'cod_pro_rbd'\n",
      "cod_com_rbd: 10\n",
      "  - Length: 11\n",
      "  - Repr: 'cod_com_rbd'\n",
      "nom_com_rbd: 10\n",
      "  - Length: 11\n",
      "  - Repr: 'nom_com_rbd'\n",
      "cod_depe: 10\n",
      "  - Length: 8\n",
      "  - Repr: 'cod_depe'\n",
      "cod_depe2: 10\n",
      "  - Length: 9\n",
      "  - Repr: 'cod_depe2'\n",
      "rural_rbd: 10\n",
      "  - Length: 9\n",
      "  - Repr: 'rural_rbd'\n",
      "clasificacion_sep: 10\n",
      "  - Length: 17\n",
      "  - Repr: 'clasificacion_sep'\n",
      "cod_ense: 10\n",
      "  - Length: 8\n",
      "  - Repr: 'cod_ense'\n",
      "cod_ense2: 10\n",
      "  - Length: 9\n",
      "  - Repr: 'cod_ense2'\n",
      "cod_ense3: 10\n",
      "  - Length: 9\n",
      "  - Repr: 'cod_ense3'\n",
      "cod_grado: 10\n",
      "  - Length: 9\n",
      "  - Repr: 'cod_grado'\n",
      "let_cur: 10\n",
      "  - Length: 7\n",
      "  - Repr: 'let_cur'\n",
      "cod_jor: 10\n",
      "  - Length: 7\n",
      "  - Repr: 'cod_jor'\n",
      "grado_sep: 10\n",
      "  - Length: 9\n",
      "  - Repr: 'grado_sep'\n",
      "ben_sep: 10\n",
      "  - Length: 7\n",
      "  - Repr: 'ben_sep'\n",
      "cod_deprov_rbd: 9\n",
      "  - Length: 14\n",
      "  - Repr: 'cod_deprov_rbd'\n",
      "nom_deprov_rbd: 9\n",
      "  - Length: 14\n",
      "  - Repr: 'nom_deprov_rbd'\n",
      "convenio_sep: 9\n",
      "  - Length: 12\n",
      "  - Repr: 'convenio_sep'\n",
      "año_ingreso_sep: 9\n",
      "  - Length: 15\n",
      "  - Repr: 'año_ingreso_sep'\n",
      "cod_grado2: 9\n",
      "  - Length: 10\n",
      "  - Repr: 'cod_grado2'\n",
      "estado_estab: 8\n",
      "  - Length: 12\n",
      "  - Repr: 'estado_estab'\n",
      "ee_gratuito: 8\n",
      "  - Length: 11\n",
      "  - Repr: 'ee_gratuito'\n",
      "prioritario_alu: 8\n",
      "  - Length: 15\n",
      "  - Repr: 'prioritario_alu'\n",
      "preferente_alu: 8\n",
      "  - Length: 14\n",
      "  - Repr: 'preferente_alu'\n"
     ]
    }
   ],
   "source": [
    "from collections import Counter\n",
    "import unicodedata\n",
    "\n",
    "all_columns = [col for df in alumnos_sep_dataframes for col in df.columns]\n",
    "\n",
    "column_counts = Counter(all_columns)\n",
    "\n",
    "print(\"Column name occurrences:\")\n",
    "for col, count in column_counts.items():\n",
    "    print(f\"{col}: {count}\")\n",
    "    print(f\"  - Length: {len(col)}\")\n",
    "    #print(f\"  - Unicode name: {[unicodedata.name(c) for c in col]}\")\n",
    "    print(f\"  - Repr: {repr(col)}\")\n"
   ]
  },
  {
   "cell_type": "code",
   "execution_count": 12,
   "metadata": {},
   "outputs": [],
   "source": [
    "for df in alumnos_sep_dataframes:\n",
    "    df.rename(columns={column:column.casefold().strip() for column in df.columns}, inplace=True)"
   ]
  },
  {
   "cell_type": "code",
   "execution_count": 13,
   "metadata": {},
   "outputs": [],
   "source": [
    "for df in alumnos_sep_dataframes:\n",
    "    df.rename(columns={\"\\ufeffagno\":\"agno\"}, inplace=True)"
   ]
  },
  {
   "cell_type": "code",
   "execution_count": 19,
   "metadata": {},
   "outputs": [],
   "source": [
    "path = \"../data/raw/alumnos_sep/\"\n",
    "files = Path(path).rglob('*.csv')\n",
    "\n",
    "\n",
    "\n",
    "for df, file in zip(alumnos_sep_dataframes, files):\n",
    "    df.to_csv(f\"../data/interim/alumnos_sep/interim_{file.name}\", columns=['agno','mrun','gen_alu','fec_nac_alu','criterio_sep','rbd','dgv_rbd','nom_rbd','cod_reg_rbd','cod_pro_rbd','cod_com_rbd','nom_com_rbd','cod_depe','cod_depe2','rural_rbd','clasificacion_sep','cod_ense','cod_ense2','cod_ense3','cod_grado','let_cur','cod_jor','grado_sep', 'ben_sep'], index=False)"
   ]
  },
  {
   "cell_type": "code",
   "execution_count": 21,
   "metadata": {},
   "outputs": [
    {
     "ename": "NameError",
     "evalue": "name 'alumnos_sep_dataframes' is not defined",
     "output_type": "error",
     "traceback": [
      "\u001b[0;31m---------------------------------------------------------------------------\u001b[0m",
      "\u001b[0;31mNameError\u001b[0m                                 Traceback (most recent call last)",
      "Cell \u001b[0;32mIn[21], line 1\u001b[0m\n\u001b[0;32m----> 1\u001b[0m \u001b[38;5;28;01mdel\u001b[39;00m \u001b[43malumnos_sep_dataframes\u001b[49m\n\u001b[1;32m      2\u001b[0m \u001b[38;5;28;01mdel\u001b[39;00m df\n",
      "\u001b[0;31mNameError\u001b[0m: name 'alumnos_sep_dataframes' is not defined"
     ]
    }
   ],
   "source": [
    "del alumnos_sep_dataframes\n"
   ]
  },
  {
   "cell_type": "code",
   "execution_count": 22,
   "metadata": {},
   "outputs": [],
   "source": [
    "del df"
   ]
  },
  {
   "cell_type": "code",
   "execution_count": 23,
   "metadata": {},
   "outputs": [],
   "source": [
    "path = \"../data/interim/alumnos_sep/\"\n",
    "files = Path(path).rglob('*.csv')\n",
    "\n",
    "alumnos_sep_dataframes: list[DataFrame] = [pd.read_csv(filepath, sep=\",\", low_memory=False) for filepath in files]\n",
    "\n",
    "concatenated_alumnos_sep = pd.concat(alumnos_sep_dataframes, axis=0, ignore_index=True)\n",
    "\n"
   ]
  },
  {
   "cell_type": "code",
   "execution_count": 24,
   "metadata": {},
   "outputs": [],
   "source": [
    "del alumnos_sep_dataframes"
   ]
  },
  {
   "cell_type": "code",
   "execution_count": 27,
   "metadata": {},
   "outputs": [
    {
     "name": "stdout",
     "output_type": "stream",
     "text": [
      "<class 'pandas.core.frame.DataFrame'>\n",
      "RangeIndex: 28366893 entries, 0 to 28366892\n",
      "Data columns (total 24 columns):\n",
      " #   Column             Non-Null Count     Dtype \n",
      "---  ------             --------------     ----- \n",
      " 0   agno               28366893 non-null  int64 \n",
      " 1   mrun               28366893 non-null  int64 \n",
      " 2   gen_alu            28366893 non-null  object\n",
      " 3   fec_nac_alu        28366893 non-null  object\n",
      " 4   criterio_sep       28366893 non-null  int64 \n",
      " 5   rbd                28366893 non-null  object\n",
      " 6   dgv_rbd            28366893 non-null  object\n",
      " 7   nom_rbd            28366893 non-null  object\n",
      " 8   cod_reg_rbd        28366893 non-null  object\n",
      " 9   cod_pro_rbd        28366893 non-null  object\n",
      " 10  cod_com_rbd        28366893 non-null  object\n",
      " 11  nom_com_rbd        28366893 non-null  object\n",
      " 12  cod_depe           28366893 non-null  object\n",
      " 13  cod_depe2          28366893 non-null  object\n",
      " 14  rural_rbd          28366893 non-null  object\n",
      " 15  clasificacion_sep  28030752 non-null  object\n",
      " 16  cod_ense           28366893 non-null  object\n",
      " 17  cod_ense2          28366893 non-null  object\n",
      " 18  cod_ense3          28366893 non-null  object\n",
      " 19  cod_grado          28366893 non-null  object\n",
      " 20  let_cur            28366845 non-null  object\n",
      " 21  cod_jor            28366893 non-null  object\n",
      " 22  grado_sep          28366893 non-null  int64 \n",
      " 23  ben_sep            28366893 non-null  int64 \n",
      "dtypes: int64(5), object(19)\n",
      "memory usage: 5.1+ GB\n"
     ]
    },
    {
     "ename": "",
     "evalue": "",
     "output_type": "error",
     "traceback": [
      "\u001b[1;31mThe Kernel crashed while executing code in the current cell or a previous cell. \n",
      "\u001b[1;31mPlease review the code in the cell(s) to identify a possible cause of the failure. \n",
      "\u001b[1;31mClick <a href='https://aka.ms/vscodeJupyterKernelCrash'>here</a> for more info. \n",
      "\u001b[1;31mView Jupyter <a href='command:jupyter.viewOutput'>log</a> for further details."
     ]
    }
   ],
   "source": [
    "concatenated_alumnos_sep.info(show_counts=True)"
   ]
  },
  {
   "cell_type": "code",
   "execution_count": 9,
   "metadata": {},
   "outputs": [],
   "source": []
  }
 ],
 "metadata": {
  "kernelspec": {
   "display_name": "Python 3",
   "language": "python",
   "name": "python3"
  },
  "language_info": {
   "codemirror_mode": {
    "name": "ipython",
    "version": 3
   },
   "file_extension": ".py",
   "mimetype": "text/x-python",
   "name": "python",
   "nbconvert_exporter": "python",
   "pygments_lexer": "ipython3",
   "version": "3.12.3"
  }
 },
 "nbformat": 4,
 "nbformat_minor": 2
}

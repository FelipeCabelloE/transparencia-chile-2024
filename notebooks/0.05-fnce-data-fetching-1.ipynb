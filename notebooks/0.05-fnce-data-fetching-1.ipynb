{
 "cells": [
  {
   "cell_type": "code",
   "execution_count": 1,
   "metadata": {},
   "outputs": [],
   "source": [
    "import requests\n",
    "\n",
    "# La api rest utiliza el estandar ckan (https://docs.ckan.org/en/2.8/api/)\n",
    "api_url = \"https://datos.gob.cl/api/3/action/package_search?fq=groups:concurso-transparenta&start=0&rows=20\"\n",
    "\n",
    "response = requests.get(api_url)\n",
    "response: dict = response.json()\n",
    "results:list = response['result']['results']\n",
    "resources = [result['resources'] for result in results]"
   ]
  },
  {
   "cell_type": "code",
   "execution_count": 2,
   "metadata": {},
   "outputs": [
    {
     "data": {
      "text/plain": [
       "{'mimetype': 53,\n",
       " 'cache_url': 53,\n",
       " 'hash': 53,\n",
       " 'description': 53,\n",
       " 'name': 53,\n",
       " 'created': 53,\n",
       " 'url': 53,\n",
       " 'datastore_active': 53,\n",
       " 'format': 53,\n",
       " 'package_id': 53,\n",
       " 'id': 53,\n",
       " 'cache_last_updated': 53,\n",
       " 'state': 53,\n",
       " 'mimetype_inner': 53,\n",
       " 'last_modified': 53,\n",
       " 'position': 53,\n",
       " 'revision_id': 53,\n",
       " 'url_type': 53,\n",
       " 'datastore_contains_all_records_of_source_file': 53,\n",
       " 'resource_type': 53,\n",
       " 'size': 53,\n",
       " 'original_url': 21,\n",
       " 'resource_id': 21,\n",
       " 'set_url_type': 21,\n",
       " 'ignore_hash': 21,\n",
       " 'ckan_url': 21,\n",
       " 'task_created': 21}"
      ]
     },
     "metadata": {},
     "output_type": "display_data"
    }
   ],
   "source": [
    "# First, we will flatten the resources\n",
    "from itertools import chain\n",
    "from collections import Counter\n",
    "\n",
    "resources_flatten = list(chain.from_iterable(resources))\n",
    "\n",
    "all_keys = [key for dict in resources_flatten for key in dict.keys()]\n",
    "\n",
    "key_counts = Counter(all_keys)\n",
    "\n",
    "key_counts_sorted = dict(sorted(key_counts.items(), key=lambda item: item[1], reverse=True))\n",
    "display(key_counts_sorted)\n"
   ]
  },
  {
   "cell_type": "code",
   "execution_count": 5,
   "metadata": {},
   "outputs": [],
   "source": [
    "import pandas as pd\n",
    "\n",
    "\n",
    "df_api = pd.DataFrame.from_records(resources_flatten, columns=['cache_last_updated','package_id','datastore_contains_all_records_of_source_file','datastore_active','id','size','state','hash','description','format','mimetype_inner','url_type','mimetype','cache_url','name','created','url','last_modified','position','revision_id','resource_type'])"
   ]
  },
  {
   "cell_type": "code",
   "execution_count": 6,
   "metadata": {},
   "outputs": [],
   "source": [
    "df_scraped = pd.read_csv(\"transparenta2024links.csv\")"
   ]
  },
  {
   "cell_type": "code",
   "execution_count": 7,
   "metadata": {},
   "outputs": [
    {
     "data": {
      "text/plain": [
       "(53, 21)"
      ]
     },
     "metadata": {},
     "output_type": "display_data"
    },
    {
     "data": {
      "text/plain": [
       "(45, 5)"
      ]
     },
     "metadata": {},
     "output_type": "display_data"
    }
   ],
   "source": [
    "display(df_api.shape)\n",
    "display(df_scraped.shape)"
   ]
  },
  {
   "cell_type": "code",
   "execution_count": 10,
   "metadata": {},
   "outputs": [],
   "source": [
    "df_scraped['url'] = df_scraped['file_url']"
   ]
  },
  {
   "cell_type": "code",
   "execution_count": 11,
   "metadata": {},
   "outputs": [],
   "source": [
    "# Concatenate the two dataframes with a 'source' column\n",
    "combined_df = pd.concat([df_api.assign(source='df_api'), df_scraped.assign(source='df_scraped')], ignore_index=True)\n",
    "\n",
    "# Count the occurrences of each value\n",
    "value_counts = combined_df['url'].value_counts()"
   ]
  },
  {
   "cell_type": "code",
   "execution_count": 23,
   "metadata": {},
   "outputs": [
    {
     "data": {
      "text/plain": [
       "url\n",
       "https://datos.gob.cl/dataset/606ef5bb-11d1-475b-b69f-b980da5757f4/resource/ae6c9887-106d-4e98-8875-40bf2b836041/download/at_urg_respiratorio_semanal.parquet                                          2\n",
       "https://datos.gob.cl/dataset/606ef5bb-11d1-475b-b69f-b980da5757f4/resource/27fbe340-0e74-465f-b9f9-488c3bf6533c/download/diccionario-de-datos-urgenciasrespiratoriasporsemana.xlsx                    2\n",
       "https://datos.gob.cl/dataset/3bf4cf7c-f638-4735-9a01-f65faae4beca/resource/7127fc99-b858-4e74-8971-51413e484fb1/download/diccionario_base_establecimientos.xlsx                                       2\n",
       "https://datos.gob.cl/dataset/8982a05a-91f7-422d-97bc-3eee08fde784/resource/8e5539b7-10b2-409b-ae5a-36dae4faf817/download/defunciones_covid19_2020_2024.csv                                            2\n",
       "https://datos.gob.cl/dataset/8982a05a-91f7-422d-97bc-3eee08fde784/resource/80b3e81c-2f06-4919-a3ee-c4f94714c53a/download/diccionario-de-datos-bbdd-covid19.xlsx                                       2\n",
       "https://datos.gob.cl/dataset/c6eb172c-bf35-4259-abe5-037daff76bfa/resource/90609734-7c50-49f4-b84c-4392f408ce65/download/diccionariodedatosabiertosinversiones.csv                                    2\n",
       "https://datos.gob.cl/dataset/c6eb172c-bf35-4259-abe5-037daff76bfa/resource/54606da2-734c-4864-88df-423bbbd2eab9/download/inversionesnivelpresupuestonacional-nacionalamayo2024.csv                    2\n",
       "https://datos.gob.cl/dataset/c6eb172c-bf35-4259-abe5-037daff76bfa/resource/2569d4fa-eade-4a03-b769-db9be79b7694/download/inversionesnivelpresupuestonacional-nacionalaenero2024.csv                   2\n",
       "https://datos.gob.cl/dataset/c6eb172c-bf35-4259-abe5-037daff76bfa/resource/7b62c87c-bef9-4784-8c79-6a421b780762/download/inversionesnivelpresupuestonacional-nacionalafebrero2024.csv                 2\n",
       "https://datos.gob.cl/dataset/c6eb172c-bf35-4259-abe5-037daff76bfa/resource/cd3ff364-af74-4613-b1f2-c556c877ea43/download/inversionesnivelpresupuestonacional-nacionalafebrero2024.csv                 2\n",
       "https://datos.gob.cl/dataset/c6eb172c-bf35-4259-abe5-037daff76bfa/resource/13364d7e-2a0c-42f7-a06a-c839277716d9/download/inversionesnivelpresupuestonacional-nacionalamarzo2024.csv                   2\n",
       "https://datos.gob.cl/dataset/c6eb172c-bf35-4259-abe5-037daff76bfa/resource/6d671370-a92e-4d54-adcf-659e5c632f26/download/inversionesnivelpresupuestonacional-nacionalamarzo2024.csv                   2\n",
       "https://datos.gob.cl/dataset/c6eb172c-bf35-4259-abe5-037daff76bfa/resource/0890898f-bfca-4bbd-be53-0e073ad2bf51/download/inversionesnivelpresupuestonacional-nacionalaabril2024.csv                   2\n",
       "https://datos.gob.cl/dataset/c6eb172c-bf35-4259-abe5-037daff76bfa/resource/fb187fef-9f12-48d4-b76f-7812f30cf9b7/download/inversionesnivelpresupuestonacional-nacionalaabril2024.csv                   2\n",
       "https://datos.gob.cl/dataset/911ab68a-1885-4ae0-b851-0f82f159abf4/resource/a71a0976-ec12-4419-8a5c-5b44f7b40241/download/ejecucion-presupuestaria_nivel-nacional_a-mayo-2024.csv                      2\n",
       "https://datos.gob.cl/dataset/c6eb172c-bf35-4259-abe5-037daff76bfa/resource/66104678-1fdf-46d6-b1e5-bddf311eea46/download/inversionesnivelpresupuestonacional-nacionalamayo2024.csv                    2\n",
       "https://datos.gob.cl/dataset/c6eb172c-bf35-4259-abe5-037daff76bfa/resource/a1416e34-8ce8-4e5c-aaf1-7d8876896427/download/inversionesnivelpresupuestonacional-nacionalajunio2024.csv                   2\n",
       "https://datos.gob.cl/dataset/c6eb172c-bf35-4259-abe5-037daff76bfa/resource/4d6dfcaa-52f3-4171-9c8c-c7fe229628c5/download/inversionesnivelpresupuestonacional-nacionalajunio2024.csv                   2\n",
       "https://datos.gob.cl/dataset/911ab68a-1885-4ae0-b851-0f82f159abf4/resource/80b2045a-3961-483e-9027-4512e05cf27e/download/ejecucion-presupuestaria_nivel-capitulo_a-mayo-2024.csv                      2\n",
       "https://datos.gob.cl/dataset/911ab68a-1885-4ae0-b851-0f82f159abf4/resource/c2bd4f4e-4b1f-4ae3-b6d6-0e9b432335d1/download/ejecucion-presupuestaria_nivel-partida_a-mayo-2024.csv                       2\n",
       "https://datos.gob.cl/dataset/911ab68a-1885-4ae0-b851-0f82f159abf4/resource/dfddc80e-7054-4cf1-adef-57ad433584db/download/ejecucion-presupuestaria_nivel-programa_a-mayo-2024.csv                      2\n",
       "https://datos.gob.cl/dataset/911ab68a-1885-4ae0-b851-0f82f159abf4/resource/0c93acf3-383f-4162-b821-3212c899fcf4/download/diccionario-de-datos-abiertosejecucionpresupuestaria.csv                     2\n",
       "https://datos.gob.cl/dataset/9c99346f-eb56-4025-95b5-472d809990d0/resource/408a14d4-bdbd-4b2d-9ebd-b4e83ec21c74/download/conratos.csv                                                                 2\n",
       "https://datos.gob.cl/dataset/3ad5cc98-1029-40d7-9c3c-7e751e71dad1/resource/5509562d-b17b-4fd9-be99-23d2ec40a328/download/bbdd-respuesta-encuesta-jovenes.xlsx                                         2\n",
       "https://datos.gob.cl/dataset/6427113a-706a-488e-91ef-0830604639bf/resource/b8579d7a-b001-4cde-87ce-d5bebe1f4dc4/download/bbdd-respuesta-encuesta-jovenes.csv                                          2\n",
       "https://datosretc.mma.gob.cl/dataset/e74bf5ef-b8a9-48ed-bceb-f86dc9879c92/resource/fcac0b10-0b4d-4ae2-bc1c-cb42af80b8f7/download/df-sinader-2022-ckan.csv                                             2\n",
       "https://midas.minsal.cl/farmacia_v2/WS/getLocales.php                                                                                                                                                 2\n",
       "https://midas.minsal.cl/farmacia_v2/WS/getLocalesTurnos.php                                                                                                                                           2\n",
       "https://www.supereduc.cl/denuncias-ingresadas/                                                                                                                                                        2\n",
       "https://www.supereduc.cl/solicitudes-de-mediacion/                                                                                                                                                    2\n",
       "https://www.supereduc.cl/pas/                                                                                                                                                                         2\n",
       "https://datos.gob.cl/dataset/5097da5c-0203-45c0-a08a-04d4d6da522c/resource/c7bfe589-b127-4167-b5e4-76d0bc3682c7/download/ley-de-presupuestos-inicial-y-vigente_nivel-nacional_a-mayo-2024.csv         2\n",
       "https://datos.gob.cl/dataset/5097da5c-0203-45c0-a08a-04d4d6da522c/resource/347ea2c1-d3b9-4be4-af79-a1dbcea33b76/download/ley-de-presupuestos-inicial-y-vigente_nivel-partida_a-mayo-2024.csv          2\n",
       "https://datos.gob.cl/dataset/5097da5c-0203-45c0-a08a-04d4d6da522c/resource/38453e1f-6cc9-4e2e-aa6b-267a3e908155/download/ley-de-presupuestos-inicial-y-vigente_nivel-capitulo_a-mayo-2024.csv         2\n",
       "https://datos.gob.cl/dataset/5097da5c-0203-45c0-a08a-04d4d6da522c/resource/ee2d7669-05e3-4fe5-a812-c10e525f2977/download/ley-de-presupuestos-inicial-y-vigente_nivel-programa_a-mayo-2024.csv         2\n",
       "https://datos.gob.cl/dataset/5097da5c-0203-45c0-a08a-04d4d6da522c/resource/0327ab88-20da-4d8b-bfb9-066c0e6fc536/download/diccionario-de-datos-abiertosleydepresupuestos.csv                           2\n",
       "https://datos.gob.cl/dataset/11741eba-f15f-4126-b688-cb17847d4ba1/resource/95e7c84b-f2f7-4648-855d-37b89b59163f/download/proyectos.csv                                                                2\n",
       "https://datos.gob.cl/dataset/23e70872-579c-4970-b7d3-8d966ccd535b/resource/9198e6e1-cee5-4efe-940a-3b7446479af6/download/ofertas.csv                                                                  2\n",
       "https://datos.gob.cl/dataset/76aa7b9b-8a3b-404a-853d-0ecff159876d/resource/41ae9cbc-c0df-4461-a03d-94f83d3c8661/download/diccionario_de_variables_eno_2007_2022fin.xlsx                               2\n",
       "https://datos.gob.cl/dataset/12862fbd-dc06-4adf-9394-5173fcd8eb81/resource/924bba26-c484-4231-98f6-652cfabb6b34/download/requisitos.csv                                                               2\n",
       "https://datos.gob.cl/dataset/ae8fc2c4-bb5d-4bfc-b3c0-4692d1f4fa1e/resource/beb2f9c4-07c1-46e7-b086-4b93e65f635f/download/pagos.csv                                                                    2\n",
       "https://datos.gob.cl/dataset/76aa7b9b-8a3b-404a-853d-0ecff159876d/resource/b6081caf-39af-4f3f-86de-d6e00739bdc4/download/20240304_base_eno_final.csv                                                  2\n",
       "https://datos.gob.cl/dataset/be2a922f-8ea4-4ebc-8828-0c713b702cd2/resource/79c05b22-391b-4dbd-a362-ba088fecabab/download/diccionario-de-datos-atencionesurgencia.xlsx                                 2\n",
       "https://datos.gob.cl/dataset/76aa7b9b-8a3b-404a-853d-0ecff159876d/resource/4a1661f6-6f1f-401d-88cd-ff11c8b58e88/download/metodologia_validacion_anonimizacion_y_publicacion_bases_de_datos_eno.pdf    2\n",
       "https://datos.gob.cl/dataset/3bf4cf7c-f638-4735-9a01-f65faae4beca/resource/2c44d782-3365-44e3-aefb-2c8b8363a1bc/download/establecimientos_20240806.csv                                                1\n",
       "https://repositoriodeis.minsal.cl/SistemaAtencionesUrgencia/AtencionesUrgencia2024.zip                                                                                                                1\n",
       "https://repositoriodeis.minsal.cl/SistemaAtencionesUrgencia/AtencionesUrgencia2023.zip                                                                                                                1\n",
       "https://repositoriodeis.minsal.cl/DatosAbiertos/AtencionesDeUrgencia/AtencionesUrgencia2022.zip                                                                                                       1\n",
       "https://repositoriodeis.minsal.cl/DatosAbiertos/AtencionesDeUrgencia/AtencionesUrgencia2020.zip                                                                                                       1\n",
       "https://repositoriodeis.minsal.cl/DatosAbiertos/AtencionesDeUrgencia/AtencionesUrgencia2021.zip                                                                                                       1\n",
       "https://repositoriodeis.minsal.cl/DatosAbiertos/AtencionesDeUrgencia/AtencionesUrgencia2019.zip                                                                                                       1\n",
       "https://repositoriodeis.minsal.cl/DatosAbiertos/AtencionesDeUrgencia/AtencionesUrgencia2018.zip                                                                                                       1\n",
       "https://repositoriodeis.minsal.cl/DatosAbiertos/AtencionesDeUrgencia/AtencionesUrgencia2017.zip                                                                                                       1\n",
       "https://datos.gob.cl/dataset/3bf4cf7c-f638-4735-9a01-f65faae4beca/resource/2c44d782-3365-44e3-aefb-2c8b8363a1bc/download/establecimientos_20240730.csv                                                1\n",
       "Name: count, dtype: int64"
      ]
     },
     "execution_count": 23,
     "metadata": {},
     "output_type": "execute_result"
    }
   ],
   "source": [
    "value_counts"
   ]
  },
  {
   "cell_type": "code",
   "execution_count": 19,
   "metadata": {},
   "outputs": [],
   "source": [
    "unique_values = value_counts[value_counts == 1].index"
   ]
  },
  {
   "cell_type": "code",
   "execution_count": 20,
   "metadata": {},
   "outputs": [],
   "source": [
    "unique_df = combined_df[combined_df['url'].isin(unique_values)]"
   ]
  },
  {
   "cell_type": "code",
   "execution_count": 22,
   "metadata": {},
   "outputs": [
    {
     "data": {
      "text/plain": [
       "Index(['https://datos.gob.cl/dataset/3bf4cf7c-f638-4735-9a01-f65faae4beca/resource/2c44d782-3365-44e3-aefb-2c8b8363a1bc/download/establecimientos_20240806.csv',\n",
       "       'https://repositoriodeis.minsal.cl/SistemaAtencionesUrgencia/AtencionesUrgencia2024.zip',\n",
       "       'https://repositoriodeis.minsal.cl/SistemaAtencionesUrgencia/AtencionesUrgencia2023.zip',\n",
       "       'https://repositoriodeis.minsal.cl/DatosAbiertos/AtencionesDeUrgencia/AtencionesUrgencia2022.zip',\n",
       "       'https://repositoriodeis.minsal.cl/DatosAbiertos/AtencionesDeUrgencia/AtencionesUrgencia2020.zip',\n",
       "       'https://repositoriodeis.minsal.cl/DatosAbiertos/AtencionesDeUrgencia/AtencionesUrgencia2021.zip',\n",
       "       'https://repositoriodeis.minsal.cl/DatosAbiertos/AtencionesDeUrgencia/AtencionesUrgencia2019.zip',\n",
       "       'https://repositoriodeis.minsal.cl/DatosAbiertos/AtencionesDeUrgencia/AtencionesUrgencia2018.zip',\n",
       "       'https://repositoriodeis.minsal.cl/DatosAbiertos/AtencionesDeUrgencia/AtencionesUrgencia2017.zip',\n",
       "       'https://datos.gob.cl/dataset/3bf4cf7c-f638-4735-9a01-f65faae4beca/resource/2c44d782-3365-44e3-aefb-2c8b8363a1bc/download/establecimientos_20240730.csv'],\n",
       "      dtype='object', name='url')"
      ]
     },
     "execution_count": 22,
     "metadata": {},
     "output_type": "execute_result"
    }
   ],
   "source": [
    "unique_values"
   ]
  },
  {
   "cell_type": "code",
   "execution_count": 53,
   "metadata": {},
   "outputs": [
    {
     "data": {
      "text/plain": [
       "'https://datos.gob.cl/dataset/3bf4cf7c-f638-4735-9a01-f65faae4beca/resource/2c44d782-3365-44e3-aefb-2c8b8363a1bc/download/establecimientos_20240730.csv'"
      ]
     },
     "execution_count": 53,
     "metadata": {},
     "output_type": "execute_result"
    }
   ],
   "source": [
    "unique_df['url'].iloc[-1]"
   ]
  },
  {
   "cell_type": "code",
   "execution_count": null,
   "metadata": {},
   "outputs": [],
   "source": []
  }
 ],
 "metadata": {
  "kernelspec": {
   "display_name": "Python 3",
   "language": "python",
   "name": "python3"
  },
  "language_info": {
   "codemirror_mode": {
    "name": "ipython",
    "version": 3
   },
   "file_extension": ".py",
   "mimetype": "text/x-python",
   "name": "python",
   "nbconvert_exporter": "python",
   "pygments_lexer": "ipython3",
   "version": "3.12.5"
  }
 },
 "nbformat": 4,
 "nbformat_minor": 2
}

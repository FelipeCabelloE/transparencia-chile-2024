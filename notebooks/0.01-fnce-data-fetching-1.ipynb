{
 "cells": [
  {
   "cell_type": "markdown",
   "metadata": {},
   "source": [
    "# Primer notebook exploratorio de datos\n",
    "\n",
    "Este es el primer notebook exploratorio de datos para el concurso de transparencia de datos del gobierno de Chile 2024."
   ]
  },
  {
   "cell_type": "markdown",
   "metadata": {},
   "source": [
    "El primer paso es ir a buscar la información a la api rest del gobierno en https://datos.gob.cl"
   ]
  },
  {
   "cell_type": "code",
   "execution_count": 3,
   "metadata": {},
   "outputs": [],
   "source": [
    "import requests\n",
    "\n",
    "# La api rest utiliza el estandar ckan (https://docs.ckan.org/en/2.8/api/)\n",
    "api_url = \"https://datos.gob.cl/api/3/action/package_search?fq=groups:concurso-transparenta\"\n",
    "\n",
    "response = requests.get(api_url)\n",
    "response: dict = response.json()"
   ]
  },
  {
   "cell_type": "code",
   "execution_count": 4,
   "metadata": {},
   "outputs": [
    {
     "data": {
      "text/plain": [
       "'Hay 20 sets de datos disponibles para analizar en el concurso'"
      ]
     },
     "metadata": {},
     "output_type": "display_data"
    }
   ],
   "source": [
    "num_datasets: int = response['result']['count']\n",
    "display(f'Hay {num_datasets} sets de datos disponibles para analizar en el concurso')"
   ]
  },
  {
   "cell_type": "code",
   "execution_count": 5,
   "metadata": {},
   "outputs": [],
   "source": [
    "results:list = response['result']['results']"
   ]
  },
  {
   "cell_type": "code",
   "execution_count": 9,
   "metadata": {},
   "outputs": [
    {
     "data": {
      "text/plain": [
       "'Hay 10 resultados en la respuesta'"
      ]
     },
     "metadata": {},
     "output_type": "display_data"
    },
    {
     "data": {
      "text/plain": [
       "'Hay un total de 29 recursos'"
      ]
     },
     "metadata": {},
     "output_type": "display_data"
    },
    {
     "data": {
      "text/plain": [
       "'El resultado nº1 tiene 12 recurso(s)'"
      ]
     },
     "metadata": {},
     "output_type": "display_data"
    },
    {
     "data": {
      "text/plain": [
       "'El resultado nº2 tiene 5 recurso(s)'"
      ]
     },
     "metadata": {},
     "output_type": "display_data"
    },
    {
     "data": {
      "text/plain": [
       "'El resultado nº3 tiene 2 recurso(s)'"
      ]
     },
     "metadata": {},
     "output_type": "display_data"
    },
    {
     "data": {
      "text/plain": [
       "'El resultado nº4 tiene 2 recurso(s)'"
      ]
     },
     "metadata": {},
     "output_type": "display_data"
    },
    {
     "data": {
      "text/plain": [
       "'El resultado nº5 tiene 1 recurso(s)'"
      ]
     },
     "metadata": {},
     "output_type": "display_data"
    },
    {
     "data": {
      "text/plain": [
       "'El resultado nº6 tiene 1 recurso(s)'"
      ]
     },
     "metadata": {},
     "output_type": "display_data"
    },
    {
     "data": {
      "text/plain": [
       "'El resultado nº7 tiene 2 recurso(s)'"
      ]
     },
     "metadata": {},
     "output_type": "display_data"
    },
    {
     "data": {
      "text/plain": [
       "'El resultado nº8 tiene 1 recurso(s)'"
      ]
     },
     "metadata": {},
     "output_type": "display_data"
    },
    {
     "data": {
      "text/plain": [
       "'El resultado nº9 tiene 2 recurso(s)'"
      ]
     },
     "metadata": {},
     "output_type": "display_data"
    },
    {
     "data": {
      "text/plain": [
       "'El resultado nº10 tiene 1 recurso(s)'"
      ]
     },
     "metadata": {},
     "output_type": "display_data"
    }
   ],
   "source": [
    "display(f\"Hay {len(results)} resultados en la respuesta\")\n",
    "\n",
    "resources = [result['resources'] for result in results]\n",
    "\n",
    "display(f\"Hay un total de {sum([len(resource) for resource in resources])} recursos\")\n",
    "\n",
    "for n, resource in enumerate(resources):\n",
    "    display(f\"El resultado nº{n+1} tiene {len(resource)} recurso(s)\")\n",
    "\n",
    "\n"
   ]
  },
  {
   "cell_type": "markdown",
   "metadata": {},
   "source": [
    "Es muy extraño, porque se supone que hay solamente 20 sets de datos. Esto también se puede evidenciar en el sitio web.\n",
    "\n",
    "Lo más probable es que no estén todos los sets de datos publicados.\n",
    "\n",
    "Ahora debemos buscar una forma de organizar la información y diferenciar entre sets publicados y no publicados."
   ]
  },
  {
   "cell_type": "code",
   "execution_count": 21,
   "metadata": {},
   "outputs": [],
   "source": [
    "# First, we will flatten the resources\n",
    "from itertools import chain\n",
    "\n",
    "resources_flatten = list(chain.from_iterable(resources))\n",
    "\n"
   ]
  },
  {
   "cell_type": "code",
   "execution_count": 24,
   "metadata": {},
   "outputs": [
    {
     "data": {
      "text/plain": [
       "'El recurso nº 1 tiene 27 atributo(s)'"
      ]
     },
     "metadata": {},
     "output_type": "display_data"
    },
    {
     "data": {
      "text/plain": [
       "'El recurso nº 2 tiene 21 atributo(s)'"
      ]
     },
     "metadata": {},
     "output_type": "display_data"
    },
    {
     "data": {
      "text/plain": [
       "'El recurso nº 3 tiene 21 atributo(s)'"
      ]
     },
     "metadata": {},
     "output_type": "display_data"
    },
    {
     "data": {
      "text/plain": [
       "'El recurso nº 4 tiene 27 atributo(s)'"
      ]
     },
     "metadata": {},
     "output_type": "display_data"
    },
    {
     "data": {
      "text/plain": [
       "'El recurso nº 5 tiene 27 atributo(s)'"
      ]
     },
     "metadata": {},
     "output_type": "display_data"
    },
    {
     "data": {
      "text/plain": [
       "'El recurso nº 6 tiene 21 atributo(s)'"
      ]
     },
     "metadata": {},
     "output_type": "display_data"
    },
    {
     "data": {
      "text/plain": [
       "'El recurso nº 7 tiene 27 atributo(s)'"
      ]
     },
     "metadata": {},
     "output_type": "display_data"
    },
    {
     "data": {
      "text/plain": [
       "'El recurso nº 8 tiene 27 atributo(s)'"
      ]
     },
     "metadata": {},
     "output_type": "display_data"
    },
    {
     "data": {
      "text/plain": [
       "'El recurso nº 9 tiene 27 atributo(s)'"
      ]
     },
     "metadata": {},
     "output_type": "display_data"
    },
    {
     "data": {
      "text/plain": [
       "'El recurso nº 10 tiene 21 atributo(s)'"
      ]
     },
     "metadata": {},
     "output_type": "display_data"
    },
    {
     "data": {
      "text/plain": [
       "'El recurso nº 11 tiene 27 atributo(s)'"
      ]
     },
     "metadata": {},
     "output_type": "display_data"
    },
    {
     "data": {
      "text/plain": [
       "'El recurso nº 12 tiene 21 atributo(s)'"
      ]
     },
     "metadata": {},
     "output_type": "display_data"
    },
    {
     "data": {
      "text/plain": [
       "'El recurso nº 13 tiene 27 atributo(s)'"
      ]
     },
     "metadata": {},
     "output_type": "display_data"
    },
    {
     "data": {
      "text/plain": [
       "'El recurso nº 14 tiene 27 atributo(s)'"
      ]
     },
     "metadata": {},
     "output_type": "display_data"
    },
    {
     "data": {
      "text/plain": [
       "'El recurso nº 15 tiene 27 atributo(s)'"
      ]
     },
     "metadata": {},
     "output_type": "display_data"
    },
    {
     "data": {
      "text/plain": [
       "'El recurso nº 16 tiene 27 atributo(s)'"
      ]
     },
     "metadata": {},
     "output_type": "display_data"
    },
    {
     "data": {
      "text/plain": [
       "'El recurso nº 17 tiene 27 atributo(s)'"
      ]
     },
     "metadata": {},
     "output_type": "display_data"
    },
    {
     "data": {
      "text/plain": [
       "'El recurso nº 18 tiene 21 atributo(s)'"
      ]
     },
     "metadata": {},
     "output_type": "display_data"
    },
    {
     "data": {
      "text/plain": [
       "'El recurso nº 19 tiene 27 atributo(s)'"
      ]
     },
     "metadata": {},
     "output_type": "display_data"
    },
    {
     "data": {
      "text/plain": [
       "'El recurso nº 20 tiene 27 atributo(s)'"
      ]
     },
     "metadata": {},
     "output_type": "display_data"
    },
    {
     "data": {
      "text/plain": [
       "'El recurso nº 21 tiene 21 atributo(s)'"
      ]
     },
     "metadata": {},
     "output_type": "display_data"
    },
    {
     "data": {
      "text/plain": [
       "'El recurso nº 22 tiene 21 atributo(s)'"
      ]
     },
     "metadata": {},
     "output_type": "display_data"
    },
    {
     "data": {
      "text/plain": [
       "'El recurso nº 23 tiene 21 atributo(s)'"
      ]
     },
     "metadata": {},
     "output_type": "display_data"
    },
    {
     "data": {
      "text/plain": [
       "'El recurso nº 24 tiene 21 atributo(s)'"
      ]
     },
     "metadata": {},
     "output_type": "display_data"
    },
    {
     "data": {
      "text/plain": [
       "'El recurso nº 25 tiene 27 atributo(s)'"
      ]
     },
     "metadata": {},
     "output_type": "display_data"
    },
    {
     "data": {
      "text/plain": [
       "'El recurso nº 26 tiene 27 atributo(s)'"
      ]
     },
     "metadata": {},
     "output_type": "display_data"
    },
    {
     "data": {
      "text/plain": [
       "'El recurso nº 27 tiene 21 atributo(s)'"
      ]
     },
     "metadata": {},
     "output_type": "display_data"
    },
    {
     "data": {
      "text/plain": [
       "'El recurso nº 28 tiene 21 atributo(s)'"
      ]
     },
     "metadata": {},
     "output_type": "display_data"
    },
    {
     "data": {
      "text/plain": [
       "'El recurso nº 29 tiene 21 atributo(s)'"
      ]
     },
     "metadata": {},
     "output_type": "display_data"
    }
   ],
   "source": [
    "for n, resource in enumerate(resources_flatten):\n",
    "    display(f\"El recurso nº {n +1} tiene {len(resource.keys())} atributo(s)\")"
   ]
  },
  {
   "cell_type": "code",
   "execution_count": 26,
   "metadata": {},
   "outputs": [],
   "source": [
    "from collections import Counter\n",
    "\n",
    "all_keys = [key for dict in resources_flatten for key in dict.keys()]\n",
    "\n",
    "key_counts = Counter(all_keys)\n",
    "\n"
   ]
  },
  {
   "cell_type": "code",
   "execution_count": 39,
   "metadata": {},
   "outputs": [
    {
     "data": {
      "text/plain": [
       "{'cache_last_updated': 29,\n",
       " 'package_id': 29,\n",
       " 'datastore_contains_all_records_of_source_file': 29,\n",
       " 'datastore_active': 29,\n",
       " 'id': 29,\n",
       " 'size': 29,\n",
       " 'state': 29,\n",
       " 'hash': 29,\n",
       " 'description': 29,\n",
       " 'format': 29,\n",
       " 'mimetype_inner': 29,\n",
       " 'url_type': 29,\n",
       " 'mimetype': 29,\n",
       " 'cache_url': 29,\n",
       " 'name': 29,\n",
       " 'created': 29,\n",
       " 'url': 29,\n",
       " 'last_modified': 29,\n",
       " 'position': 29,\n",
       " 'revision_id': 29,\n",
       " 'resource_type': 29,\n",
       " 'original_url': 16,\n",
       " 'resource_id': 16,\n",
       " 'set_url_type': 16,\n",
       " 'ignore_hash': 16,\n",
       " 'ckan_url': 16,\n",
       " 'task_created': 16}"
      ]
     },
     "execution_count": 39,
     "metadata": {},
     "output_type": "execute_result"
    }
   ],
   "source": [
    "key_counts_sorted = dict(sorted(key_counts.items(), key=lambda item: item[1], reverse=True))\n",
    "key_counts_sorted"
   ]
  },
  {
   "cell_type": "code",
   "execution_count": 32,
   "metadata": {},
   "outputs": [],
   "source": [
    "import pandas as pd\n",
    "\n",
    "\n",
    "\n",
    "\n",
    "df = pd.DataFrame.from_records(resources_flatten, columns=['cache_last_updated','package_id','datastore_contains_all_records_of_source_file','datastore_active','id','size','state','hash','description','format','mimetype_inner','url_type','mimetype','cache_url','name','created','url','last_modified','position','revision_id','resource_type'])"
   ]
  },
  {
   "cell_type": "code",
   "execution_count": 38,
   "metadata": {},
   "outputs": [],
   "source": [
    "df.to_csv(\"../data/external/datasets_unfiltered.csv\")"
   ]
  }
 ],
 "metadata": {
  "kernelspec": {
   "display_name": "Python 3",
   "language": "python",
   "name": "python3"
  },
  "language_info": {
   "codemirror_mode": {
    "name": "ipython",
    "version": 3
   },
   "file_extension": ".py",
   "mimetype": "text/x-python",
   "name": "python",
   "nbconvert_exporter": "python",
   "pygments_lexer": "ipython3",
   "version": "3.12.3"
  }
 },
 "nbformat": 4,
 "nbformat_minor": 2
}

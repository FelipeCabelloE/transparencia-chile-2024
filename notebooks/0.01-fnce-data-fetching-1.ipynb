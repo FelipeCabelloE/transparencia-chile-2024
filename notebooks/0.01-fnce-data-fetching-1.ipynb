{
 "cells": [
  {
   "cell_type": "markdown",
   "metadata": {},
   "source": [
    "# Primer notebook exploratorio de datos\n",
    "\n",
    "Este es el primer notebook exploratorio de datos para el concurso de transparencia de datos del gobierno de Chile 2024."
   ]
  },
  {
   "cell_type": "markdown",
   "metadata": {},
   "source": [
    "El primer paso es ir a buscar la información a la api rest del gobierno en https://datos.gob.cl"
   ]
  },
  {
   "cell_type": "code",
   "execution_count": 21,
   "metadata": {},
   "outputs": [],
   "source": [
    "import requests\n",
    "\n",
    "# La api rest utiliza el estandar ckan (https://docs.ckan.org/en/2.8/api/)\n",
    "api_url = \"https://datos.gob.cl/api/3/action/package_search?fq=groups:concurso-transparenta\"\n",
    "\n",
    "response = requests.get(api_url)\n",
    "response: dict = response.json()"
   ]
  },
  {
   "cell_type": "code",
   "execution_count": 22,
   "metadata": {},
   "outputs": [
    {
     "data": {
      "text/plain": [
       "{'help': 'https://datos.gob.cl/api/3/action/help_show?name=package_search',\n",
       " 'success': True,\n",
       " 'result': {'count': 20,\n",
       "  'sort': 'score desc, metadata_modified desc',\n",
       "  'facets': {},\n",
       "  'results': [{'license_title': 'Creative Commons Non-Commercial (Cualquiera)',\n",
       "    'maintainer': 'Patricio Aguilera',\n",
       "    'relationships_as_object': [],\n",
       "    'private': False,\n",
       "    'maintainer_email': 'deis@minsal.cl',\n",
       "    'num_tags': 4,\n",
       "    'id': '8982a05a-91f7-422d-97bc-3eee08fde784',\n",
       "    'metadata_created': '2024-01-10T19:55:01.600677',\n",
       "    'metadata_modified': '2024-08-06T20:01:23.680609',\n",
       "    'author': 'Pamela Suarez',\n",
       "    'author_email': 'deis@minsal.cl',\n",
       "    'state': 'active',\n",
       "    'version': '1.0',\n",
       "    'creator_user_id': '96efd616-c71a-4fb7-ae5d-abd10e69a0c6',\n",
       "    'type': 'dataset',\n",
       "    'resources': [{'mimetype': 'text/csv',\n",
       "      'cache_url': None,\n",
       "      'hash': '',\n",
       "      'description': 'Archivo que contiene los datos',\n",
       "      'name': 'Defunciones_COVID19.csv',\n",
       "      'created': '2024-01-10T19:56:01.847092',\n",
       "      'url': 'https://datos.gob.cl/dataset/8982a05a-91f7-422d-97bc-3eee08fde784/resource/8e5539b7-10b2-409b-ae5a-36dae4faf817/download/defunciones_covid19_2020_2024.csv',\n",
       "      'datastore_active': True,\n",
       "      'format': 'CSV',\n",
       "      'package_id': '8982a05a-91f7-422d-97bc-3eee08fde784',\n",
       "      'id': '8e5539b7-10b2-409b-ae5a-36dae4faf817',\n",
       "      'cache_last_updated': None,\n",
       "      'state': 'active',\n",
       "      'mimetype_inner': None,\n",
       "      'last_modified': '2024-08-06T20:01:23.648291',\n",
       "      'position': 0,\n",
       "      'revision_id': 'c2c0661c-126c-4d46-a4fe-911167fc17c7',\n",
       "      'url_type': 'upload',\n",
       "      'datastore_contains_all_records_of_source_file': 'False',\n",
       "      'resource_type': None,\n",
       "      'size': 16037148},\n",
       "     {'cache_last_updated': None,\n",
       "      'package_id': '8982a05a-91f7-422d-97bc-3eee08fde784',\n",
       "      'datastore_contains_all_records_of_source_file': 'True',\n",
       "      'datastore_active': True,\n",
       "      'id': '80b3e81c-2f06-4919-a3ee-c4f94714c53a',\n",
       "      'size': 30091,\n",
       "      'original_url': 'https://datos.gob.cl/dataset/8982a05a-91f7-422d-97bc-3eee08fde784/resource/80b3e81c-2f06-4919-a3ee-c4f94714c53a/download/diccionario-de-datos-bbdd-covid19.xlsx',\n",
       "      'resource_id': '80b3e81c-2f06-4919-a3ee-c4f94714c53a',\n",
       "      'set_url_type': 'False',\n",
       "      'state': 'active',\n",
       "      'ignore_hash': 'False',\n",
       "      'hash': '',\n",
       "      'description': 'Archivo que contiene el diccionario de datos',\n",
       "      'format': 'XLS',\n",
       "      'mimetype_inner': None,\n",
       "      'url_type': 'upload',\n",
       "      'mimetype': 'application/vnd.openxmlformats-officedocument.spreadsheetml.sheet',\n",
       "      'cache_url': None,\n",
       "      'name': 'Diccionario de Datos COVID19.xlsx',\n",
       "      'created': '2024-01-10T19:56:38.564805',\n",
       "      'url': 'https://datos.gob.cl/dataset/8982a05a-91f7-422d-97bc-3eee08fde784/resource/80b3e81c-2f06-4919-a3ee-c4f94714c53a/download/diccionario-de-datos-bbdd-covid19.xlsx',\n",
       "      'ckan_url': 'https://datos.gob.cl',\n",
       "      'task_created': '2024-01-17 15:57:32.602103',\n",
       "      'last_modified': '2024-01-10T19:56:38.463574',\n",
       "      'position': 1,\n",
       "      'revision_id': 'f472668c-e9c5-4fa5-af50-388e76c13531',\n",
       "      'resource_type': None}],\n",
       "    'num_resources': 2,\n",
       "    'tags': [{'vocabulary_id': None,\n",
       "      'state': 'active',\n",
       "      'display_name': 'COVID',\n",
       "      'id': 'fc0211e5-b3c0-4528-832f-504ec0bb7347',\n",
       "      'name': 'COVID'},\n",
       "     {'vocabulary_id': None,\n",
       "      'state': 'active',\n",
       "      'display_name': 'DEIS',\n",
       "      'id': 'e080251e-b9e4-4fee-9aab-717650dcc5c0',\n",
       "      'name': 'DEIS'},\n",
       "     {'vocabulary_id': None,\n",
       "      'state': 'active',\n",
       "      'display_name': 'Defunciones',\n",
       "      'id': '809b3345-5a80-49ca-a230-796e9902baee',\n",
       "      'name': 'Defunciones'},\n",
       "     {'vocabulary_id': None,\n",
       "      'state': 'active',\n",
       "      'display_name': 'Salud',\n",
       "      'id': '960a36fa-ddba-44f2-82bc-578e29cbe107',\n",
       "      'name': 'Salud'}],\n",
       "    'groups': [{'display_name': 'Concurso Transparenta',\n",
       "      'description': '',\n",
       "      'image_display_url': 'https://datos.gob.cl/uploads/group/2024-07-25-133444.872398image-12.png',\n",
       "      'title': 'Concurso Transparenta',\n",
       "      'id': 'b47267f5-72f2-45c8-a7c0-9af7388cec4f',\n",
       "      'name': 'concurso-transparenta'}],\n",
       "    'license_id': 'cc-nc',\n",
       "    'relationships_as_subject': [],\n",
       "    'organization': {'description': 'La misión de este ministerio es construir un modelo de salud sobre la base de una atención primaria fortalecida e integrada, que pone al paciente en el centro, con énfasis en el cuidado de poblaciones durante todo el ciclo de vida, y que además estimule la promoción y prevención en salud, así como el seguimiento, trazabilidad y cobertura\\xa0financiera.',\n",
       "     'title': 'Ministerio de Salud',\n",
       "     'created': '2015-11-02T20:22:51.276506',\n",
       "     'approval_status': 'approved',\n",
       "     'is_organization': True,\n",
       "     'state': 'active',\n",
       "     'image_url': 'https://upload.wikimedia.org/wikipedia/commons/thumb/f/f2/MINSAL.png/265px-MINSAL.png',\n",
       "     'revision_id': '3af2334e-4724-4757-b252-2dfc852b3bc5',\n",
       "     'type': 'organization',\n",
       "     'id': 'AO',\n",
       "     'name': 'ministerio_de_salud'},\n",
       "    'name': 'defunciones-por-covid19',\n",
       "    'isopen': False,\n",
       "    'url': '',\n",
       "    'notes': 'Este conjunto de datos contiene los registros acumulados de defunciones (fallecimientos) por COVID19 inscritos en el Servicio de Registro Civil y codificados por el Departamento de estadística e información de Salud DEIS. Se consideraron las causas CIE10 códigos:   \\r\\n\\r\\n*   U07.1: Virus Identificado.\\r\\n\\r\\n\\r\\n*   U07.2: Virus No Identificado.\\r\\n\\r\\n\\r\\n*   U09.9: Condición de salud posterior a COVID19 no especificada.\\r\\n\\r\\n\\r\\nSe consideran para la confección de este conjunto de datos los registros en estado cerrado (que no registrarán cambios) del año 2020 y los registros preliminares (en proceso de recolección y validación) de los años 2021 a 2024.\\r\\n\\r\\n**  Importante: Los registros preliminares pueden sufrir actualizaciones en el tiempo. **\\r\\n',\n",
       "    'owner_org': 'AO',\n",
       "    'extras': [{'key': 'Periodicidad de actualización', 'value': 'Semanal'}],\n",
       "    'license_url': 'http://creativecommons.org/licenses/by-nc/2.0/',\n",
       "    'title': 'Defunciones por COVID19',\n",
       "    'revision_id': '90332e32-8ec8-4ee3-bd7a-22e3009c6181'},\n",
       "   {'license_title': 'Creative Commons Attribution',\n",
       "    'maintainer': 'Administración Web',\n",
       "    'relationships_as_object': [],\n",
       "    'private': False,\n",
       "    'maintainer_email': 'adminweb@dipres.gob.cl',\n",
       "    'num_tags': 4,\n",
       "    'id': 'c6eb172c-bf35-4259-abe5-037daff76bfa',\n",
       "    'metadata_created': '2024-03-05T13:01:47.323561',\n",
       "    'metadata_modified': '2024-08-01T06:00:07.064690',\n",
       "    'author': '',\n",
       "    'author_email': '',\n",
       "    'state': 'active',\n",
       "    'version': '',\n",
       "    'creator_user_id': '9db43e5b-14de-45e1-978b-b32a70efe4d6',\n",
       "    'type': 'dataset',\n",
       "    'resources': [{'cache_last_updated': None,\n",
       "      'package_id': 'c6eb172c-bf35-4259-abe5-037daff76bfa',\n",
       "      'datastore_contains_all_records_of_source_file': 'True',\n",
       "      'datastore_active': True,\n",
       "      'id': '90609734-7c50-49f4-b84c-4392f408ce65',\n",
       "      'size': 1688,\n",
       "      'original_url': 'https://datos.gob.cl/dataset/c6eb172c-bf35-4259-abe5-037daff76bfa/resource/90609734-7c50-49f4-b84c-4392f408ce65/download/diccionariodedatosabiertosinversiones.csv',\n",
       "      'resource_id': '90609734-7c50-49f4-b84c-4392f408ce65',\n",
       "      'set_url_type': 'False',\n",
       "      'state': 'active',\n",
       "      'ignore_hash': 'False',\n",
       "      'hash': '',\n",
       "      'description': 'Diccionario de Datos Abiertos de Ejecución Presupuestaria de Iniciativas de Inversión.',\n",
       "      'format': 'CSV',\n",
       "      'mimetype_inner': None,\n",
       "      'url_type': 'upload',\n",
       "      'mimetype': 'text/csv',\n",
       "      'cache_url': None,\n",
       "      'name': 'Diccionario de Datos',\n",
       "      'created': '2024-03-05T13:05:11.380612',\n",
       "      'url': 'https://datos.gob.cl/dataset/c6eb172c-bf35-4259-abe5-037daff76bfa/resource/90609734-7c50-49f4-b84c-4392f408ce65/download/diccionariodedatosabiertosinversiones.csv',\n",
       "      'ckan_url': 'https://datos.gob.cl',\n",
       "      'task_created': '2024-08-01 06:00:07.751589',\n",
       "      'last_modified': '2024-03-05T13:05:11.292814',\n",
       "      'position': 0,\n",
       "      'revision_id': 'c4348dd7-375b-44a9-b6af-e0c6fd140508',\n",
       "      'resource_type': None},\n",
       "     {'mimetype': 'text/csv',\n",
       "      'cache_url': None,\n",
       "      'hash': '',\n",
       "      'description': 'Datos de Iniciativas de Inversión acumulado al mes de Enero 2024.',\n",
       "      'name': 'Inversiones a Enero 2024 en pesos',\n",
       "      'created': '2024-03-05T13:10:30.381700',\n",
       "      'url': 'https://datos.gob.cl/dataset/c6eb172c-bf35-4259-abe5-037daff76bfa/resource/2569d4fa-eade-4a03-b769-db9be79b7694/download/inversionesnivelpresupuestonacional-nacionalaenero2024.csv',\n",
       "      'datastore_active': True,\n",
       "      'format': 'CSV',\n",
       "      'package_id': 'c6eb172c-bf35-4259-abe5-037daff76bfa',\n",
       "      'id': '2569d4fa-eade-4a03-b769-db9be79b7694',\n",
       "      'cache_last_updated': None,\n",
       "      'state': 'active',\n",
       "      'mimetype_inner': None,\n",
       "      'last_modified': '2024-03-05T13:10:29.666471',\n",
       "      'position': 1,\n",
       "      'revision_id': '22aa91ff-72ed-41ff-96a2-ddcc8a1eef84',\n",
       "      'url_type': 'upload',\n",
       "      'datastore_contains_all_records_of_source_file': 'False',\n",
       "      'resource_type': None,\n",
       "      'size': 132991},\n",
       "     {'mimetype': 'text/csv',\n",
       "      'cache_url': None,\n",
       "      'hash': '',\n",
       "      'description': 'Datos de Iniciativas de Inversión acumulado al mes de Febrero 2024.\\r\\n',\n",
       "      'name': 'Inversiones a Febrero 2024 en pesos',\n",
       "      'created': '2024-03-28T23:51:03.698095',\n",
       "      'url': 'https://datos.gob.cl/dataset/c6eb172c-bf35-4259-abe5-037daff76bfa/resource/7b62c87c-bef9-4784-8c79-6a421b780762/download/inversionesnivelpresupuestonacional-nacionalafebrero2024.csv',\n",
       "      'datastore_active': False,\n",
       "      'format': 'CSV',\n",
       "      'package_id': 'c6eb172c-bf35-4259-abe5-037daff76bfa',\n",
       "      'id': '7b62c87c-bef9-4784-8c79-6a421b780762',\n",
       "      'cache_last_updated': None,\n",
       "      'state': 'active',\n",
       "      'mimetype_inner': None,\n",
       "      'last_modified': '2024-03-28T23:51:03.589212',\n",
       "      'position': 2,\n",
       "      'revision_id': '60e870eb-4d9b-4cd6-8853-23e2c19ccb0b',\n",
       "      'url_type': 'upload',\n",
       "      'datastore_contains_all_records_of_source_file': 'False',\n",
       "      'resource_type': None,\n",
       "      'size': 826664},\n",
       "     {'cache_last_updated': None,\n",
       "      'package_id': 'c6eb172c-bf35-4259-abe5-037daff76bfa',\n",
       "      'datastore_contains_all_records_of_source_file': 'True',\n",
       "      'datastore_active': True,\n",
       "      'id': 'cd3ff364-af74-4613-b1f2-c556c877ea43',\n",
       "      'size': 651,\n",
       "      'original_url': 'https://datos.gob.cl/dataset/c6eb172c-bf35-4259-abe5-037daff76bfa/resource/cd3ff364-af74-4613-b1f2-c556c877ea43/download/inversionesnivelpresupuestonacional-nacionalafebrero2024.csv',\n",
       "      'resource_id': 'cd3ff364-af74-4613-b1f2-c556c877ea43',\n",
       "      'set_url_type': 'False',\n",
       "      'state': 'active',\n",
       "      'ignore_hash': 'False',\n",
       "      'hash': '',\n",
       "      'description': 'Datos de Iniciativas de Inversión acumulado al mes de Febrero 2024.\\r\\n',\n",
       "      'format': 'CSV',\n",
       "      'mimetype_inner': None,\n",
       "      'url_type': 'upload',\n",
       "      'mimetype': 'text/csv',\n",
       "      'cache_url': None,\n",
       "      'name': 'Inversiones a Febrero 2024 en dólares',\n",
       "      'created': '2024-03-28T23:51:54.175026',\n",
       "      'url': 'https://datos.gob.cl/dataset/c6eb172c-bf35-4259-abe5-037daff76bfa/resource/cd3ff364-af74-4613-b1f2-c556c877ea43/download/inversionesnivelpresupuestonacional-nacionalafebrero2024.csv',\n",
       "      'ckan_url': 'https://datos.gob.cl',\n",
       "      'task_created': '2024-08-01 06:00:10.859492',\n",
       "      'last_modified': '2024-03-28T23:51:54.038659',\n",
       "      'position': 3,\n",
       "      'revision_id': 'c4348dd7-375b-44a9-b6af-e0c6fd140508',\n",
       "      'resource_type': None},\n",
       "     {'cache_last_updated': None,\n",
       "      'package_id': 'c6eb172c-bf35-4259-abe5-037daff76bfa',\n",
       "      'datastore_contains_all_records_of_source_file': 'True',\n",
       "      'datastore_active': False,\n",
       "      'id': '13364d7e-2a0c-42f7-a06a-c839277716d9',\n",
       "      'size': 1416071,\n",
       "      'original_url': 'https://datos.gob.cl/dataset/c6eb172c-bf35-4259-abe5-037daff76bfa/resource/13364d7e-2a0c-42f7-a06a-c839277716d9/download/inversionesnivelpresupuestonacional-nacionalamarzo2024.csv',\n",
       "      'resource_id': '13364d7e-2a0c-42f7-a06a-c839277716d9',\n",
       "      'set_url_type': 'False',\n",
       "      'state': 'active',\n",
       "      'ignore_hash': 'False',\n",
       "      'hash': '',\n",
       "      'description': 'Datos de Iniciativas de Inversión acumulado al mes de Marzo 2024.\\r\\n',\n",
       "      'format': 'CSV',\n",
       "      'mimetype_inner': None,\n",
       "      'url_type': 'upload',\n",
       "      'mimetype': 'text/csv',\n",
       "      'cache_url': None,\n",
       "      'name': 'Inversiones a Marzo 2024 en pesos',\n",
       "      'created': '2024-05-01T01:26:34.339602',\n",
       "      'url': 'https://datos.gob.cl/dataset/c6eb172c-bf35-4259-abe5-037daff76bfa/resource/13364d7e-2a0c-42f7-a06a-c839277716d9/download/inversionesnivelpresupuestonacional-nacionalamarzo2024.csv',\n",
       "      'ckan_url': 'https://datos.gob.cl',\n",
       "      'task_created': '2024-05-01 01:29:03.996820',\n",
       "      'last_modified': '2024-05-01T01:28:28.163167',\n",
       "      'position': 4,\n",
       "      'revision_id': '164e1e68-4eb2-4924-966e-8d2acd0f5dd7',\n",
       "      'resource_type': None},\n",
       "     {'mimetype': 'text/csv',\n",
       "      'cache_url': None,\n",
       "      'hash': '',\n",
       "      'description': 'Datos de Iniciativas de Inversión acumulado al mes de Marzo 2024.\\r\\n',\n",
       "      'name': 'Inversiones a Marzo 2024 en dólares',\n",
       "      'created': '2024-05-01T01:27:21.945487',\n",
       "      'url': 'https://datos.gob.cl/dataset/c6eb172c-bf35-4259-abe5-037daff76bfa/resource/6d671370-a92e-4d54-adcf-659e5c632f26/download/inversionesnivelpresupuestonacional-nacionalamarzo2024.csv',\n",
       "      'datastore_active': False,\n",
       "      'format': 'CSV',\n",
       "      'package_id': 'c6eb172c-bf35-4259-abe5-037daff76bfa',\n",
       "      'id': '6d671370-a92e-4d54-adcf-659e5c632f26',\n",
       "      'cache_last_updated': None,\n",
       "      'state': 'active',\n",
       "      'mimetype_inner': None,\n",
       "      'last_modified': '2024-05-01T01:29:03.124065',\n",
       "      'position': 5,\n",
       "      'revision_id': '164e1e68-4eb2-4924-966e-8d2acd0f5dd7',\n",
       "      'url_type': 'upload',\n",
       "      'datastore_contains_all_records_of_source_file': 'False',\n",
       "      'resource_type': None,\n",
       "      'size': 723},\n",
       "     {'cache_last_updated': None,\n",
       "      'package_id': 'c6eb172c-bf35-4259-abe5-037daff76bfa',\n",
       "      'datastore_contains_all_records_of_source_file': 'True',\n",
       "      'datastore_active': True,\n",
       "      'id': '0890898f-bfca-4bbd-be53-0e073ad2bf51',\n",
       "      'size': 1535454,\n",
       "      'original_url': 'https://datos.gob.cl/dataset/c6eb172c-bf35-4259-abe5-037daff76bfa/resource/0890898f-bfca-4bbd-be53-0e073ad2bf51/download/inversionesnivelpresupuestonacional-nacionalaabril2024.csv',\n",
       "      'resource_id': '0890898f-bfca-4bbd-be53-0e073ad2bf51',\n",
       "      'set_url_type': 'False',\n",
       "      'state': 'active',\n",
       "      'ignore_hash': 'False',\n",
       "      'hash': '',\n",
       "      'description': 'Datos de Iniciativas de Inversión acumulado al mes de Abril 2024.',\n",
       "      'format': 'CSV',\n",
       "      'mimetype_inner': None,\n",
       "      'url_type': 'upload',\n",
       "      'mimetype': 'text/csv',\n",
       "      'cache_url': None,\n",
       "      'name': 'Inversiones a Abril 2024 en pesos',\n",
       "      'created': '2024-06-01T18:10:57.398220',\n",
       "      'url': 'https://datos.gob.cl/dataset/c6eb172c-bf35-4259-abe5-037daff76bfa/resource/0890898f-bfca-4bbd-be53-0e073ad2bf51/download/inversionesnivelpresupuestonacional-nacionalaabril2024.csv',\n",
       "      'ckan_url': 'https://datos.gob.cl',\n",
       "      'task_created': '2024-08-01 05:59:46.377192',\n",
       "      'last_modified': '2024-06-01T18:10:57.292258',\n",
       "      'position': 6,\n",
       "      'revision_id': 'c4348dd7-375b-44a9-b6af-e0c6fd140508',\n",
       "      'resource_type': None},\n",
       "     {'cache_last_updated': None,\n",
       "      'package_id': 'c6eb172c-bf35-4259-abe5-037daff76bfa',\n",
       "      'datastore_contains_all_records_of_source_file': 'True',\n",
       "      'datastore_active': True,\n",
       "      'id': 'fb187fef-9f12-48d4-b76f-7812f30cf9b7',\n",
       "      'size': 647,\n",
       "      'original_url': 'https://datos.gob.cl/dataset/c6eb172c-bf35-4259-abe5-037daff76bfa/resource/fb187fef-9f12-48d4-b76f-7812f30cf9b7/download/inversionesnivelpresupuestonacional-nacionalaabril2024.csv',\n",
       "      'resource_id': 'fb187fef-9f12-48d4-b76f-7812f30cf9b7',\n",
       "      'set_url_type': 'False',\n",
       "      'state': 'active',\n",
       "      'ignore_hash': 'False',\n",
       "      'hash': '',\n",
       "      'description': 'Datos de Iniciativas de Inversión acumulado al mes de Abril 2024.',\n",
       "      'format': 'CSV',\n",
       "      'mimetype_inner': None,\n",
       "      'url_type': 'upload',\n",
       "      'mimetype': 'text/csv',\n",
       "      'cache_url': None,\n",
       "      'name': 'Inversiones a Abril 2024 en dólares',\n",
       "      'created': '2024-06-01T18:11:39.526948',\n",
       "      'url': 'https://datos.gob.cl/dataset/c6eb172c-bf35-4259-abe5-037daff76bfa/resource/fb187fef-9f12-48d4-b76f-7812f30cf9b7/download/inversionesnivelpresupuestonacional-nacionalaabril2024.csv',\n",
       "      'ckan_url': 'https://datos.gob.cl',\n",
       "      'task_created': '2024-08-01 06:00:08.358186',\n",
       "      'last_modified': '2024-06-01T18:11:37.711363',\n",
       "      'position': 7,\n",
       "      'revision_id': 'c4348dd7-375b-44a9-b6af-e0c6fd140508',\n",
       "      'resource_type': None},\n",
       "     {'cache_last_updated': None,\n",
       "      'package_id': 'c6eb172c-bf35-4259-abe5-037daff76bfa',\n",
       "      'datastore_contains_all_records_of_source_file': 'True',\n",
       "      'datastore_active': True,\n",
       "      'id': '54606da2-734c-4864-88df-423bbbd2eab9',\n",
       "      'size': 1604902,\n",
       "      'original_url': 'https://datos.gob.cl/dataset/c6eb172c-bf35-4259-abe5-037daff76bfa/resource/54606da2-734c-4864-88df-423bbbd2eab9/download/inversionesnivelpresupuestonacional-nacionalamayo2024.csv',\n",
       "      'resource_id': '54606da2-734c-4864-88df-423bbbd2eab9',\n",
       "      'set_url_type': 'False',\n",
       "      'state': 'active',\n",
       "      'ignore_hash': 'False',\n",
       "      'hash': '',\n",
       "      'description': 'Datos de Iniciativas de Inversión acumulado al mes de Mayo 2024.\\r\\n',\n",
       "      'format': 'CSV',\n",
       "      'mimetype_inner': None,\n",
       "      'url_type': 'upload',\n",
       "      'mimetype': 'text/csv',\n",
       "      'cache_url': None,\n",
       "      'name': 'Inversiones a Mayo 2024 en pesos',\n",
       "      'created': '2024-06-28T23:29:52.007972',\n",
       "      'url': 'https://datos.gob.cl/dataset/c6eb172c-bf35-4259-abe5-037daff76bfa/resource/54606da2-734c-4864-88df-423bbbd2eab9/download/inversionesnivelpresupuestonacional-nacionalamayo2024.csv',\n",
       "      'ckan_url': 'https://datos.gob.cl',\n",
       "      'task_created': '2024-08-01 05:59:45.606051',\n",
       "      'last_modified': '2024-06-28T23:29:51.890677',\n",
       "      'position': 8,\n",
       "      'revision_id': 'c4348dd7-375b-44a9-b6af-e0c6fd140508',\n",
       "      'resource_type': None},\n",
       "     {'mimetype': 'text/csv',\n",
       "      'cache_url': None,\n",
       "      'hash': '',\n",
       "      'description': 'Datos de Iniciativas de Inversión acumulado al mes de Mayo 2024.\\r\\n',\n",
       "      'name': 'Inversiones a Mayo 2024 en dólares',\n",
       "      'created': '2024-06-28T23:31:21.394396',\n",
       "      'url': 'https://datos.gob.cl/dataset/c6eb172c-bf35-4259-abe5-037daff76bfa/resource/66104678-1fdf-46d6-b1e5-bddf311eea46/download/inversionesnivelpresupuestonacional-nacionalamayo2024.csv',\n",
       "      'datastore_active': True,\n",
       "      'format': 'CSV',\n",
       "      'package_id': 'c6eb172c-bf35-4259-abe5-037daff76bfa',\n",
       "      'id': '66104678-1fdf-46d6-b1e5-bddf311eea46',\n",
       "      'cache_last_updated': None,\n",
       "      'state': 'active',\n",
       "      'mimetype_inner': None,\n",
       "      'last_modified': '2024-06-28T23:31:21.254108',\n",
       "      'position': 9,\n",
       "      'revision_id': 'c4348dd7-375b-44a9-b6af-e0c6fd140508',\n",
       "      'url_type': 'upload',\n",
       "      'datastore_contains_all_records_of_source_file': 'False',\n",
       "      'resource_type': None,\n",
       "      'size': 647},\n",
       "     {'cache_last_updated': None,\n",
       "      'package_id': 'c6eb172c-bf35-4259-abe5-037daff76bfa',\n",
       "      'datastore_contains_all_records_of_source_file': 'True',\n",
       "      'datastore_active': True,\n",
       "      'id': 'a1416e34-8ce8-4e5c-aaf1-7d8876896427',\n",
       "      'size': 1687752,\n",
       "      'original_url': 'https://datos.gob.cl/dataset/c6eb172c-bf35-4259-abe5-037daff76bfa/resource/a1416e34-8ce8-4e5c-aaf1-7d8876896427/download/inversionesnivelpresupuestonacional-nacionalajunio2024.csv',\n",
       "      'resource_id': 'a1416e34-8ce8-4e5c-aaf1-7d8876896427',\n",
       "      'set_url_type': 'False',\n",
       "      'state': 'active',\n",
       "      'ignore_hash': 'False',\n",
       "      'hash': '',\n",
       "      'description': 'Datos de Iniciativas de Inversión acumulado al mes de Junio 2024.\\r\\n',\n",
       "      'format': 'CSV',\n",
       "      'mimetype_inner': None,\n",
       "      'url_type': 'upload',\n",
       "      'mimetype': 'text/csv',\n",
       "      'cache_url': None,\n",
       "      'name': 'Inversiones a Junio 2024 en pesos',\n",
       "      'created': '2024-08-01T05:55:20.928820',\n",
       "      'url': 'https://datos.gob.cl/dataset/c6eb172c-bf35-4259-abe5-037daff76bfa/resource/a1416e34-8ce8-4e5c-aaf1-7d8876896427/download/inversionesnivelpresupuestonacional-nacionalajunio2024.csv',\n",
       "      'ckan_url': 'https://datos.gob.cl',\n",
       "      'task_created': '2024-08-01 06:00:10.025615',\n",
       "      'last_modified': '2024-08-01T05:55:20.798135',\n",
       "      'position': 10,\n",
       "      'revision_id': 'c4348dd7-375b-44a9-b6af-e0c6fd140508',\n",
       "      'resource_type': None},\n",
       "     {'mimetype': 'text/csv',\n",
       "      'cache_url': None,\n",
       "      'hash': '',\n",
       "      'description': 'Datos de Iniciativas de Inversión acumulado al mes de Junio 2024.\\r\\n',\n",
       "      'name': 'Inversiones a Junio 2024 en dólares',\n",
       "      'created': '2024-08-01T05:56:18.175837',\n",
       "      'url': 'https://datos.gob.cl/dataset/c6eb172c-bf35-4259-abe5-037daff76bfa/resource/4d6dfcaa-52f3-4171-9c8c-c7fe229628c5/download/inversionesnivelpresupuestonacional-nacionalajunio2024.csv',\n",
       "      'datastore_active': True,\n",
       "      'format': 'CSV',\n",
       "      'package_id': 'c6eb172c-bf35-4259-abe5-037daff76bfa',\n",
       "      'id': '4d6dfcaa-52f3-4171-9c8c-c7fe229628c5',\n",
       "      'cache_last_updated': None,\n",
       "      'state': 'active',\n",
       "      'mimetype_inner': None,\n",
       "      'last_modified': '2024-08-01T05:56:17.962204',\n",
       "      'position': 11,\n",
       "      'revision_id': 'c4348dd7-375b-44a9-b6af-e0c6fd140508',\n",
       "      'url_type': 'upload',\n",
       "      'datastore_contains_all_records_of_source_file': 'False',\n",
       "      'resource_type': None,\n",
       "      'size': 651}],\n",
       "    'num_resources': 12,\n",
       "    'tags': [{'vocabulary_id': None,\n",
       "      'state': 'active',\n",
       "      'display_name': '2024',\n",
       "      'id': '2ad0c77c-4452-4753-af62-3b16c439c497',\n",
       "      'name': '2024'},\n",
       "     {'vocabulary_id': None,\n",
       "      'state': 'active',\n",
       "      'display_name': 'dipres',\n",
       "      'id': '82601ca8-8150-4876-b29c-dd0541416e84',\n",
       "      'name': 'dipres'},\n",
       "     {'vocabulary_id': None,\n",
       "      'state': 'active',\n",
       "      'display_name': 'iniciativas',\n",
       "      'id': '8bd7a773-da18-434d-b075-a816c8a2a3c8',\n",
       "      'name': 'iniciativas'},\n",
       "     {'vocabulary_id': None,\n",
       "      'state': 'active',\n",
       "      'display_name': 'inversión',\n",
       "      'id': '88d8145b-f621-4976-9363-13d016f64e76',\n",
       "      'name': 'inversión'}],\n",
       "    'groups': [{'display_name': 'Concurso Transparenta',\n",
       "      'description': '',\n",
       "      'image_display_url': 'https://datos.gob.cl/uploads/group/2024-07-25-133444.872398image-12.png',\n",
       "      'title': 'Concurso Transparenta',\n",
       "      'id': 'b47267f5-72f2-45c8-a7c0-9af7388cec4f',\n",
       "      'name': 'concurso-transparenta'}],\n",
       "    'license_id': 'cc-by',\n",
       "    'relationships_as_subject': [],\n",
       "    'organization': {'description': 'Nuestra misión es velar por la eficiente asignación y uso de los recursos públicos en el marco de la política fiscal, mediante la aplicación de sistemas e instrumentos de gestión financiera, programación y control de gestión.\\r\\n\\r\\nLo anterior implica formular la Ley de Presupuestos del Sector Público, realizar modificaciones al presupuesto vigente por medio de decretos, elaborar los programas de caja mensuales y registrar el gasto mensual, efectivo y devengado por Institución.',\n",
       "     'created': '2015-10-30T12:32:11.375408',\n",
       "     'title': 'Dirección de Presupuestos',\n",
       "     'name': 'direccion_de_presupuestos',\n",
       "     'is_organization': True,\n",
       "     'state': 'active',\n",
       "     'image_url': '2016-08-17-173200.395907channels-19logopresupuesto.png',\n",
       "     'revision_id': '24a40516-acb1-47c3-a93f-5f4184fde314',\n",
       "     'type': 'organization',\n",
       "     'id': 'AE002',\n",
       "     'approval_status': 'approved'},\n",
       "    'name': 'ejecucion-presupuestaria-de-iniciativas-de-inversion-acumulado-2024',\n",
       "    'isopen': True,\n",
       "    'url': 'Sistema de Información de Administración Presupuestaria del Sector Público',\n",
       "    'notes': 'Información de Ejecución Presupuestaria de Iniciativas de Inversión Acumulado del Sector Gobierno Central desagregado por Partida, Capitulo, Programa y Localización Geográfica de destino, considerando monto acumulado de Identificado y Devengado, separados en pesos y dólares. ',\n",
       "    'owner_org': 'AE002',\n",
       "    'extras': [],\n",
       "    'license_url': 'http://www.opendefinition.org/licenses/cc-by',\n",
       "    'title': 'Ejecución Presupuestaria de Iniciativas de Inversión Acumulado 2024',\n",
       "    'revision_id': '22aa91ff-72ed-41ff-96a2-ddcc8a1eef84'},\n",
       "   {'license_title': 'Creative Commons Attribution',\n",
       "    'maintainer': 'Administración Web',\n",
       "    'relationships_as_object': [],\n",
       "    'private': False,\n",
       "    'maintainer_email': 'adminweb@dipres.gob.cl',\n",
       "    'num_tags': 5,\n",
       "    'id': '911ab68a-1885-4ae0-b851-0f82f159abf4',\n",
       "    'metadata_created': '2024-06-27T15:54:54.133908',\n",
       "    'metadata_modified': '2024-08-01T05:01:03.621140',\n",
       "    'author': '',\n",
       "    'author_email': '',\n",
       "    'state': 'active',\n",
       "    'version': '',\n",
       "    'creator_user_id': '6e973659-927e-49ad-9b3b-484f8a84fc3d',\n",
       "    'type': 'dataset',\n",
       "    'resources': [{'cache_last_updated': None,\n",
       "      'package_id': '911ab68a-1885-4ae0-b851-0f82f159abf4',\n",
       "      'datastore_contains_all_records_of_source_file': 'True',\n",
       "      'datastore_active': True,\n",
       "      'id': 'a71a0976-ec12-4419-8a5c-5b44f7b40241',\n",
       "      'size': 2748,\n",
       "      'original_url': 'https://datos.gob.cl/dataset/911ab68a-1885-4ae0-b851-0f82f159abf4/resource/a71a0976-ec12-4419-8a5c-5b44f7b40241/download/ejecucion-presupuestaria_nivel-nacional_a-mayo-2024.csv',\n",
       "      'resource_id': 'a71a0976-ec12-4419-8a5c-5b44f7b40241',\n",
       "      'set_url_type': 'False',\n",
       "      'state': 'active',\n",
       "      'ignore_hash': 'False',\n",
       "      'hash': '',\n",
       "      'description': 'Información de Ejecución Presupuestaria a Mayo de 2024 del Gobierno Central a nivel Nacional. \\r\\n',\n",
       "      'format': 'CSV',\n",
       "      'mimetype_inner': None,\n",
       "      'url_type': 'upload',\n",
       "      'mimetype': 'text/csv',\n",
       "      'cache_url': None,\n",
       "      'name': 'A nivel Nacional',\n",
       "      'created': '2024-06-27T15:55:20.680297',\n",
       "      'url': 'https://datos.gob.cl/dataset/911ab68a-1885-4ae0-b851-0f82f159abf4/resource/a71a0976-ec12-4419-8a5c-5b44f7b40241/download/ejecucion-presupuestaria_nivel-nacional_a-mayo-2024.csv',\n",
       "      'ckan_url': 'https://datos.gob.cl',\n",
       "      'task_created': '2024-08-01 05:00:30.937604',\n",
       "      'last_modified': '2024-08-01T04:52:52.709064',\n",
       "      'position': 0,\n",
       "      'revision_id': '8bd72a88-95fa-442c-bf63-dc19f036abde',\n",
       "      'resource_type': None},\n",
       "     {'cache_last_updated': None,\n",
       "      'package_id': '911ab68a-1885-4ae0-b851-0f82f159abf4',\n",
       "      'datastore_contains_all_records_of_source_file': 'True',\n",
       "      'datastore_active': True,\n",
       "      'id': 'c2bd4f4e-4b1f-4ae3-b6d6-0e9b432335d1',\n",
       "      'size': 47887,\n",
       "      'original_url': 'https://datos.gob.cl/dataset/911ab68a-1885-4ae0-b851-0f82f159abf4/resource/c2bd4f4e-4b1f-4ae3-b6d6-0e9b432335d1/download/ejecucion-presupuestaria_nivel-partida_a-mayo-2024.csv',\n",
       "      'resource_id': 'c2bd4f4e-4b1f-4ae3-b6d6-0e9b432335d1',\n",
       "      'set_url_type': 'False',\n",
       "      'state': 'active',\n",
       "      'ignore_hash': 'False',\n",
       "      'hash': '',\n",
       "      'description': 'Información de Ejecución Presupuestaria a Mayo de 2024 del Gobierno Central a nivel Partida. \\r\\n',\n",
       "      'format': 'CSV',\n",
       "      'mimetype_inner': None,\n",
       "      'url_type': 'upload',\n",
       "      'mimetype': 'text/csv',\n",
       "      'cache_url': None,\n",
       "      'name': 'A nivel Partida',\n",
       "      'created': '2024-06-27T15:55:43.751000',\n",
       "      'url': 'https://datos.gob.cl/dataset/911ab68a-1885-4ae0-b851-0f82f159abf4/resource/c2bd4f4e-4b1f-4ae3-b6d6-0e9b432335d1/download/ejecucion-presupuestaria_nivel-partida_a-mayo-2024.csv',\n",
       "      'ckan_url': 'https://datos.gob.cl',\n",
       "      'task_created': '2024-08-01 05:01:05.821859',\n",
       "      'last_modified': '2024-08-01T04:54:30.513783',\n",
       "      'position': 1,\n",
       "      'revision_id': '8bd72a88-95fa-442c-bf63-dc19f036abde',\n",
       "      'resource_type': None},\n",
       "     {'cache_last_updated': None,\n",
       "      'package_id': '911ab68a-1885-4ae0-b851-0f82f159abf4',\n",
       "      'datastore_contains_all_records_of_source_file': 'True',\n",
       "      'datastore_active': True,\n",
       "      'id': '80b2045a-3961-483e-9027-4512e05cf27e',\n",
       "      'size': 335305,\n",
       "      'original_url': 'https://datos.gob.cl/dataset/911ab68a-1885-4ae0-b851-0f82f159abf4/resource/80b2045a-3961-483e-9027-4512e05cf27e/download/ejecucion-presupuestaria_nivel-capitulo_a-mayo-2024.csv',\n",
       "      'resource_id': '80b2045a-3961-483e-9027-4512e05cf27e',\n",
       "      'set_url_type': 'False',\n",
       "      'state': 'active',\n",
       "      'ignore_hash': 'False',\n",
       "      'hash': '',\n",
       "      'description': 'Información de Ejecución Presupuestaria a Mayo de 2024 del Gobierno Central a nivel Capítulo. \\r\\n',\n",
       "      'format': 'CSV',\n",
       "      'mimetype_inner': None,\n",
       "      'url_type': 'upload',\n",
       "      'mimetype': 'text/csv',\n",
       "      'cache_url': None,\n",
       "      'name': 'A nivel Capítulo',\n",
       "      'created': '2024-06-27T15:57:38.460041',\n",
       "      'url': 'https://datos.gob.cl/dataset/911ab68a-1885-4ae0-b851-0f82f159abf4/resource/80b2045a-3961-483e-9027-4512e05cf27e/download/ejecucion-presupuestaria_nivel-capitulo_a-mayo-2024.csv',\n",
       "      'ckan_url': 'https://datos.gob.cl',\n",
       "      'task_created': '2024-08-01 05:00:31.934763',\n",
       "      'last_modified': '2024-08-01T04:58:20.830777',\n",
       "      'position': 2,\n",
       "      'revision_id': '8bd72a88-95fa-442c-bf63-dc19f036abde',\n",
       "      'resource_type': None},\n",
       "     {'cache_last_updated': None,\n",
       "      'package_id': '911ab68a-1885-4ae0-b851-0f82f159abf4',\n",
       "      'datastore_contains_all_records_of_source_file': 'True',\n",
       "      'datastore_active': True,\n",
       "      'id': 'dfddc80e-7054-4cf1-adef-57ad433584db',\n",
       "      'size': 7992987,\n",
       "      'original_url': 'https://datos.gob.cl/dataset/911ab68a-1885-4ae0-b851-0f82f159abf4/resource/dfddc80e-7054-4cf1-adef-57ad433584db/download/ejecucion-presupuestaria_nivel-programa_a-mayo-2024.csv',\n",
       "      'resource_id': 'dfddc80e-7054-4cf1-adef-57ad433584db',\n",
       "      'set_url_type': 'False',\n",
       "      'state': 'active',\n",
       "      'ignore_hash': 'False',\n",
       "      'hash': '',\n",
       "      'description': 'Información de Ejecución Presupuestaria a Mayo de 2024 del Gobierno Central a nivel Programa. \\r\\n',\n",
       "      'format': 'CSV',\n",
       "      'mimetype_inner': None,\n",
       "      'url_type': 'upload',\n",
       "      'mimetype': 'text/csv',\n",
       "      'cache_url': None,\n",
       "      'name': 'A nivel Programa',\n",
       "      'created': '2024-06-27T15:58:21.921565',\n",
       "      'url': 'https://datos.gob.cl/dataset/911ab68a-1885-4ae0-b851-0f82f159abf4/resource/dfddc80e-7054-4cf1-adef-57ad433584db/download/ejecucion-presupuestaria_nivel-programa_a-mayo-2024.csv',\n",
       "      'ckan_url': 'https://datos.gob.cl',\n",
       "      'task_created': '2024-08-01 05:01:05.102111',\n",
       "      'last_modified': '2024-08-01T05:01:03.585414',\n",
       "      'position': 3,\n",
       "      'revision_id': '8bd72a88-95fa-442c-bf63-dc19f036abde',\n",
       "      'resource_type': None},\n",
       "     {'cache_last_updated': None,\n",
       "      'package_id': '911ab68a-1885-4ae0-b851-0f82f159abf4',\n",
       "      'datastore_contains_all_records_of_source_file': 'True',\n",
       "      'datastore_active': True,\n",
       "      'id': '0c93acf3-383f-4162-b821-3212c899fcf4',\n",
       "      'size': 1646,\n",
       "      'original_url': 'https://datos.gob.cl/dataset/911ab68a-1885-4ae0-b851-0f82f159abf4/resource/0c93acf3-383f-4162-b821-3212c899fcf4/download/diccionario-de-datos-abiertosejecucionpresupuestaria.csv',\n",
       "      'resource_id': '0c93acf3-383f-4162-b821-3212c899fcf4',\n",
       "      'set_url_type': 'False',\n",
       "      'state': 'active',\n",
       "      'ignore_hash': 'False',\n",
       "      'hash': '',\n",
       "      'description': 'Diccionario de Datos Abiertos de Ejecución Presupuestaria. ',\n",
       "      'format': 'CSV',\n",
       "      'mimetype_inner': None,\n",
       "      'url_type': 'upload',\n",
       "      'mimetype': 'text/csv',\n",
       "      'cache_url': None,\n",
       "      'name': 'Diccionario de Datos',\n",
       "      'created': '2024-06-27T15:58:45.757151',\n",
       "      'url': 'https://datos.gob.cl/dataset/911ab68a-1885-4ae0-b851-0f82f159abf4/resource/0c93acf3-383f-4162-b821-3212c899fcf4/download/diccionario-de-datos-abiertosejecucionpresupuestaria.csv',\n",
       "      'ckan_url': 'https://datos.gob.cl',\n",
       "      'task_created': '2024-06-27 15:59:02.357939',\n",
       "      'last_modified': '2024-06-27T15:58:45.615284',\n",
       "      'position': 4,\n",
       "      'revision_id': '8bd72a88-95fa-442c-bf63-dc19f036abde',\n",
       "      'resource_type': None}],\n",
       "    'num_resources': 5,\n",
       "    'tags': [{'vocabulary_id': None,\n",
       "      'state': 'active',\n",
       "      'display_name': '2024',\n",
       "      'id': '2ad0c77c-4452-4753-af62-3b16c439c497',\n",
       "      'name': '2024'},\n",
       "     {'vocabulary_id': None,\n",
       "      'state': 'active',\n",
       "      'display_name': 'dipres',\n",
       "      'id': '82601ca8-8150-4876-b29c-dd0541416e84',\n",
       "      'name': 'dipres'},\n",
       "     {'vocabulary_id': None,\n",
       "      'state': 'active',\n",
       "      'display_name': 'ejecución',\n",
       "      'id': '994cef83-9ad4-4cb8-b127-edd148df5451',\n",
       "      'name': 'ejecución'},\n",
       "     {'vocabulary_id': None,\n",
       "      'state': 'active',\n",
       "      'display_name': 'mayo',\n",
       "      'id': '42e68c45-78d5-4101-bab5-cda74f842445',\n",
       "      'name': 'mayo'},\n",
       "     {'vocabulary_id': None,\n",
       "      'state': 'active',\n",
       "      'display_name': 'presupuestaria',\n",
       "      'id': '3e98d863-f97f-4271-9888-4f18937d7e15',\n",
       "      'name': 'presupuestaria'}],\n",
       "    'groups': [{'display_name': 'Concurso Transparenta',\n",
       "      'description': '',\n",
       "      'image_display_url': 'https://datos.gob.cl/uploads/group/2024-07-25-133444.872398image-12.png',\n",
       "      'title': 'Concurso Transparenta',\n",
       "      'id': 'b47267f5-72f2-45c8-a7c0-9af7388cec4f',\n",
       "      'name': 'concurso-transparenta'}],\n",
       "    'license_id': 'cc-by',\n",
       "    'relationships_as_subject': [],\n",
       "    'organization': {'description': 'Nuestra misión es velar por la eficiente asignación y uso de los recursos públicos en el marco de la política fiscal, mediante la aplicación de sistemas e instrumentos de gestión financiera, programación y control de gestión.\\r\\n\\r\\nLo anterior implica formular la Ley de Presupuestos del Sector Público, realizar modificaciones al presupuesto vigente por medio de decretos, elaborar los programas de caja mensuales y registrar el gasto mensual, efectivo y devengado por Institución.',\n",
       "     'title': 'Dirección de Presupuestos',\n",
       "     'created': '2015-10-30T12:32:11.375408',\n",
       "     'approval_status': 'approved',\n",
       "     'is_organization': True,\n",
       "     'state': 'active',\n",
       "     'image_url': '2016-08-17-173200.395907channels-19logopresupuesto.png',\n",
       "     'revision_id': '24a40516-acb1-47c3-a93f-5f4184fde314',\n",
       "     'type': 'organization',\n",
       "     'id': 'AE002',\n",
       "     'name': 'direccion_de_presupuestos'},\n",
       "    'name': 'ejecucion-presupuestaria-a-mayo-de-2024-del-gobierno-central',\n",
       "    'isopen': True,\n",
       "    'url': 'Sistema de Información de Administración Presupuestaria del Sector Público',\n",
       "    'notes': 'Información de Ejecución Presupuestaria a Mayo de 2024 del Gobierno Central, presentada en reportes a nivel Nacional, Partida, Capítulo y Programa con datos originados en el Sistema de Información de Administración Presupuestaria del Sector Público (SIAP).\\r\\n',\n",
       "    'owner_org': 'AE002',\n",
       "    'extras': [],\n",
       "    'license_url': 'http://www.opendefinition.org/licenses/cc-by',\n",
       "    'title': 'Ejecución Presupuestaria a Mayo de 2024 del Gobierno Central',\n",
       "    'revision_id': 'c0392237-aa32-429c-9dde-85536e1b789c'},\n",
       "   {'license_title': 'Creative Commons Non-Commercial (Cualquiera)',\n",
       "    'maintainer': 'Diego Riffo',\n",
       "    'relationships_as_object': [],\n",
       "    'private': False,\n",
       "    'maintainer_email': 'deis@minsal.cl',\n",
       "    'num_tags': 4,\n",
       "    'id': '606ef5bb-11d1-475b-b69f-b980da5757f4',\n",
       "    'metadata_created': '2024-02-28T12:35:22.202201',\n",
       "    'metadata_modified': '2024-07-31T04:02:24.852476',\n",
       "    'author': 'Patricio Aguilera',\n",
       "    'author_email': 'deis@minsal.cl',\n",
       "    'state': 'active',\n",
       "    'version': '1.0',\n",
       "    'creator_user_id': '70e93d5b-afb4-4aba-9c3c-730e2a741f79',\n",
       "    'type': 'dataset',\n",
       "    'resources': [{'mimetype': None,\n",
       "      'cache_url': None,\n",
       "      'hash': '',\n",
       "      'description': '__Parquet__ es un formato de Almacenamiento de Datos orientado a Columna libre, gratuito y Open-Source desarrollado por Apache para el ecosistema Hadoop.\\r\\nProporciona esquemas eficientes de compresión y codificación de datos con rendimiento mejorado para manejar datos complejos de forma masiva.\\r\\n(Información obtenida desde https://en.wikipedia.org/wiki/Apache_Parquet).',\n",
       "      'name': 'At_Urg_Respiratorio_Semanal.parquet',\n",
       "      'created': '2024-02-28T12:45:19.053162',\n",
       "      'url': 'https://datos.gob.cl/dataset/606ef5bb-11d1-475b-b69f-b980da5757f4/resource/ae6c9887-106d-4e98-8875-40bf2b836041/download/at_urg_respiratorio_semanal.parquet',\n",
       "      'datastore_active': False,\n",
       "      'format': 'Parquet',\n",
       "      'package_id': '606ef5bb-11d1-475b-b69f-b980da5757f4',\n",
       "      'id': 'ae6c9887-106d-4e98-8875-40bf2b836041',\n",
       "      'cache_last_updated': None,\n",
       "      'state': 'active',\n",
       "      'mimetype_inner': None,\n",
       "      'last_modified': '2024-07-31T04:02:24.820125',\n",
       "      'position': 0,\n",
       "      'revision_id': '0c2652c2-8dfd-465b-8384-fe3065cee72f',\n",
       "      'url_type': 'upload',\n",
       "      'datastore_contains_all_records_of_source_file': 'False',\n",
       "      'resource_type': None,\n",
       "      'size': 52420654},\n",
       "     {'cache_last_updated': None,\n",
       "      'package_id': '606ef5bb-11d1-475b-b69f-b980da5757f4',\n",
       "      'datastore_contains_all_records_of_source_file': 'True',\n",
       "      'datastore_active': False,\n",
       "      'id': '27fbe340-0e74-465f-b9f9-488c3bf6533c',\n",
       "      'size': 33292,\n",
       "      'original_url': 'https://datos.gob.cl/dataset/606ef5bb-11d1-475b-b69f-b980da5757f4/resource/27fbe340-0e74-465f-b9f9-488c3bf6533c/download/diccionario-de-datos-urgenciasrespiratoriasporsemana.xlsx',\n",
       "      'resource_id': '27fbe340-0e74-465f-b9f9-488c3bf6533c',\n",
       "      'set_url_type': 'False',\n",
       "      'state': 'active',\n",
       "      'ignore_hash': 'False',\n",
       "      'hash': '',\n",
       "      'description': 'Este diccionario las especificaciones de los campos considerados en el conjunto de datos',\n",
       "      'format': 'XLS',\n",
       "      'mimetype_inner': None,\n",
       "      'url_type': 'upload',\n",
       "      'mimetype': 'application/vnd.openxmlformats-officedocument.spreadsheetml.sheet',\n",
       "      'cache_url': None,\n",
       "      'name': 'Diccionario de datos  - Atenciones de urgencias respiratorias semanal',\n",
       "      'created': '2024-03-04T18:43:16.614104',\n",
       "      'url': 'https://datos.gob.cl/dataset/606ef5bb-11d1-475b-b69f-b980da5757f4/resource/27fbe340-0e74-465f-b9f9-488c3bf6533c/download/diccionario-de-datos-urgenciasrespiratoriasporsemana.xlsx',\n",
       "      'ckan_url': 'https://datos.gob.cl',\n",
       "      'task_created': '2024-03-06 03:02:31.025789',\n",
       "      'last_modified': '2024-03-04T18:43:16.520004',\n",
       "      'position': 1,\n",
       "      'revision_id': 'c32d7a81-a1eb-4d22-afb7-a52b28bb9a9b',\n",
       "      'resource_type': None}],\n",
       "    'num_resources': 2,\n",
       "    'tags': [{'vocabulary_id': None,\n",
       "      'state': 'active',\n",
       "      'display_name': 'Atenciones de Urgencia',\n",
       "      'id': '7c15ba2d-69c2-4e24-9419-82232440ae60',\n",
       "      'name': 'Atenciones de Urgencia'},\n",
       "     {'vocabulary_id': None,\n",
       "      'state': 'active',\n",
       "      'display_name': 'DEIS',\n",
       "      'id': 'e080251e-b9e4-4fee-9aab-717650dcc5c0',\n",
       "      'name': 'DEIS'},\n",
       "     {'vocabulary_id': None,\n",
       "      'state': 'active',\n",
       "      'display_name': 'Salud',\n",
       "      'id': '960a36fa-ddba-44f2-82bc-578e29cbe107',\n",
       "      'name': 'Salud'},\n",
       "     {'vocabulary_id': None,\n",
       "      'state': 'active',\n",
       "      'display_name': 'Urgencias',\n",
       "      'id': '5f98022b-2c82-4f21-95de-69ed1557daf2',\n",
       "      'name': 'Urgencias'}],\n",
       "    'groups': [{'display_name': 'Concurso Transparenta',\n",
       "      'description': '',\n",
       "      'image_display_url': 'https://datos.gob.cl/uploads/group/2024-07-25-133444.872398image-12.png',\n",
       "      'title': 'Concurso Transparenta',\n",
       "      'id': 'b47267f5-72f2-45c8-a7c0-9af7388cec4f',\n",
       "      'name': 'concurso-transparenta'}],\n",
       "    'license_id': 'cc-nc',\n",
       "    'relationships_as_subject': [],\n",
       "    'organization': {'description': 'La misión de este ministerio es construir un modelo de salud sobre la base de una atención primaria fortalecida e integrada, que pone al paciente en el centro, con énfasis en el cuidado de poblaciones durante todo el ciclo de vida, y que además estimule la promoción y prevención en salud, así como el seguimiento, trazabilidad y cobertura\\xa0financiera.',\n",
       "     'created': '2015-11-02T20:22:51.276506',\n",
       "     'title': 'Ministerio de Salud',\n",
       "     'name': 'ministerio_de_salud',\n",
       "     'is_organization': True,\n",
       "     'state': 'active',\n",
       "     'image_url': 'https://upload.wikimedia.org/wikipedia/commons/thumb/f/f2/MINSAL.png/265px-MINSAL.png',\n",
       "     'revision_id': '3af2334e-4724-4757-b252-2dfc852b3bc5',\n",
       "     'type': 'organization',\n",
       "     'id': 'AO',\n",
       "     'approval_status': 'approved'},\n",
       "    'name': 'atenciones-de-urgencia-causas-respiratorias',\n",
       "    'isopen': False,\n",
       "    'url': '',\n",
       "    'notes': 'Este conjunto de datos contiene los totales de consultas y hospitalizaciones por causa respiratoria provenientes del *Sistema de Atención Diaria de Urgencias* (SADU) por establecimiento de salud, semana epidemiológica y grupo de edad.\\r\\n\\r\\nSe consideran las siguientes causas:\\r\\n\\r\\n* IRA alta (J00-J06)\\r\\n* Influenza (J09-J11)\\r\\n* Neumonía (J12-J18)\\r\\n* Bronquitis/Bronquiolitis aguda (J20-J21)\\r\\n* Crisis obstructiva bronquial (J40-J46)\\r\\n* Otra causa respiratoria (J22, J30-J39, J47, J60-J98)\\r\\n* COVID-19, virus no identificado (U07.2)\\r\\n* COVID-19, virus identificado (U07.1)\\r\\n\\r\\nPara la confección de este conjunto de datos se consideran los registros del año 2014 hasta la última semana epidemiológica del año en curso. Los datos pertenecen a consultas médicas de establecimientos públicos de Salud.\\r\\n\\r\\nConsiderando las limitantes de la plataforma de publicación y la cantidad de registros que contiene este conjunto de  datos, se utiliza el formato Parquet  para la publicación. Apache Parquet es un formato de almacenamiento en columnas que proporciona optimizaciones para acelerar las consultas, es un formato de código abierto (open source) que ofrece alternativas de almacenamiento, codificación, compresión y lenguajes de programación.',\n",
       "    'owner_org': 'AO',\n",
       "    'extras': [{'key': 'Periodicidad de actualización', 'value': 'Semanal'}],\n",
       "    'license_url': 'http://creativecommons.org/licenses/by-nc/2.0/',\n",
       "    'title': 'Atenciones de urgencias de causas respiratorias por semana epidemiológica',\n",
       "    'revision_id': '5cf1529b-5e60-432f-8905-2a330401fc5e'},\n",
       "   {'license_title': 'Creative Commons Non-Commercial (Cualquiera)',\n",
       "    'maintainer': 'Patricio Aguilera',\n",
       "    'relationships_as_object': [],\n",
       "    'private': False,\n",
       "    'maintainer_email': 'deis@minsal.cl',\n",
       "    'num_tags': 3,\n",
       "    'id': '3bf4cf7c-f638-4735-9a01-f65faae4beca',\n",
       "    'metadata_created': '2024-01-12T12:48:16.830589',\n",
       "    'metadata_modified': '2024-07-31T03:00:13.962134',\n",
       "    'author': 'Patricio Aguilera',\n",
       "    'author_email': 'deis@minsal.cl',\n",
       "    'state': 'active',\n",
       "    'version': '1.0',\n",
       "    'creator_user_id': '96efd616-c71a-4fb7-ae5d-abd10e69a0c6',\n",
       "    'type': 'dataset',\n",
       "    'resources': [{'cache_last_updated': None,\n",
       "      'package_id': '3bf4cf7c-f638-4735-9a01-f65faae4beca',\n",
       "      'datastore_contains_all_records_of_source_file': 'True',\n",
       "      'datastore_active': True,\n",
       "      'id': '2c44d782-3365-44e3-aefb-2c8b8363a1bc',\n",
       "      'size': 2056325,\n",
       "      'original_url': 'https://datos.gob.cl/dataset/3bf4cf7c-f638-4735-9a01-f65faae4beca/resource/2c44d782-3365-44e3-aefb-2c8b8363a1bc/download/establecimientos_20240730.csv',\n",
       "      'resource_id': '2c44d782-3365-44e3-aefb-2c8b8363a1bc',\n",
       "      'set_url_type': 'False',\n",
       "      'state': 'active',\n",
       "      'ignore_hash': 'False',\n",
       "      'hash': '',\n",
       "      'description': 'Archivo que contiene los datos',\n",
       "      'format': 'CSV',\n",
       "      'mimetype_inner': None,\n",
       "      'url_type': 'upload',\n",
       "      'mimetype': 'text/csv',\n",
       "      'cache_url': None,\n",
       "      'name': 'EstablecimientosSaludVigentes.csv',\n",
       "      'created': '2024-01-12T14:59:55.932320',\n",
       "      'url': 'https://datos.gob.cl/dataset/3bf4cf7c-f638-4735-9a01-f65faae4beca/resource/2c44d782-3365-44e3-aefb-2c8b8363a1bc/download/establecimientos_20240730.csv',\n",
       "      'ckan_url': 'https://datos.gob.cl',\n",
       "      'task_created': '2024-07-31 03:00:14.574008',\n",
       "      'last_modified': '2024-07-31T03:00:13.881636',\n",
       "      'position': 0,\n",
       "      'revision_id': 'df3c870d-a8d9-4ac5-9318-15423d54648f',\n",
       "      'resource_type': None},\n",
       "     {'mimetype': 'application/vnd.openxmlformats-officedocument.spreadsheetml.sheet',\n",
       "      'cache_url': None,\n",
       "      'hash': '',\n",
       "      'description': 'Archivo que contiene la descripción de campos y tipos de datos.',\n",
       "      'name': 'Diccionario de datos - EstabSaludVigentes.xlsx',\n",
       "      'created': '2024-01-12T12:49:51.233659',\n",
       "      'url': 'https://datos.gob.cl/dataset/3bf4cf7c-f638-4735-9a01-f65faae4beca/resource/7127fc99-b858-4e74-8971-51413e484fb1/download/diccionario_base_establecimientos.xlsx',\n",
       "      'datastore_active': False,\n",
       "      'format': 'XLS',\n",
       "      'package_id': '3bf4cf7c-f638-4735-9a01-f65faae4beca',\n",
       "      'id': '7127fc99-b858-4e74-8971-51413e484fb1',\n",
       "      'cache_last_updated': None,\n",
       "      'state': 'active',\n",
       "      'mimetype_inner': None,\n",
       "      'last_modified': '2024-02-19T18:28:17.942844',\n",
       "      'position': 1,\n",
       "      'revision_id': 'c470cd9a-5cb8-4197-ac16-1bdbf9bd806c',\n",
       "      'url_type': 'upload',\n",
       "      'datastore_contains_all_records_of_source_file': 'False',\n",
       "      'resource_type': None,\n",
       "      'size': 35746}],\n",
       "    'num_resources': 2,\n",
       "    'tags': [{'vocabulary_id': None,\n",
       "      'state': 'active',\n",
       "      'display_name': 'DEIS',\n",
       "      'id': 'e080251e-b9e4-4fee-9aab-717650dcc5c0',\n",
       "      'name': 'DEIS'},\n",
       "     {'vocabulary_id': None,\n",
       "      'state': 'active',\n",
       "      'display_name': 'Establecimientos de salud',\n",
       "      'id': '12cd7e96-ba07-4d9b-9a5e-be8ef748dd4a',\n",
       "      'name': 'Establecimientos de salud'},\n",
       "     {'vocabulary_id': None,\n",
       "      'state': 'active',\n",
       "      'display_name': 'Salud',\n",
       "      'id': '960a36fa-ddba-44f2-82bc-578e29cbe107',\n",
       "      'name': 'Salud'}],\n",
       "    'groups': [{'display_name': 'Concurso Transparenta',\n",
       "      'description': '',\n",
       "      'image_display_url': 'https://datos.gob.cl/uploads/group/2024-07-25-133444.872398image-12.png',\n",
       "      'title': 'Concurso Transparenta',\n",
       "      'id': 'b47267f5-72f2-45c8-a7c0-9af7388cec4f',\n",
       "      'name': 'concurso-transparenta'}],\n",
       "    'license_id': 'cc-nc',\n",
       "    'relationships_as_subject': [],\n",
       "    'organization': {'description': 'La misión de este ministerio es construir un modelo de salud sobre la base de una atención primaria fortalecida e integrada, que pone al paciente en el centro, con énfasis en el cuidado de poblaciones durante todo el ciclo de vida, y que además estimule la promoción y prevención en salud, así como el seguimiento, trazabilidad y cobertura\\xa0financiera.',\n",
       "     'title': 'Ministerio de Salud',\n",
       "     'created': '2015-11-02T20:22:51.276506',\n",
       "     'approval_status': 'approved',\n",
       "     'is_organization': True,\n",
       "     'state': 'active',\n",
       "     'image_url': 'https://upload.wikimedia.org/wikipedia/commons/thumb/f/f2/MINSAL.png/265px-MINSAL.png',\n",
       "     'revision_id': '3af2334e-4724-4757-b252-2dfc852b3bc5',\n",
       "     'type': 'organization',\n",
       "     'id': 'AO',\n",
       "     'name': 'ministerio_de_salud'},\n",
       "    'name': 'establecimientos-de-salud-vigentes',\n",
       "    'isopen': False,\n",
       "    'url': '',\n",
       "    'notes': 'Este conjunto de datos contiene todos los establecimientos de Salud vigentes.\\r\\n\\r\\nUn establecimiento de Salud corresponde a una estructura organizada pública o privada, que posee un lugar, recursos humanos, financieros y materiales, para proporcionar todas o algunas de las acciones de promoción, protección, recuperación de la salud y rehabilitación a personas, familias o comunidades, ya sean en forma presencial o remota.  Son autorizados sanitariamente por las SEREMIs y acreditados en cuanto a calidad por la Superintendencia de Salud, y en ambos casos se requieren las respectivas personas jurídicas responsables de esos establecimientos (Prestador de Salud Institucional)\\r\\n\\r\\n**Se informa que estamos trabajando en la automatización de la actualización de este conjunto de datos, por lo tanto, fechas de publicación y formatos podrían tener alguna variación.**',\n",
       "    'owner_org': 'AO',\n",
       "    'extras': [{'key': 'Periodicidad de actualización', 'value': 'Semanal'}],\n",
       "    'license_url': 'http://creativecommons.org/licenses/by-nc/2.0/',\n",
       "    'title': 'Establecimientos de Salud vigentes',\n",
       "    'revision_id': '6d18652a-d22d-4432-ab7d-e6b241f5ae5e'},\n",
       "   {'license_title': 'Creative Commons CCZero',\n",
       "    'maintainer': '',\n",
       "    'relationships_as_object': [],\n",
       "    'private': False,\n",
       "    'maintainer_email': '',\n",
       "    'num_tags': 5,\n",
       "    'id': '3ad5cc98-1029-40d7-9c3c-7e751e71dad1',\n",
       "    'metadata_created': '2024-07-24T20:14:44.304000',\n",
       "    'metadata_modified': '2024-07-30T21:46:33.932299',\n",
       "    'author': 'Jorge Rodríguez',\n",
       "    'author_email': 'jrodriguez@injuv.gob.cl',\n",
       "    'state': 'active',\n",
       "    'version': '',\n",
       "    'creator_user_id': '3c43ce4c-8bbb-48a7-be87-163cd4d3b3c7',\n",
       "    'type': 'dataset',\n",
       "    'resources': [{'mimetype': 'application/vnd.openxmlformats-officedocument.spreadsheetml.sheet',\n",
       "      'cache_url': None,\n",
       "      'hash': '',\n",
       "      'description': '',\n",
       "      'name': 'Décima Encuesta Nacional de Juventudes 2022',\n",
       "      'created': '2024-07-24T20:33:58.973593',\n",
       "      'url': 'https://datos.gob.cl/dataset/3ad5cc98-1029-40d7-9c3c-7e751e71dad1/resource/5509562d-b17b-4fd9-be99-23d2ec40a328/download/bbdd-respuesta-encuesta-jovenes.xlsx',\n",
       "      'datastore_active': True,\n",
       "      'format': 'XLSX',\n",
       "      'package_id': '3ad5cc98-1029-40d7-9c3c-7e751e71dad1',\n",
       "      'id': '5509562d-b17b-4fd9-be99-23d2ec40a328',\n",
       "      'cache_last_updated': None,\n",
       "      'state': 'active',\n",
       "      'mimetype_inner': None,\n",
       "      'last_modified': '2024-07-24T20:33:58.869811',\n",
       "      'position': 0,\n",
       "      'revision_id': 'bde01a27-6d32-4e5c-95a5-91dbce6321f9',\n",
       "      'url_type': 'upload',\n",
       "      'datastore_contains_all_records_of_source_file': 'False',\n",
       "      'resource_type': None,\n",
       "      'size': 18127717}],\n",
       "    'num_resources': 1,\n",
       "    'tags': [{'vocabulary_id': None,\n",
       "      'state': 'active',\n",
       "      'display_name': 'ENJ',\n",
       "      'id': 'a596cc99-fb10-4819-b2e9-441aab9ed15a',\n",
       "      'name': 'ENJ'},\n",
       "     {'vocabulary_id': None,\n",
       "      'state': 'active',\n",
       "      'display_name': 'ENJUV',\n",
       "      'id': '962c4c15-81b0-4d6e-a76e-b1f916fc033b',\n",
       "      'name': 'ENJUV'},\n",
       "     {'vocabulary_id': None,\n",
       "      'state': 'active',\n",
       "      'display_name': 'INJUV',\n",
       "      'id': '748cc35a-3c40-4a0a-b617-c0c292017426',\n",
       "      'name': 'INJUV'},\n",
       "     {'vocabulary_id': None,\n",
       "      'state': 'active',\n",
       "      'display_name': 'Juventudes',\n",
       "      'id': '80e4b987-5e42-45e5-a947-f4246da71ce9',\n",
       "      'name': 'Juventudes'},\n",
       "     {'vocabulary_id': None,\n",
       "      'state': 'active',\n",
       "      'display_name': 'juventud',\n",
       "      'id': 'ef515162-9ac5-4960-bf16-d08ce7bb7ab2',\n",
       "      'name': 'juventud'}],\n",
       "    'groups': [{'display_name': 'Concurso Transparenta',\n",
       "      'description': '',\n",
       "      'image_display_url': 'https://datos.gob.cl/uploads/group/2024-07-25-133444.872398image-12.png',\n",
       "      'title': 'Concurso Transparenta',\n",
       "      'id': 'b47267f5-72f2-45c8-a7c0-9af7388cec4f',\n",
       "      'name': 'concurso-transparenta'}],\n",
       "    'license_id': 'cc-zero',\n",
       "    'relationships_as_subject': [],\n",
       "    'organization': {'description': '',\n",
       "     'created': '2015-10-30T12:32:22.939412',\n",
       "     'title': 'Instituto Nacional de la Juventud',\n",
       "     'name': 'instituto_nacional_de_la_juventud',\n",
       "     'is_organization': True,\n",
       "     'state': 'active',\n",
       "     'image_url': '',\n",
       "     'revision_id': '353a4b26-91ff-49c1-8923-90bb11fc149a',\n",
       "     'type': 'organization',\n",
       "     'id': 'AI005',\n",
       "     'approval_status': 'approved'},\n",
       "    'name': 'decima-encuesta-nacional-de-la-juventud',\n",
       "    'isopen': True,\n",
       "    'url': 'https://www.injuv.gob.cl/encuestanacionaldejuventud',\n",
       "    'notes': 'Conjunto de datos de la 10ma Encuesta Nacional de Juventud.',\n",
       "    'owner_org': 'AI005',\n",
       "    'extras': [],\n",
       "    'license_url': 'http://www.opendefinition.org/licenses/cc-zero',\n",
       "    'title': 'Décima Encuesta Nacional de la Juventud',\n",
       "    'revision_id': '50268337-1788-4d2a-b5af-c1b38371c278'},\n",
       "   {'license_title': 'Creative Commons CCZero',\n",
       "    'maintainer': '',\n",
       "    'relationships_as_object': [],\n",
       "    'private': False,\n",
       "    'maintainer_email': '',\n",
       "    'num_tags': 5,\n",
       "    'id': '6427113a-706a-488e-91ef-0830604639bf',\n",
       "    'metadata_created': '2024-07-24T21:50:46.633140',\n",
       "    'metadata_modified': '2024-07-30T21:45:23.267649',\n",
       "    'author': 'Jorge Rodríguez',\n",
       "    'author_email': 'jerodri1991@gmail.com',\n",
       "    'state': 'active',\n",
       "    'version': '',\n",
       "    'creator_user_id': '3c43ce4c-8bbb-48a7-be87-163cd4d3b3c7',\n",
       "    'type': 'dataset',\n",
       "    'resources': [{'mimetype': 'text/csv',\n",
       "      'cache_url': None,\n",
       "      'hash': '',\n",
       "      'description': '',\n",
       "      'name': 'BBDD Respuesta - Encuesta Jóvenes.csv',\n",
       "      'created': '2024-07-24T21:51:31.421842',\n",
       "      'url': 'https://datos.gob.cl/dataset/6427113a-706a-488e-91ef-0830604639bf/resource/b8579d7a-b001-4cde-87ce-d5bebe1f4dc4/download/bbdd-respuesta-encuesta-jovenes.csv',\n",
       "      'datastore_active': True,\n",
       "      'format': 'CSV',\n",
       "      'package_id': '6427113a-706a-488e-91ef-0830604639bf',\n",
       "      'id': 'b8579d7a-b001-4cde-87ce-d5bebe1f4dc4',\n",
       "      'cache_last_updated': None,\n",
       "      'state': 'active',\n",
       "      'mimetype_inner': None,\n",
       "      'last_modified': '2024-07-24T21:51:31.293814',\n",
       "      'position': 0,\n",
       "      'revision_id': '69abb3ba-f189-4512-8fbd-02355599b1fa',\n",
       "      'url_type': 'upload',\n",
       "      'datastore_contains_all_records_of_source_file': 'False',\n",
       "      'resource_type': None,\n",
       "      'size': 44163393}],\n",
       "    'num_resources': 1,\n",
       "    'tags': [{'vocabulary_id': None,\n",
       "      'state': 'active',\n",
       "      'display_name': 'ENJ',\n",
       "      'id': 'a596cc99-fb10-4819-b2e9-441aab9ed15a',\n",
       "      'name': 'ENJ'},\n",
       "     {'vocabulary_id': None,\n",
       "      'state': 'active',\n",
       "      'display_name': 'ENJUV',\n",
       "      'id': '962c4c15-81b0-4d6e-a76e-b1f916fc033b',\n",
       "      'name': 'ENJUV'},\n",
       "     {'vocabulary_id': None,\n",
       "      'state': 'active',\n",
       "      'display_name': 'INJUV',\n",
       "      'id': '748cc35a-3c40-4a0a-b617-c0c292017426',\n",
       "      'name': 'INJUV'},\n",
       "     {'vocabulary_id': None,\n",
       "      'state': 'active',\n",
       "      'display_name': 'Juventudes',\n",
       "      'id': '80e4b987-5e42-45e5-a947-f4246da71ce9',\n",
       "      'name': 'Juventudes'},\n",
       "     {'vocabulary_id': None,\n",
       "      'state': 'active',\n",
       "      'display_name': 'Jóvenes',\n",
       "      'id': '35837ed9-3650-4c0e-8610-6f27d78a0844',\n",
       "      'name': 'Jóvenes'}],\n",
       "    'groups': [{'display_name': 'Concurso Transparenta',\n",
       "      'description': '',\n",
       "      'image_display_url': 'https://datos.gob.cl/uploads/group/2024-07-25-133444.872398image-12.png',\n",
       "      'title': 'Concurso Transparenta',\n",
       "      'id': 'b47267f5-72f2-45c8-a7c0-9af7388cec4f',\n",
       "      'name': 'concurso-transparenta'}],\n",
       "    'license_id': 'cc-zero',\n",
       "    'relationships_as_subject': [],\n",
       "    'organization': {'description': '',\n",
       "     'created': '2015-10-30T12:32:22.939412',\n",
       "     'title': 'Instituto Nacional de la Juventud',\n",
       "     'name': 'instituto_nacional_de_la_juventud',\n",
       "     'is_organization': True,\n",
       "     'state': 'active',\n",
       "     'image_url': '',\n",
       "     'revision_id': '353a4b26-91ff-49c1-8923-90bb11fc149a',\n",
       "     'type': 'organization',\n",
       "     'id': 'AI005',\n",
       "     'approval_status': 'approved'},\n",
       "    'name': '10ma-encuesta-nacional-de-juventud',\n",
       "    'isopen': True,\n",
       "    'url': 'https://www.injuv.gob.cl/encuestanacionaldejuventud',\n",
       "    'notes': 'Conjunto de datos de la Décima Encuesta Nacional de Juventud',\n",
       "    'owner_org': 'AI005',\n",
       "    'extras': [],\n",
       "    'license_url': 'http://www.opendefinition.org/licenses/cc-zero',\n",
       "    'title': '10ma Encuesta Nacional de Juventud',\n",
       "    'revision_id': 'a9c311ea-52c9-4a31-bcd9-36b8b7bec4ba'},\n",
       "   {'license_title': None,\n",
       "    'maintainer': None,\n",
       "    'relationships_as_object': [],\n",
       "    'private': False,\n",
       "    'maintainer_email': None,\n",
       "    'num_tags': 0,\n",
       "    'id': '1b06b522-729f-4ec5-b7c9-79fcfef109e6',\n",
       "    'metadata_created': '2024-07-25T13:16:03.129313',\n",
       "    'metadata_modified': '2024-07-25T13:16:03.129321',\n",
       "    'author': None,\n",
       "    'author_email': None,\n",
       "    'state': 'active',\n",
       "    'version': None,\n",
       "    'creator_user_id': '34225751-3928-49ca-bd9b-6edf83f3ffd6',\n",
       "    'type': 'dataset',\n",
       "    'resources': [{'cache_last_updated': None,\n",
       "      'package_id': '1b06b522-729f-4ec5-b7c9-79fcfef109e6',\n",
       "      'datastore_contains_all_records_of_source_file': 'True',\n",
       "      'datastore_active': True,\n",
       "      'id': '43ec674c-9c54-4383-acdb-78f3bbd5563f',\n",
       "      'size': None,\n",
       "      'original_url': 'https://datosretc.mma.gob.cl/dataset/e74bf5ef-b8a9-48ed-bceb-f86dc9879c92/resource/fcac0b10-0b4d-4ae2-bc1c-cb42af80b8f7/download/df-sinader-2022-ckan.csv',\n",
       "      'resource_id': '43ec674c-9c54-4383-acdb-78f3bbd5563f',\n",
       "      'set_url_type': 'False',\n",
       "      'state': 'active',\n",
       "      'ignore_hash': 'False',\n",
       "      'hash': '',\n",
       "      'description': 'Destinatarios de residuos no peligrosos para el año 2022.\\n\\nTras revisar nuestras bases de datos, no contamos con información detallada sobre la trazabilidad para las declaraciones de entrada de destinatario final/IRAR. No obstante, dado que este tipo de campo proviene principalmente de declaraciones de generadores industriales y municipales es posible acceder a esta información usando esos conjuntos de datos publicados también en esta plataforma. Estamos comprometidos en mejorar la accesibilidad y calidad de nuestros datos para proporcionar información más completa por lo que nos encontramos trabajando en estas mejoras.\\n\\n*Versión 1*\\nFecha última carga: 15/12/2023\\n• Actualización realizada con apoyo del Programa de Desarrollo Sostenible 2023 y supervisado por analista del Departamento de Información Ambiental del Ministerio del Medio Ambiente.\\n\\n*Versión 2*\\nFecha última carga: 27/03/2024\\n• Actualización realizada por el equipo de análisis de datos en donde se corrigen columnas relacionadas con el LER y los niveles de tratamiento.\\n\\n*Versión 3*\\nFecha última carga: 20/05/2024\\n• Se corrigen separadores decimales, dejando las comas como separador decimal en los campos latitud, longitud y cantidad_toneladas.',\n",
       "      'format': 'CSV',\n",
       "      'mimetype_inner': None,\n",
       "      'url_type': None,\n",
       "      'mimetype': None,\n",
       "      'cache_url': None,\n",
       "      'name': '2022: Destinatarios de residuos no peligrosos',\n",
       "      'created': '2024-07-25T13:16:03.173108',\n",
       "      'url': 'https://datosretc.mma.gob.cl/dataset/e74bf5ef-b8a9-48ed-bceb-f86dc9879c92/resource/fcac0b10-0b4d-4ae2-bc1c-cb42af80b8f7/download/df-sinader-2022-ckan.csv',\n",
       "      'ckan_url': 'https://datos.gob.cl',\n",
       "      'task_created': '2024-07-25 13:16:03.472996',\n",
       "      'last_modified': None,\n",
       "      'position': 0,\n",
       "      'revision_id': '2d2a0e03-a4f0-4f29-9db2-f91370a4f4d2',\n",
       "      'resource_type': None}],\n",
       "    'num_resources': 1,\n",
       "    'tags': [],\n",
       "    'groups': [{'display_name': 'Concurso Transparenta',\n",
       "      'description': '',\n",
       "      'image_display_url': 'https://datos.gob.cl/uploads/group/2024-07-25-133444.872398image-12.png',\n",
       "      'title': 'Concurso Transparenta',\n",
       "      'id': 'b47267f5-72f2-45c8-a7c0-9af7388cec4f',\n",
       "      'name': 'concurso-transparenta'}],\n",
       "    'license_id': None,\n",
       "    'relationships_as_subject': [],\n",
       "    'organization': {'description': '',\n",
       "     'created': '2015-10-30T12:33:39.197797',\n",
       "     'title': 'Subsecretaría del Medio Ambiente',\n",
       "     'name': 'subsecretaria_del_medio_ambiente',\n",
       "     'is_organization': True,\n",
       "     'state': 'active',\n",
       "     'image_url': '',\n",
       "     'revision_id': '61e678b6-d764-49b0-bf2c-2f2d87daecf9',\n",
       "     'type': 'organization',\n",
       "     'id': 'AW002',\n",
       "     'approval_status': 'approved'},\n",
       "    'name': 'destinatarios-finales-de-residuos-no-peligrosos-2022',\n",
       "    'isopen': False,\n",
       "    'url': None,\n",
       "    'notes': 'Repositorio de información respecto a cantidades recepcionadas por destinatarios de residuos no peligrosos para el año 2022.',\n",
       "    'owner_org': 'AW002',\n",
       "    'extras': [],\n",
       "    'title': 'Destinatarios finales de residuos no peligrosos 2022',\n",
       "    'revision_id': '2d2a0e03-a4f0-4f29-9db2-f91370a4f4d2'},\n",
       "   {'license_title': 'Creative Commons Attribution',\n",
       "    'maintainer': 'No informado',\n",
       "    'relationships_as_object': [],\n",
       "    'private': False,\n",
       "    'maintainer_email': 'Noinformado@noinformado.com',\n",
       "    'num_tags': 0,\n",
       "    'id': '9b4c978a-c658-4602-bd6f-f8e550a3402c',\n",
       "    'metadata_created': '2015-11-13T18:21:12.555751',\n",
       "    'metadata_modified': '2024-07-24T04:05:02.653678',\n",
       "    'author': '',\n",
       "    'author_email': '',\n",
       "    'state': 'active',\n",
       "    'version': '',\n",
       "    'creator_user_id': '5755bd3a-6ef2-4e82-a1a1-b10ca41c0f7d',\n",
       "    'type': 'dataset',\n",
       "    'resources': [{'mimetype': None,\n",
       "      'cache_url': None,\n",
       "      'hash': '',\n",
       "      'description': 'https://midas.minsal.cl/farmacia_v2/WS/getLocales.php',\n",
       "      'name': 'Listado farmacias del país',\n",
       "      'created': '2023-01-09T13:28:32.923949',\n",
       "      'url': 'https://midas.minsal.cl/farmacia_v2/WS/getLocales.php',\n",
       "      'datastore_active': False,\n",
       "      'format': 'JSON',\n",
       "      'package_id': '9b4c978a-c658-4602-bd6f-f8e550a3402c',\n",
       "      'id': '08a0e491-e682-4acc-b5db-f6adb25c0a97',\n",
       "      'cache_last_updated': None,\n",
       "      'state': 'active',\n",
       "      'mimetype_inner': None,\n",
       "      'last_modified': None,\n",
       "      'position': 0,\n",
       "      'revision_id': 'c7911d6f-be09-4438-ba45-96bebbc07b6c',\n",
       "      'url_type': None,\n",
       "      'datastore_contains_all_records_of_source_file': 'False',\n",
       "      'resource_type': None,\n",
       "      'size': None},\n",
       "     {'mimetype': None,\n",
       "      'cache_url': None,\n",
       "      'hash': '',\n",
       "      'description': 'https://midas.minsal.cl/farmacia_v2/WS/getLocalesTurnos.php',\n",
       "      'name': 'Farmacias de turno',\n",
       "      'created': '2023-01-27T14:40:20.424990',\n",
       "      'url': 'https://midas.minsal.cl/farmacia_v2/WS/getLocalesTurnos.php',\n",
       "      'datastore_active': False,\n",
       "      'format': 'JSON',\n",
       "      'package_id': '9b4c978a-c658-4602-bd6f-f8e550a3402c',\n",
       "      'id': 'df03f68f-ea2e-4430-adad-3e34cab332b7',\n",
       "      'cache_last_updated': None,\n",
       "      'state': 'active',\n",
       "      'mimetype_inner': None,\n",
       "      'last_modified': None,\n",
       "      'position': 1,\n",
       "      'revision_id': 'f7201e49-64dd-421f-8984-a197a3cf1f6a',\n",
       "      'url_type': None,\n",
       "      'datastore_contains_all_records_of_source_file': 'False',\n",
       "      'resource_type': None,\n",
       "      'size': None}],\n",
       "    'num_resources': 2,\n",
       "    'tags': [],\n",
       "    'groups': [{'display_name': 'Concurso Transparenta',\n",
       "      'description': '',\n",
       "      'image_display_url': 'https://datos.gob.cl/uploads/group/2024-07-24-153420.618809Transparenta.jpg',\n",
       "      'title': 'Concurso Transparenta',\n",
       "      'id': 'b47267f5-72f2-45c8-a7c0-9af7388cec4f',\n",
       "      'name': 'concurso-transparenta'}],\n",
       "    'license_id': 'cc-by',\n",
       "    'relationships_as_subject': [],\n",
       "    'organization': {'description': 'La misión de este ministerio es construir un modelo de salud sobre la base de una atención primaria fortalecida e integrada, que pone al paciente en el centro, con énfasis en el cuidado de poblaciones durante todo el ciclo de vida, y que además estimule la promoción y prevención en salud, así como el seguimiento, trazabilidad y cobertura\\xa0financiera.',\n",
       "     'created': '2015-11-02T20:22:51.276506',\n",
       "     'title': 'Ministerio de Salud',\n",
       "     'name': 'ministerio_de_salud',\n",
       "     'is_organization': True,\n",
       "     'state': 'active',\n",
       "     'image_url': 'https://upload.wikimedia.org/wikipedia/commons/thumb/f/f2/MINSAL.png/265px-MINSAL.png',\n",
       "     'revision_id': '3af2334e-4724-4757-b252-2dfc852b3bc5',\n",
       "     'type': 'organization',\n",
       "     'id': 'AO',\n",
       "     'approval_status': 'approved'},\n",
       "    'name': 'farmacias-en-chile',\n",
       "    'isopen': True,\n",
       "    'url': 'http://midas.minsal.cl/',\n",
       "    'notes': 'Listados de farmacias a través del territorio nacional obtenido de Farmanet (MINSAL) - Actualizado diariamente.',\n",
       "    'owner_org': 'AO',\n",
       "    'extras': [],\n",
       "    'license_url': 'http://www.opendefinition.org/licenses/cc-by',\n",
       "    'title': 'Farmacias en Chile',\n",
       "    'revision_id': '5b1da8a3-f60d-4fa4-953a-ad314fd5f94e'},\n",
       "   {'license_title': 'Creative Commons Attribution',\n",
       "    'maintainer': 'Departamento de Gestión Institucional',\n",
       "    'relationships_as_object': [],\n",
       "    'private': False,\n",
       "    'maintainer_email': 'uee@supereduc.cl',\n",
       "    'num_tags': 7,\n",
       "    'id': '46910a22-0a89-427f-b565-2a71ee5aa314',\n",
       "    'metadata_created': '2024-07-01T15:59:44.751558',\n",
       "    'metadata_modified': '2024-07-01T17:13:35.275239',\n",
       "    'author': 'Unidad de Estadísticas y Estudios',\n",
       "    'author_email': 'uee@supereduc.cl',\n",
       "    'state': 'active',\n",
       "    'version': '',\n",
       "    'creator_user_id': 'b3808b10-1afc-40ac-a1c1-473265586622',\n",
       "    'type': 'dataset',\n",
       "    'resources': [{'mimetype': None,\n",
       "      'cache_url': None,\n",
       "      'hash': '',\n",
       "      'description': 'Corresponde al registros de denuncias presentadas ante la Superintendencia de Educación desde el año 2014. La base de datos que se actualiza de forma trimestral detalla aspectos del proceso de cada denuncia, tales como ámbito, tema, subtema, fecha de ingreso, estado actual y la unidad regional correspondiente, ya sea donde se encuentra (si sigue activa) o donde se resolvió. También se incluyen datos sobre los ciudadanos que hicieron el requerimiento y los afectados, además de información de los establecimientos educacionales y/o entidades sostenedoras involucradas.',\n",
       "      'name': 'Denuncias',\n",
       "      'created': '2024-07-01T16:01:52.502703',\n",
       "      'url': 'https://www.supereduc.cl/denuncias-ingresadas/',\n",
       "      'datastore_active': False,\n",
       "      'format': '.csv',\n",
       "      'package_id': '46910a22-0a89-427f-b565-2a71ee5aa314',\n",
       "      'id': 'ab6b4416-40e7-4840-8123-f952c43529d1',\n",
       "      'cache_last_updated': None,\n",
       "      'state': 'active',\n",
       "      'mimetype_inner': None,\n",
       "      'last_modified': None,\n",
       "      'position': 0,\n",
       "      'revision_id': 'd6c7e6f9-f3bf-42cc-a8e8-92895cf12d80',\n",
       "      'url_type': None,\n",
       "      'datastore_contains_all_records_of_source_file': 'False',\n",
       "      'resource_type': None,\n",
       "      'size': None}],\n",
       "    'num_resources': 1,\n",
       "    'tags': [{'vocabulary_id': None,\n",
       "      'state': 'active',\n",
       "      'display_name': 'Convivencia Escolar',\n",
       "      'id': '54fb9490-377c-4389-83a1-78540b1a228d',\n",
       "      'name': 'Convivencia Escolar'},\n",
       "     {'vocabulary_id': None,\n",
       "      'state': 'active',\n",
       "      'display_name': 'Denuncias',\n",
       "      'id': '8cc54779-40d5-4f92-8645-4a4d0210aee4',\n",
       "      'name': 'Denuncias'},\n",
       "     {'vocabulary_id': None,\n",
       "      'state': 'active',\n",
       "      'display_name': 'Educación Escolar',\n",
       "      'id': '17cb8817-1a0e-49f4-940f-a8c559a35b03',\n",
       "      'name': 'Educación Escolar'},\n",
       "     {'vocabulary_id': None,\n",
       "      'state': 'active',\n",
       "      'display_name': 'Educación Parvularia',\n",
       "      'id': '2bc4833c-c356-4b0f-ab42-56a518ae4ebf',\n",
       "      'name': 'Educación Parvularia'},\n",
       "     {'vocabulary_id': None,\n",
       "      'state': 'active',\n",
       "      'display_name': 'SIE',\n",
       "      'id': '665c11f7-be71-402f-9cc6-6453691fea5f',\n",
       "      'name': 'SIE'},\n",
       "     {'vocabulary_id': None,\n",
       "      'state': 'active',\n",
       "      'display_name': 'Supereduc',\n",
       "      'id': '9f33603d-449c-415e-a3f0-796002477ee7',\n",
       "      'name': 'Supereduc'},\n",
       "     {'vocabulary_id': None,\n",
       "      'state': 'active',\n",
       "      'display_name': 'Superintendencia de Educación',\n",
       "      'id': 'e8e37b1d-b6ef-4b5a-a86e-1aa50ab0669c',\n",
       "      'name': 'Superintendencia de Educación'}],\n",
       "    'groups': [{'display_name': 'Concurso Transparenta',\n",
       "      'description': '',\n",
       "      'image_display_url': 'https://datos.gob.cl/uploads/group/2024-07-24-153420.618809Transparenta.jpg',\n",
       "      'title': 'Concurso Transparenta',\n",
       "      'id': 'b47267f5-72f2-45c8-a7c0-9af7388cec4f',\n",
       "      'name': 'concurso-transparenta'}],\n",
       "    'license_id': 'cc-by',\n",
       "    'relationships_as_subject': [],\n",
       "    'organization': {'description': '',\n",
       "     'created': '2024-06-13T19:50:07.395018',\n",
       "     'title': 'Superintendencia de Educación',\n",
       "     'name': 'superintendencia-de-educacion',\n",
       "     'is_organization': True,\n",
       "     'state': 'active',\n",
       "     'image_url': '',\n",
       "     'revision_id': 'f154ecf6-b3eb-4d97-a777-76d00da091bf',\n",
       "     'type': 'organization',\n",
       "     'id': 'a6ab8f38-9663-4301-b9ef-247322e64ec6',\n",
       "     'approval_status': 'approved'},\n",
       "    'name': 'denuncias',\n",
       "    'isopen': True,\n",
       "    'url': '',\n",
       "    'notes': 'En este módulo se encuentran los registros de denuncias presentadas ante la Superintendencia de Educación desde el año 2014. La base de datos que se actualiza de forma trimestral, detalla aspectos del proceso de cada denuncia, tales como ámbito, tema, subtema, fecha de ingreso, estado actual y la unidad regional correspondiente, ya sea donde se encuentra (si sigue activa) o donde se resolvió. También se incluyen algunos datos de caracterización sobre los ciudadanos que hicieron el requerimiento y los afectados, además de información de los establecimientos educacionales y/o entidades sostenedoras involucradas.',\n",
       "    'owner_org': 'a6ab8f38-9663-4301-b9ef-247322e64ec6',\n",
       "    'extras': [],\n",
       "    'license_url': 'http://www.opendefinition.org/licenses/cc-by',\n",
       "    'title': 'Denuncias',\n",
       "    'revision_id': '76e11de7-e2a4-4f41-8b71-99aabfd90ff6'}],\n",
       "  'search_facets': {}}}"
      ]
     },
     "execution_count": 22,
     "metadata": {},
     "output_type": "execute_result"
    }
   ],
   "source": [
    "response"
   ]
  },
  {
   "cell_type": "code",
   "execution_count": 2,
   "metadata": {},
   "outputs": [
    {
     "data": {
      "text/plain": [
       "'Hay 20 sets de datos disponibles para analizar en el concurso'"
      ]
     },
     "metadata": {},
     "output_type": "display_data"
    }
   ],
   "source": [
    "num_datasets: int = response['result']['count']\n",
    "display(f'Hay {num_datasets} sets de datos disponibles para analizar en el concurso')"
   ]
  },
  {
   "cell_type": "code",
   "execution_count": 12,
   "metadata": {},
   "outputs": [],
   "source": [
    "results:list = response['result']['results']"
   ]
  },
  {
   "cell_type": "code",
   "execution_count": 15,
   "metadata": {},
   "outputs": [
    {
     "data": {
      "text/plain": [
       "'defunciones-por-covid19'"
      ]
     },
     "metadata": {},
     "output_type": "display_data"
    },
    {
     "data": {
      "text/plain": [
       "'ejecucion-presupuestaria-de-iniciativas-de-inversion-acumulado-2024'"
      ]
     },
     "metadata": {},
     "output_type": "display_data"
    },
    {
     "data": {
      "text/plain": [
       "'ejecucion-presupuestaria-a-mayo-de-2024-del-gobierno-central'"
      ]
     },
     "metadata": {},
     "output_type": "display_data"
    },
    {
     "data": {
      "text/plain": [
       "'atenciones-de-urgencia-causas-respiratorias'"
      ]
     },
     "metadata": {},
     "output_type": "display_data"
    },
    {
     "data": {
      "text/plain": [
       "'establecimientos-de-salud-vigentes'"
      ]
     },
     "metadata": {},
     "output_type": "display_data"
    },
    {
     "data": {
      "text/plain": [
       "'decima-encuesta-nacional-de-la-juventud'"
      ]
     },
     "metadata": {},
     "output_type": "display_data"
    },
    {
     "data": {
      "text/plain": [
       "'10ma-encuesta-nacional-de-juventud'"
      ]
     },
     "metadata": {},
     "output_type": "display_data"
    },
    {
     "data": {
      "text/plain": [
       "'destinatarios-finales-de-residuos-no-peligrosos-2022'"
      ]
     },
     "metadata": {},
     "output_type": "display_data"
    },
    {
     "data": {
      "text/plain": [
       "'farmacias-en-chile'"
      ]
     },
     "metadata": {},
     "output_type": "display_data"
    },
    {
     "data": {
      "text/plain": [
       "'denuncias'"
      ]
     },
     "metadata": {},
     "output_type": "display_data"
    }
   ],
   "source": [
    "for result in results:\n",
    "    display(result['name'])"
   ]
  },
  {
   "cell_type": "code",
   "execution_count": 4,
   "metadata": {},
   "outputs": [
    {
     "data": {
      "text/plain": [
       "'Hay 10 resultados en la respuesta'"
      ]
     },
     "metadata": {},
     "output_type": "display_data"
    },
    {
     "data": {
      "text/plain": [
       "'Hay un total de 29 recursos'"
      ]
     },
     "metadata": {},
     "output_type": "display_data"
    },
    {
     "data": {
      "text/plain": [
       "'El resultado nº1 tiene 12 recurso(s)'"
      ]
     },
     "metadata": {},
     "output_type": "display_data"
    },
    {
     "data": {
      "text/plain": [
       "'El resultado nº2 tiene 5 recurso(s)'"
      ]
     },
     "metadata": {},
     "output_type": "display_data"
    },
    {
     "data": {
      "text/plain": [
       "'El resultado nº3 tiene 2 recurso(s)'"
      ]
     },
     "metadata": {},
     "output_type": "display_data"
    },
    {
     "data": {
      "text/plain": [
       "'El resultado nº4 tiene 2 recurso(s)'"
      ]
     },
     "metadata": {},
     "output_type": "display_data"
    },
    {
     "data": {
      "text/plain": [
       "'El resultado nº5 tiene 1 recurso(s)'"
      ]
     },
     "metadata": {},
     "output_type": "display_data"
    },
    {
     "data": {
      "text/plain": [
       "'El resultado nº6 tiene 1 recurso(s)'"
      ]
     },
     "metadata": {},
     "output_type": "display_data"
    },
    {
     "data": {
      "text/plain": [
       "'El resultado nº7 tiene 2 recurso(s)'"
      ]
     },
     "metadata": {},
     "output_type": "display_data"
    },
    {
     "data": {
      "text/plain": [
       "'El resultado nº8 tiene 1 recurso(s)'"
      ]
     },
     "metadata": {},
     "output_type": "display_data"
    },
    {
     "data": {
      "text/plain": [
       "'El resultado nº9 tiene 2 recurso(s)'"
      ]
     },
     "metadata": {},
     "output_type": "display_data"
    },
    {
     "data": {
      "text/plain": [
       "'El resultado nº10 tiene 1 recurso(s)'"
      ]
     },
     "metadata": {},
     "output_type": "display_data"
    }
   ],
   "source": [
    "display(f\"Hay {len(results)} resultados en la respuesta\")\n",
    "\n",
    "resources = [result['resources'] for result in results]\n",
    "\n",
    "display(f\"Hay un total de {sum([len(resource) for resource in resources])} recursos\")\n",
    "\n",
    "for n, resource in enumerate(resources):\n",
    "    display(f\"El resultado nº{n+1} tiene {len(resource)} recurso(s)\")\n",
    "\n",
    "\n"
   ]
  },
  {
   "cell_type": "markdown",
   "metadata": {},
   "source": [
    "Es muy extraño, porque se supone que hay solamente 20 sets de datos. Esto también se puede evidenciar en el sitio web.\n",
    "\n",
    "Lo más probable es que no estén todos los sets de datos publicados.\n",
    "\n",
    "Ahora debemos buscar una forma de organizar la información y diferenciar entre sets publicados y no publicados."
   ]
  },
  {
   "cell_type": "code",
   "execution_count": 5,
   "metadata": {},
   "outputs": [],
   "source": [
    "# First, we will flatten the resources\n",
    "from itertools import chain\n",
    "\n",
    "resources_flatten = list(chain.from_iterable(resources))\n",
    "\n"
   ]
  },
  {
   "cell_type": "code",
   "execution_count": 6,
   "metadata": {},
   "outputs": [
    {
     "data": {
      "text/plain": [
       "'El recurso nº 1 tiene 27 atributo(s)'"
      ]
     },
     "metadata": {},
     "output_type": "display_data"
    },
    {
     "data": {
      "text/plain": [
       "'El recurso nº 2 tiene 21 atributo(s)'"
      ]
     },
     "metadata": {},
     "output_type": "display_data"
    },
    {
     "data": {
      "text/plain": [
       "'El recurso nº 3 tiene 21 atributo(s)'"
      ]
     },
     "metadata": {},
     "output_type": "display_data"
    },
    {
     "data": {
      "text/plain": [
       "'El recurso nº 4 tiene 27 atributo(s)'"
      ]
     },
     "metadata": {},
     "output_type": "display_data"
    },
    {
     "data": {
      "text/plain": [
       "'El recurso nº 5 tiene 27 atributo(s)'"
      ]
     },
     "metadata": {},
     "output_type": "display_data"
    },
    {
     "data": {
      "text/plain": [
       "'El recurso nº 6 tiene 21 atributo(s)'"
      ]
     },
     "metadata": {},
     "output_type": "display_data"
    },
    {
     "data": {
      "text/plain": [
       "'El recurso nº 7 tiene 27 atributo(s)'"
      ]
     },
     "metadata": {},
     "output_type": "display_data"
    },
    {
     "data": {
      "text/plain": [
       "'El recurso nº 8 tiene 27 atributo(s)'"
      ]
     },
     "metadata": {},
     "output_type": "display_data"
    },
    {
     "data": {
      "text/plain": [
       "'El recurso nº 9 tiene 27 atributo(s)'"
      ]
     },
     "metadata": {},
     "output_type": "display_data"
    },
    {
     "data": {
      "text/plain": [
       "'El recurso nº 10 tiene 21 atributo(s)'"
      ]
     },
     "metadata": {},
     "output_type": "display_data"
    },
    {
     "data": {
      "text/plain": [
       "'El recurso nº 11 tiene 27 atributo(s)'"
      ]
     },
     "metadata": {},
     "output_type": "display_data"
    },
    {
     "data": {
      "text/plain": [
       "'El recurso nº 12 tiene 21 atributo(s)'"
      ]
     },
     "metadata": {},
     "output_type": "display_data"
    },
    {
     "data": {
      "text/plain": [
       "'El recurso nº 13 tiene 27 atributo(s)'"
      ]
     },
     "metadata": {},
     "output_type": "display_data"
    },
    {
     "data": {
      "text/plain": [
       "'El recurso nº 14 tiene 27 atributo(s)'"
      ]
     },
     "metadata": {},
     "output_type": "display_data"
    },
    {
     "data": {
      "text/plain": [
       "'El recurso nº 15 tiene 27 atributo(s)'"
      ]
     },
     "metadata": {},
     "output_type": "display_data"
    },
    {
     "data": {
      "text/plain": [
       "'El recurso nº 16 tiene 27 atributo(s)'"
      ]
     },
     "metadata": {},
     "output_type": "display_data"
    },
    {
     "data": {
      "text/plain": [
       "'El recurso nº 17 tiene 27 atributo(s)'"
      ]
     },
     "metadata": {},
     "output_type": "display_data"
    },
    {
     "data": {
      "text/plain": [
       "'El recurso nº 18 tiene 21 atributo(s)'"
      ]
     },
     "metadata": {},
     "output_type": "display_data"
    },
    {
     "data": {
      "text/plain": [
       "'El recurso nº 19 tiene 27 atributo(s)'"
      ]
     },
     "metadata": {},
     "output_type": "display_data"
    },
    {
     "data": {
      "text/plain": [
       "'El recurso nº 20 tiene 27 atributo(s)'"
      ]
     },
     "metadata": {},
     "output_type": "display_data"
    },
    {
     "data": {
      "text/plain": [
       "'El recurso nº 21 tiene 21 atributo(s)'"
      ]
     },
     "metadata": {},
     "output_type": "display_data"
    },
    {
     "data": {
      "text/plain": [
       "'El recurso nº 22 tiene 21 atributo(s)'"
      ]
     },
     "metadata": {},
     "output_type": "display_data"
    },
    {
     "data": {
      "text/plain": [
       "'El recurso nº 23 tiene 21 atributo(s)'"
      ]
     },
     "metadata": {},
     "output_type": "display_data"
    },
    {
     "data": {
      "text/plain": [
       "'El recurso nº 24 tiene 21 atributo(s)'"
      ]
     },
     "metadata": {},
     "output_type": "display_data"
    },
    {
     "data": {
      "text/plain": [
       "'El recurso nº 25 tiene 27 atributo(s)'"
      ]
     },
     "metadata": {},
     "output_type": "display_data"
    },
    {
     "data": {
      "text/plain": [
       "'El recurso nº 26 tiene 27 atributo(s)'"
      ]
     },
     "metadata": {},
     "output_type": "display_data"
    },
    {
     "data": {
      "text/plain": [
       "'El recurso nº 27 tiene 21 atributo(s)'"
      ]
     },
     "metadata": {},
     "output_type": "display_data"
    },
    {
     "data": {
      "text/plain": [
       "'El recurso nº 28 tiene 21 atributo(s)'"
      ]
     },
     "metadata": {},
     "output_type": "display_data"
    },
    {
     "data": {
      "text/plain": [
       "'El recurso nº 29 tiene 21 atributo(s)'"
      ]
     },
     "metadata": {},
     "output_type": "display_data"
    }
   ],
   "source": [
    "for n, resource in enumerate(resources_flatten):\n",
    "    display(f\"El recurso nº {n +1} tiene {len(resource.keys())} atributo(s)\")"
   ]
  },
  {
   "cell_type": "code",
   "execution_count": 7,
   "metadata": {},
   "outputs": [],
   "source": [
    "from collections import Counter\n",
    "\n",
    "all_keys = [key for dict in resources_flatten for key in dict.keys()]\n",
    "\n",
    "key_counts = Counter(all_keys)\n",
    "\n"
   ]
  },
  {
   "cell_type": "code",
   "execution_count": 8,
   "metadata": {},
   "outputs": [
    {
     "data": {
      "text/plain": [
       "{'cache_last_updated': 29,\n",
       " 'package_id': 29,\n",
       " 'datastore_contains_all_records_of_source_file': 29,\n",
       " 'datastore_active': 29,\n",
       " 'id': 29,\n",
       " 'size': 29,\n",
       " 'state': 29,\n",
       " 'hash': 29,\n",
       " 'description': 29,\n",
       " 'format': 29,\n",
       " 'mimetype_inner': 29,\n",
       " 'url_type': 29,\n",
       " 'mimetype': 29,\n",
       " 'cache_url': 29,\n",
       " 'name': 29,\n",
       " 'created': 29,\n",
       " 'url': 29,\n",
       " 'last_modified': 29,\n",
       " 'position': 29,\n",
       " 'revision_id': 29,\n",
       " 'resource_type': 29,\n",
       " 'original_url': 16,\n",
       " 'resource_id': 16,\n",
       " 'set_url_type': 16,\n",
       " 'ignore_hash': 16,\n",
       " 'ckan_url': 16,\n",
       " 'task_created': 16}"
      ]
     },
     "execution_count": 8,
     "metadata": {},
     "output_type": "execute_result"
    }
   ],
   "source": [
    "key_counts_sorted = dict(sorted(key_counts.items(), key=lambda item: item[1], reverse=True))\n",
    "key_counts_sorted"
   ]
  },
  {
   "cell_type": "code",
   "execution_count": 9,
   "metadata": {},
   "outputs": [],
   "source": [
    "import pandas as pd\n",
    "\n",
    "\n",
    "\n",
    "\n",
    "df = pd.DataFrame.from_records(resources_flatten, columns=['cache_last_updated','package_id','datastore_contains_all_records_of_source_file','datastore_active','id','size','state','hash','description','format','mimetype_inner','url_type','mimetype','cache_url','name','created','url','last_modified','position','revision_id','resource_type'])"
   ]
  },
  {
   "cell_type": "code",
   "execution_count": 10,
   "metadata": {},
   "outputs": [],
   "source": [
    "df.to_csv(\"../data/external/datasets_unfiltered.csv\")"
   ]
  }
 ],
 "metadata": {
  "kernelspec": {
   "display_name": "Python 3",
   "language": "python",
   "name": "python3"
  },
  "language_info": {
   "codemirror_mode": {
    "name": "ipython",
    "version": 3
   },
   "file_extension": ".py",
   "mimetype": "text/x-python",
   "name": "python",
   "nbconvert_exporter": "python",
   "pygments_lexer": "ipython3",
   "version": "3.12.4"
  }
 },
 "nbformat": 4,
 "nbformat_minor": 2
}

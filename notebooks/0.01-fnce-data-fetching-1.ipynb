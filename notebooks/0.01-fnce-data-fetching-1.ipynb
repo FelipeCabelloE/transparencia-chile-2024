{
 "cells": [
  {
   "cell_type": "markdown",
   "metadata": {},
   "source": [
    "# Primer notebook exploratorio de datos\n",
    "\n",
    "Este es el primer notebook exploratorio de datos para el concurso de transparencia de datos del gobierno de Chile 2024."
   ]
  },
  {
   "cell_type": "markdown",
   "metadata": {},
   "source": [
    "El primer paso es ir a buscar la información a la api rest del gobierno en https://datos.gob.cl"
   ]
  },
  {
   "cell_type": "code",
   "execution_count": 3,
   "metadata": {},
   "outputs": [],
   "source": [
    "import requests\n",
    "\n",
    "# La api rest utiliza el estandar ckan (https://docs.ckan.org/en/2.8/api/)\n",
    "api_url = \"https://datos.gob.cl/api/3/action/package_search?fq=groups:concurso-transparenta\"\n",
    "\n",
    "response = requests.get(api_url)\n",
    "response: dict = response.json()"
   ]
  },
  {
   "cell_type": "code",
   "execution_count": 10,
   "metadata": {},
   "outputs": [
    {
     "data": {
      "text/plain": [
       "'Hay 20 sets de datos disponibles para analizar en el concurso'"
      ]
     },
     "metadata": {},
     "output_type": "display_data"
    }
   ],
   "source": [
    "num_datasets: int = response['result']['count']\n",
    "display(f'Hay {num_datasets} sets de datos disponibles para analizar en el concurso')"
   ]
  },
  {
   "cell_type": "code",
   "execution_count": null,
   "metadata": {},
   "outputs": [],
   "source": []
  }
 ],
 "metadata": {
  "kernelspec": {
   "display_name": "Python 3",
   "language": "python",
   "name": "python3"
  },
  "language_info": {
   "codemirror_mode": {
    "name": "ipython",
    "version": 3
   },
   "file_extension": ".py",
   "mimetype": "text/x-python",
   "name": "python",
   "nbconvert_exporter": "python",
   "pygments_lexer": "ipython3",
   "version": "3.12.3"
  }
 },
 "nbformat": 4,
 "nbformat_minor": 2
}
